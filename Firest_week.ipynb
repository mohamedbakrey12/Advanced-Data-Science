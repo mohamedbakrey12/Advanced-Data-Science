{
  "nbformat": 4,
  "nbformat_minor": 0,
  "metadata": {
    "colab": {
      "provenance": [],
      "authorship_tag": "ABX9TyPTJtoPiaog2pHrnEMFhrbS",
      "include_colab_link": true
    },
    "kernelspec": {
      "name": "python3",
      "display_name": "Python 3"
    },
    "language_info": {
      "name": "python"
    }
  },
  "cells": [
    {
      "cell_type": "markdown",
      "metadata": {
        "id": "view-in-github",
        "colab_type": "text"
      },
      "source": [
        "<a href=\"https://colab.research.google.com/github/mohamedbakrey12/Advanced-Data-Science/blob/master/Firest_week.ipynb\" target=\"_parent\"><img src=\"https://colab.research.google.com/assets/colab-badge.svg\" alt=\"Open In Colab\"/></a>"
      ]
    },
    {
      "cell_type": "markdown",
      "source": [
        "### Module 1: Working with Jupyter Notebooks"
      ],
      "metadata": {
        "id": "kosZUEPkTBoi"
      }
    },
    {
      "cell_type": "markdown",
      "source": [
        "##### 1.1 Running Jupyter Notebook"
      ],
      "metadata": {
        "id": "Vm722HOkTHbV"
      }
    },
    {
      "cell_type": "code",
      "execution_count": 2,
      "metadata": {
        "id": "KuW2BhsybU5-"
      },
      "outputs": [],
      "source": []
    },
    {
      "cell_type": "code",
      "source": [],
      "metadata": {
        "id": "d63tEqLjTFlm"
      },
      "execution_count": null,
      "outputs": []
    }
  ]
}
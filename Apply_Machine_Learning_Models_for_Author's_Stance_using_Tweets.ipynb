{
  "metadata": {
    "colab": {
      "provenance": [],
      "include_colab_link": true
    },
    "kernelspec": {
      "name": "python3",
      "display_name": "Python 3",
      "language": "python"
    },
    "language_info": {
      "name": "python",
      "version": "3.10.12",
      "mimetype": "text/x-python",
      "codemirror_mode": {
        "name": "ipython",
        "version": 3
      },
      "pygments_lexer": "ipython3",
      "nbconvert_exporter": "python",
      "file_extension": ".py"
    },
    "kaggle": {
      "accelerator": "gpu",
      "dataSources": [
        {
          "sourceId": 6617418,
          "sourceType": "datasetVersion",
          "datasetId": 3819093
        }
      ],
      "dockerImageVersionId": 30636,
      "isInternetEnabled": true,
      "language": "python",
      "sourceType": "notebook",
      "isGpuEnabled": true
    }
  },
  "nbformat_minor": 0,
  "nbformat": 4,
  "cells": [
    {
      "cell_type": "markdown",
      "metadata": {
        "id": "view-in-github",
        "colab_type": "text"
      },
      "source": [
        "<a href=\"https://colab.research.google.com/github/mohamedbakrey12/Advanced-Data-Science/blob/master/Apply_Machine_Learning_Models_for_Author's_Stance_using_Tweets.ipynb\" target=\"_parent\"><img src=\"https://colab.research.google.com/assets/colab-badge.svg\" alt=\"Open In Colab\"/></a>"
      ]
    },
    {
      "cell_type": "markdown",
      "source": [
        "# Introduction\n",
        "   In this project I work for classification model for Author's Stance using Tweets\n",
        "\n",
        "### Project Pipeline\n",
        "\n",
        "1. Loading the library\n",
        "2. Loading Dataset\n",
        "3. Data pre-Processing\n",
        "4. Applying the Model Machine Learning\n",
        "     1. Applying Logistic Regression\n",
        "     2. Applying Random Forest Classifier\n",
        "     3. Applying Decision Tree"
      ],
      "metadata": {
        "id": "pbOzZMY70WpW"
      }
    },
    {
      "cell_type": "markdown",
      "source": [
        "# 1. Loading Library"
      ],
      "metadata": {
        "id": "7SNoKdoh0kI-"
      }
    },
    {
      "cell_type": "code",
      "source": [
        "# Using this for working with dataset\n",
        "import pandas as pd\n",
        "import numpy as np\n",
        "import matplotlib.pyplot as plt\n",
        "import seaborn as sns\n",
        "import re\n",
        "import nltk\n",
        "nltk.download('stopwords')\n",
        "from nltk.corpus import stopwords\n",
        "from nltk.stem import SnowballStemmer\n",
        "\n",
        "\n",
        "# Spliting the data\n",
        "from sklearn.model_selection import train_test_split\n",
        "\n",
        "\n",
        "# Using this library for transform the data into numeric\n",
        "from sklearn.feature_extraction.text import TfidfVectorizer\n",
        "from sklearn.preprocessing import LabelEncoder\n",
        "\n",
        "# Modeling machine learning\n",
        "from sklearn.linear_model import LogisticRegression\n",
        "\n",
        "\n",
        "# For Metrics, to check the model evaluation\n",
        "from sklearn.metrics import f1_score\n",
        "from sklearn.metrics import recall_score\n",
        "from sklearn.metrics import precision_score\n",
        "from sklearn.metrics import precision_recall_fscore_support\n",
        "from sklearn.metrics import precision_recall_curve\n",
        "from sklearn.metrics import classification_report\n",
        "from sklearn.metrics import confusion_matrix\n",
        "from sklearn.metrics import mean_absolute_error\n",
        "from sklearn.metrics import mean_squared_error\n",
        "from sklearn.metrics import median_absolute_error\n",
        "from sklearn.metrics import accuracy_score\n",
        "from sklearn.metrics import roc_curve, auc\n",
        "from matplotlib import pyplot\n",
        "\n",
        "# Saving the Model\n",
        "import pickle\n",
        "# loading the model\n",
        "from keras.models import load_model"
      ],
      "metadata": {
        "colab": {
          "base_uri": "https://localhost:8080/"
        },
        "id": "va9lNKtKztQh",
        "outputId": "6a89da8f-becc-4135-b430-f050aee389e5",
        "execution": {
          "iopub.status.busy": "2024-01-17T21:34:50.156142Z",
          "iopub.execute_input": "2024-01-17T21:34:50.156760Z",
          "iopub.status.idle": "2024-01-17T21:35:02.806126Z",
          "shell.execute_reply.started": "2024-01-17T21:34:50.156728Z",
          "shell.execute_reply": "2024-01-17T21:35:02.805142Z"
        },
        "trusted": true
      },
      "execution_count": null,
      "outputs": [
        {
          "output_type": "stream",
          "name": "stderr",
          "text": [
            "[nltk_data] Downloading package stopwords to /root/nltk_data...\n",
            "[nltk_data]   Unzipping corpora/stopwords.zip.\n"
          ]
        }
      ]
    },
    {
      "cell_type": "markdown",
      "source": [
        "# 2. Read the dataset"
      ],
      "metadata": {
        "id": "E2mbd3oa5F_r"
      }
    },
    {
      "cell_type": "code",
      "source": [
        "# Here read the read the data by using pandas li')\n",
        "# Show the first 10 rows\n",
        "df=pd.read_csv('/content/train.csv')\n",
        "df.head(10)"
      ],
      "metadata": {
        "colab": {
          "base_uri": "https://localhost:8080/",
          "height": 921
        },
        "id": "oDTzWwANz9ec",
        "outputId": "ec46f1ba-9396-4db9-9d92-0758b51c64a5",
        "execution": {
          "iopub.status.busy": "2024-01-17T21:35:08.757591Z",
          "iopub.execute_input": "2024-01-17T21:35:08.758245Z",
          "iopub.status.idle": "2024-01-17T21:35:08.865761Z",
          "shell.execute_reply.started": "2024-01-17T21:35:08.758212Z",
          "shell.execute_reply": "2024-01-17T21:35:08.864852Z"
        },
        "trusted": true
      },
      "execution_count": null,
      "outputs": [
        {
          "output_type": "execute_result",
          "data": {
            "text/plain": [
              "   id                                               text             target  \\\n",
              "0   0    ما أرآه ولله الحمد من تمكين للمرأة يدل على أ...  Women empowerment   \n",
              "1   1  انا لو يخيروني اخذ التطعيم عشان اسافر ولا اتم ...      Covid Vaccine   \n",
              "2   2  MENTION تطعيم لكل الناس لمرض نسبة الشفاء منه ٩...      Covid Vaccine   \n",
              "3   3  \"المملكة جادة جدا في دعم ملف تمكين المرأة\".. و...  Women empowerment   \n",
              "4   4   اقسم الله اللي يصير يضيق الصدر.. معقولة كثير ...  Women empowerment   \n",
              "5   5   يسلمك ربي من كل شر يا بو يعقوب 🌷 هذا اللي أخذ...      Covid Vaccine   \n",
              "6   6  #نساء_المستقبل | نبارك لسعادة الدكتورة #تهاني_...  Women empowerment   \n",
              "7   7  تسعى حكومتنا-حفظها الله- إلى تمكين المرأة من ا...  Women empowerment   \n",
              "8   8  سبحان الله ☝️ اخس البقر يتكلمون انتي ي حثله ال...  Women empowerment   \n",
              "9   9   عادي اتذكر كنا في مركز تطعيم كورونا قبل سنه و...      Covid Vaccine   \n",
              "\n",
              "    stance sarcasm sentiment                   datetime  \n",
              "0    Favor      No  Positive  2021-04-22 17:07:51+00:00  \n",
              "1  Against      No   Neutral  2020-12-10 19:19:24+00:00  \n",
              "2  Against      No  Negative  2021-06-01 11:32:31+00:00  \n",
              "3    Favor      No   Neutral  2021-01-16 07:35:18+00:00  \n",
              "4  Against      No  Negative  2020-12-17 07:18:31+00:00  \n",
              "5     None      No   Neutral  2021-12-12 06:47:32+00:00  \n",
              "6    Favor      No  Positive  2021-10-02 13:53:44+00:00  \n",
              "7    Favor      No  Positive  2022-01-21 10:46:44+00:00  \n",
              "8  Against      No  Negative  2021-02-15 10:53:27+00:00  \n",
              "9    Favor      No   Neutral  2022-04-15 13:42:23+00:00  "
            ],
            "text/html": [
              "\n",
              "  <div id=\"df-fd467670-9b2a-48e6-8100-f0de47026b04\" class=\"colab-df-container\">\n",
              "    <div>\n",
              "<style scoped>\n",
              "    .dataframe tbody tr th:only-of-type {\n",
              "        vertical-align: middle;\n",
              "    }\n",
              "\n",
              "    .dataframe tbody tr th {\n",
              "        vertical-align: top;\n",
              "    }\n",
              "\n",
              "    .dataframe thead th {\n",
              "        text-align: right;\n",
              "    }\n",
              "</style>\n",
              "<table border=\"1\" class=\"dataframe\">\n",
              "  <thead>\n",
              "    <tr style=\"text-align: right;\">\n",
              "      <th></th>\n",
              "      <th>id</th>\n",
              "      <th>text</th>\n",
              "      <th>target</th>\n",
              "      <th>stance</th>\n",
              "      <th>sarcasm</th>\n",
              "      <th>sentiment</th>\n",
              "      <th>datetime</th>\n",
              "    </tr>\n",
              "  </thead>\n",
              "  <tbody>\n",
              "    <tr>\n",
              "      <th>0</th>\n",
              "      <td>0</td>\n",
              "      <td>ما أرآه ولله الحمد من تمكين للمرأة يدل على أ...</td>\n",
              "      <td>Women empowerment</td>\n",
              "      <td>Favor</td>\n",
              "      <td>No</td>\n",
              "      <td>Positive</td>\n",
              "      <td>2021-04-22 17:07:51+00:00</td>\n",
              "    </tr>\n",
              "    <tr>\n",
              "      <th>1</th>\n",
              "      <td>1</td>\n",
              "      <td>انا لو يخيروني اخذ التطعيم عشان اسافر ولا اتم ...</td>\n",
              "      <td>Covid Vaccine</td>\n",
              "      <td>Against</td>\n",
              "      <td>No</td>\n",
              "      <td>Neutral</td>\n",
              "      <td>2020-12-10 19:19:24+00:00</td>\n",
              "    </tr>\n",
              "    <tr>\n",
              "      <th>2</th>\n",
              "      <td>2</td>\n",
              "      <td>MENTION تطعيم لكل الناس لمرض نسبة الشفاء منه ٩...</td>\n",
              "      <td>Covid Vaccine</td>\n",
              "      <td>Against</td>\n",
              "      <td>No</td>\n",
              "      <td>Negative</td>\n",
              "      <td>2021-06-01 11:32:31+00:00</td>\n",
              "    </tr>\n",
              "    <tr>\n",
              "      <th>3</th>\n",
              "      <td>3</td>\n",
              "      <td>\"المملكة جادة جدا في دعم ملف تمكين المرأة\".. و...</td>\n",
              "      <td>Women empowerment</td>\n",
              "      <td>Favor</td>\n",
              "      <td>No</td>\n",
              "      <td>Neutral</td>\n",
              "      <td>2021-01-16 07:35:18+00:00</td>\n",
              "    </tr>\n",
              "    <tr>\n",
              "      <th>4</th>\n",
              "      <td>4</td>\n",
              "      <td>اقسم الله اللي يصير يضيق الصدر.. معقولة كثير ...</td>\n",
              "      <td>Women empowerment</td>\n",
              "      <td>Against</td>\n",
              "      <td>No</td>\n",
              "      <td>Negative</td>\n",
              "      <td>2020-12-17 07:18:31+00:00</td>\n",
              "    </tr>\n",
              "    <tr>\n",
              "      <th>5</th>\n",
              "      <td>5</td>\n",
              "      <td>يسلمك ربي من كل شر يا بو يعقوب 🌷 هذا اللي أخذ...</td>\n",
              "      <td>Covid Vaccine</td>\n",
              "      <td>None</td>\n",
              "      <td>No</td>\n",
              "      <td>Neutral</td>\n",
              "      <td>2021-12-12 06:47:32+00:00</td>\n",
              "    </tr>\n",
              "    <tr>\n",
              "      <th>6</th>\n",
              "      <td>6</td>\n",
              "      <td>#نساء_المستقبل | نبارك لسعادة الدكتورة #تهاني_...</td>\n",
              "      <td>Women empowerment</td>\n",
              "      <td>Favor</td>\n",
              "      <td>No</td>\n",
              "      <td>Positive</td>\n",
              "      <td>2021-10-02 13:53:44+00:00</td>\n",
              "    </tr>\n",
              "    <tr>\n",
              "      <th>7</th>\n",
              "      <td>7</td>\n",
              "      <td>تسعى حكومتنا-حفظها الله- إلى تمكين المرأة من ا...</td>\n",
              "      <td>Women empowerment</td>\n",
              "      <td>Favor</td>\n",
              "      <td>No</td>\n",
              "      <td>Positive</td>\n",
              "      <td>2022-01-21 10:46:44+00:00</td>\n",
              "    </tr>\n",
              "    <tr>\n",
              "      <th>8</th>\n",
              "      <td>8</td>\n",
              "      <td>سبحان الله ☝️ اخس البقر يتكلمون انتي ي حثله ال...</td>\n",
              "      <td>Women empowerment</td>\n",
              "      <td>Against</td>\n",
              "      <td>No</td>\n",
              "      <td>Negative</td>\n",
              "      <td>2021-02-15 10:53:27+00:00</td>\n",
              "    </tr>\n",
              "    <tr>\n",
              "      <th>9</th>\n",
              "      <td>9</td>\n",
              "      <td>عادي اتذكر كنا في مركز تطعيم كورونا قبل سنه و...</td>\n",
              "      <td>Covid Vaccine</td>\n",
              "      <td>Favor</td>\n",
              "      <td>No</td>\n",
              "      <td>Neutral</td>\n",
              "      <td>2022-04-15 13:42:23+00:00</td>\n",
              "    </tr>\n",
              "  </tbody>\n",
              "</table>\n",
              "</div>\n",
              "    <div class=\"colab-df-buttons\">\n",
              "\n",
              "  <div class=\"colab-df-container\">\n",
              "    <button class=\"colab-df-convert\" onclick=\"convertToInteractive('df-fd467670-9b2a-48e6-8100-f0de47026b04')\"\n",
              "            title=\"Convert this dataframe to an interactive table.\"\n",
              "            style=\"display:none;\">\n",
              "\n",
              "  <svg xmlns=\"http://www.w3.org/2000/svg\" height=\"24px\" viewBox=\"0 -960 960 960\">\n",
              "    <path d=\"M120-120v-720h720v720H120Zm60-500h600v-160H180v160Zm220 220h160v-160H400v160Zm0 220h160v-160H400v160ZM180-400h160v-160H180v160Zm440 0h160v-160H620v160ZM180-180h160v-160H180v160Zm440 0h160v-160H620v160Z\"/>\n",
              "  </svg>\n",
              "    </button>\n",
              "\n",
              "  <style>\n",
              "    .colab-df-container {\n",
              "      display:flex;\n",
              "      gap: 12px;\n",
              "    }\n",
              "\n",
              "    .colab-df-convert {\n",
              "      background-color: #E8F0FE;\n",
              "      border: none;\n",
              "      border-radius: 50%;\n",
              "      cursor: pointer;\n",
              "      display: none;\n",
              "      fill: #1967D2;\n",
              "      height: 32px;\n",
              "      padding: 0 0 0 0;\n",
              "      width: 32px;\n",
              "    }\n",
              "\n",
              "    .colab-df-convert:hover {\n",
              "      background-color: #E2EBFA;\n",
              "      box-shadow: 0px 1px 2px rgba(60, 64, 67, 0.3), 0px 1px 3px 1px rgba(60, 64, 67, 0.15);\n",
              "      fill: #174EA6;\n",
              "    }\n",
              "\n",
              "    .colab-df-buttons div {\n",
              "      margin-bottom: 4px;\n",
              "    }\n",
              "\n",
              "    [theme=dark] .colab-df-convert {\n",
              "      background-color: #3B4455;\n",
              "      fill: #D2E3FC;\n",
              "    }\n",
              "\n",
              "    [theme=dark] .colab-df-convert:hover {\n",
              "      background-color: #434B5C;\n",
              "      box-shadow: 0px 1px 3px 1px rgba(0, 0, 0, 0.15);\n",
              "      filter: drop-shadow(0px 1px 2px rgba(0, 0, 0, 0.3));\n",
              "      fill: #FFFFFF;\n",
              "    }\n",
              "  </style>\n",
              "\n",
              "    <script>\n",
              "      const buttonEl =\n",
              "        document.querySelector('#df-fd467670-9b2a-48e6-8100-f0de47026b04 button.colab-df-convert');\n",
              "      buttonEl.style.display =\n",
              "        google.colab.kernel.accessAllowed ? 'block' : 'none';\n",
              "\n",
              "      async function convertToInteractive(key) {\n",
              "        const element = document.querySelector('#df-fd467670-9b2a-48e6-8100-f0de47026b04');\n",
              "        const dataTable =\n",
              "          await google.colab.kernel.invokeFunction('convertToInteractive',\n",
              "                                                    [key], {});\n",
              "        if (!dataTable) return;\n",
              "\n",
              "        const docLinkHtml = 'Like what you see? Visit the ' +\n",
              "          '<a target=\"_blank\" href=https://colab.research.google.com/notebooks/data_table.ipynb>data table notebook</a>'\n",
              "          + ' to learn more about interactive tables.';\n",
              "        element.innerHTML = '';\n",
              "        dataTable['output_type'] = 'display_data';\n",
              "        await google.colab.output.renderOutput(dataTable, element);\n",
              "        const docLink = document.createElement('div');\n",
              "        docLink.innerHTML = docLinkHtml;\n",
              "        element.appendChild(docLink);\n",
              "      }\n",
              "    </script>\n",
              "  </div>\n",
              "\n",
              "\n",
              "<div id=\"df-6b6731cf-c545-427d-bdca-83df2bf3b6e4\">\n",
              "  <button class=\"colab-df-quickchart\" onclick=\"quickchart('df-6b6731cf-c545-427d-bdca-83df2bf3b6e4')\"\n",
              "            title=\"Suggest charts\"\n",
              "            style=\"display:none;\">\n",
              "\n",
              "<svg xmlns=\"http://www.w3.org/2000/svg\" height=\"24px\"viewBox=\"0 0 24 24\"\n",
              "     width=\"24px\">\n",
              "    <g>\n",
              "        <path d=\"M19 3H5c-1.1 0-2 .9-2 2v14c0 1.1.9 2 2 2h14c1.1 0 2-.9 2-2V5c0-1.1-.9-2-2-2zM9 17H7v-7h2v7zm4 0h-2V7h2v10zm4 0h-2v-4h2v4z\"/>\n",
              "    </g>\n",
              "</svg>\n",
              "  </button>\n",
              "\n",
              "<style>\n",
              "  .colab-df-quickchart {\n",
              "      --bg-color: #E8F0FE;\n",
              "      --fill-color: #1967D2;\n",
              "      --hover-bg-color: #E2EBFA;\n",
              "      --hover-fill-color: #174EA6;\n",
              "      --disabled-fill-color: #AAA;\n",
              "      --disabled-bg-color: #DDD;\n",
              "  }\n",
              "\n",
              "  [theme=dark] .colab-df-quickchart {\n",
              "      --bg-color: #3B4455;\n",
              "      --fill-color: #D2E3FC;\n",
              "      --hover-bg-color: #434B5C;\n",
              "      --hover-fill-color: #FFFFFF;\n",
              "      --disabled-bg-color: #3B4455;\n",
              "      --disabled-fill-color: #666;\n",
              "  }\n",
              "\n",
              "  .colab-df-quickchart {\n",
              "    background-color: var(--bg-color);\n",
              "    border: none;\n",
              "    border-radius: 50%;\n",
              "    cursor: pointer;\n",
              "    display: none;\n",
              "    fill: var(--fill-color);\n",
              "    height: 32px;\n",
              "    padding: 0;\n",
              "    width: 32px;\n",
              "  }\n",
              "\n",
              "  .colab-df-quickchart:hover {\n",
              "    background-color: var(--hover-bg-color);\n",
              "    box-shadow: 0 1px 2px rgba(60, 64, 67, 0.3), 0 1px 3px 1px rgba(60, 64, 67, 0.15);\n",
              "    fill: var(--button-hover-fill-color);\n",
              "  }\n",
              "\n",
              "  .colab-df-quickchart-complete:disabled,\n",
              "  .colab-df-quickchart-complete:disabled:hover {\n",
              "    background-color: var(--disabled-bg-color);\n",
              "    fill: var(--disabled-fill-color);\n",
              "    box-shadow: none;\n",
              "  }\n",
              "\n",
              "  .colab-df-spinner {\n",
              "    border: 2px solid var(--fill-color);\n",
              "    border-color: transparent;\n",
              "    border-bottom-color: var(--fill-color);\n",
              "    animation:\n",
              "      spin 1s steps(1) infinite;\n",
              "  }\n",
              "\n",
              "  @keyframes spin {\n",
              "    0% {\n",
              "      border-color: transparent;\n",
              "      border-bottom-color: var(--fill-color);\n",
              "      border-left-color: var(--fill-color);\n",
              "    }\n",
              "    20% {\n",
              "      border-color: transparent;\n",
              "      border-left-color: var(--fill-color);\n",
              "      border-top-color: var(--fill-color);\n",
              "    }\n",
              "    30% {\n",
              "      border-color: transparent;\n",
              "      border-left-color: var(--fill-color);\n",
              "      border-top-color: var(--fill-color);\n",
              "      border-right-color: var(--fill-color);\n",
              "    }\n",
              "    40% {\n",
              "      border-color: transparent;\n",
              "      border-right-color: var(--fill-color);\n",
              "      border-top-color: var(--fill-color);\n",
              "    }\n",
              "    60% {\n",
              "      border-color: transparent;\n",
              "      border-right-color: var(--fill-color);\n",
              "    }\n",
              "    80% {\n",
              "      border-color: transparent;\n",
              "      border-right-color: var(--fill-color);\n",
              "      border-bottom-color: var(--fill-color);\n",
              "    }\n",
              "    90% {\n",
              "      border-color: transparent;\n",
              "      border-bottom-color: var(--fill-color);\n",
              "    }\n",
              "  }\n",
              "</style>\n",
              "\n",
              "  <script>\n",
              "    async function quickchart(key) {\n",
              "      const quickchartButtonEl =\n",
              "        document.querySelector('#' + key + ' button');\n",
              "      quickchartButtonEl.disabled = true;  // To prevent multiple clicks.\n",
              "      quickchartButtonEl.classList.add('colab-df-spinner');\n",
              "      try {\n",
              "        const charts = await google.colab.kernel.invokeFunction(\n",
              "            'suggestCharts', [key], {});\n",
              "      } catch (error) {\n",
              "        console.error('Error during call to suggestCharts:', error);\n",
              "      }\n",
              "      quickchartButtonEl.classList.remove('colab-df-spinner');\n",
              "      quickchartButtonEl.classList.add('colab-df-quickchart-complete');\n",
              "    }\n",
              "    (() => {\n",
              "      let quickchartButtonEl =\n",
              "        document.querySelector('#df-6b6731cf-c545-427d-bdca-83df2bf3b6e4 button');\n",
              "      quickchartButtonEl.style.display =\n",
              "        google.colab.kernel.accessAllowed ? 'block' : 'none';\n",
              "    })();\n",
              "  </script>\n",
              "</div>\n",
              "\n",
              "    </div>\n",
              "  </div>\n"
            ],
            "application/vnd.google.colaboratory.intrinsic+json": {
              "type": "dataframe",
              "variable_name": "df",
              "repr_error": "'str' object has no attribute 'empty'"
            }
          },
          "metadata": {},
          "execution_count": 3
        }
      ]
    },
    {
      "cell_type": "markdown",
      "source": [
        "###  Check the data"
      ],
      "metadata": {
        "id": "xWj9uGbU5XhC"
      }
    },
    {
      "cell_type": "code",
      "source": [
        "# Drop Null value\n",
        "df.dropna(inplace=True)"
      ],
      "metadata": {
        "execution": {
          "iopub.status.busy": "2024-01-17T21:42:08.604452Z",
          "iopub.execute_input": "2024-01-17T21:42:08.605156Z",
          "iopub.status.idle": "2024-01-17T21:42:08.613363Z",
          "shell.execute_reply.started": "2024-01-17T21:42:08.605123Z",
          "shell.execute_reply": "2024-01-17T21:42:08.612472Z"
        },
        "trusted": true,
        "id": "8wagu5B5jmcl"
      },
      "execution_count": null,
      "outputs": []
    },
    {
      "cell_type": "code",
      "source": [
        "# Check the nulls values and after clean the null value\n",
        "df.isna().sum()"
      ],
      "metadata": {
        "colab": {
          "base_uri": "https://localhost:8080/"
        },
        "id": "BsQa5gon02-P",
        "outputId": "d8e13240-007e-42ec-ec7d-4893445b96bc",
        "execution": {
          "iopub.status.busy": "2024-01-17T21:42:09.958764Z",
          "iopub.execute_input": "2024-01-17T21:42:09.959682Z",
          "iopub.status.idle": "2024-01-17T21:42:09.968666Z",
          "shell.execute_reply.started": "2024-01-17T21:42:09.959648Z",
          "shell.execute_reply": "2024-01-17T21:42:09.967611Z"
        },
        "trusted": true
      },
      "execution_count": null,
      "outputs": [
        {
          "output_type": "execute_result",
          "data": {
            "text/plain": [
              "id           0\n",
              "text         0\n",
              "target       0\n",
              "stance       0\n",
              "sarcasm      0\n",
              "sentiment    0\n",
              "datetime     0\n",
              "dtype: int64"
            ]
          },
          "metadata": {},
          "execution_count": 5
        }
      ]
    },
    {
      "cell_type": "code",
      "source": [
        "# check the information for the dataset\n",
        "df.info()"
      ],
      "metadata": {
        "execution": {
          "iopub.status.busy": "2024-01-17T21:42:20.047395Z",
          "iopub.execute_input": "2024-01-17T21:42:20.048118Z",
          "iopub.status.idle": "2024-01-17T21:42:20.059526Z",
          "shell.execute_reply.started": "2024-01-17T21:42:20.048069Z",
          "shell.execute_reply": "2024-01-17T21:42:20.058575Z"
        },
        "trusted": true,
        "colab": {
          "base_uri": "https://localhost:8080/"
        },
        "id": "dUkc2Rxrjmcn",
        "outputId": "12488144-498a-4686-ae7d-6a6ff039106d"
      },
      "execution_count": null,
      "outputs": [
        {
          "output_type": "stream",
          "name": "stdout",
          "text": [
            "<class 'pandas.core.frame.DataFrame'>\n",
            "RangeIndex: 2801 entries, 0 to 2800\n",
            "Data columns (total 7 columns):\n",
            " #   Column     Non-Null Count  Dtype \n",
            "---  ------     --------------  ----- \n",
            " 0   id         2801 non-null   int64 \n",
            " 1   text       2801 non-null   object\n",
            " 2   target     2801 non-null   object\n",
            " 3   stance     2801 non-null   object\n",
            " 4   sarcasm    2801 non-null   object\n",
            " 5   sentiment  2801 non-null   object\n",
            " 6   datetime   2801 non-null   object\n",
            "dtypes: int64(1), object(6)\n",
            "memory usage: 153.3+ KB\n"
          ]
        }
      ]
    },
    {
      "cell_type": "code",
      "source": [
        "# Check the label for the data\n",
        "val_count = df.target.value_counts()\n",
        "# Figure size\n",
        "plt.figure(figsize=(8,4))\n",
        "# Using Bar plot to ploting the count of labeling data.\n",
        "plt.bar(val_count.index, val_count.values, color='red')\n",
        "# Set title for the plot.\n",
        "plt.title(\"Sentiment Data Distribution\")"
      ],
      "metadata": {
        "colab": {
          "base_uri": "https://localhost:8080/",
          "height": 215
        },
        "id": "oFs4lxoN5kuF",
        "outputId": "b0a52a5e-8708-417b-d2b9-348a97997b72",
        "execution": {
          "iopub.status.busy": "2024-01-17T21:42:33.429162Z",
          "iopub.execute_input": "2024-01-17T21:42:33.429512Z",
          "iopub.status.idle": "2024-01-17T21:42:33.760724Z",
          "shell.execute_reply.started": "2024-01-17T21:42:33.429485Z",
          "shell.execute_reply": "2024-01-17T21:42:33.759766Z"
        },
        "trusted": true
      },
      "execution_count": null,
      "outputs": [
        {
          "output_type": "execute_result",
          "data": {
            "text/plain": [
              "Text(0.5, 1.0, 'Sentiment Data Distribution')"
            ]
          },
          "metadata": {},
          "execution_count": 7
        },
        {
          "output_type": "display_data",
          "data": {
            "text/plain": [
              "<Figure size 800x400 with 1 Axes>"
            ],
            "image/png": "[encoded data removed]"
          },
          "metadata": {}
        }
      ]
    },
    {
      "cell_type": "markdown",
      "source": [
        "# 3. Data Pre-processing"
      ],
      "metadata": {
        "id": "opwFFTUl53vR"
      }
    },
    {
      "cell_type": "code",
      "source": [
        "\"\"\"\n",
        "This function for processing the data,\n",
        "here check the stopwords .\n",
        "\"\"\"\n",
        "def preprocess(text):\n",
        "    text = text.split()\n",
        "    # Check the stopwords.\n",
        "    stop = set(stopwords.words('arabic'))\n",
        "\n",
        "    return \" \".join(text)\n",
        "\n",
        "\n",
        "# Apply the function for the data.\n",
        "df['text'] = df['text'].apply(preprocess)"
      ],
      "metadata": {
        "id": "yuN_WVVCAsFd",
        "execution": {
          "iopub.status.busy": "2024-01-17T21:44:09.611878Z",
          "iopub.execute_input": "2024-01-17T21:44:09.612301Z",
          "iopub.status.idle": "2024-01-17T21:44:15.107466Z",
          "shell.execute_reply.started": "2024-01-17T21:44:09.612270Z",
          "shell.execute_reply": "2024-01-17T21:44:15.106653Z"
        },
        "trusted": true
      },
      "execution_count": null,
      "outputs": []
    },
    {
      "cell_type": "code",
      "source": [
        "# Clean the Emoji from our dataset\n",
        "!pip install emoji\n",
        "import emoji\n",
        "\n",
        "df['text'] = df['text'].apply(lambda s: emoji.replace_emoji(s, ''))"
      ],
      "metadata": {
        "execution": {
          "iopub.status.busy": "2024-01-17T21:47:14.332054Z",
          "iopub.execute_input": "2024-01-17T21:47:14.332916Z",
          "iopub.status.idle": "2024-01-17T21:47:16.126631Z",
          "shell.execute_reply.started": "2024-01-17T21:47:14.332879Z",
          "shell.execute_reply": "2024-01-17T21:47:16.125808Z"
        },
        "trusted": true,
        "colab": {
          "base_uri": "https://localhost:8080/"
        },
        "id": "s5G6768ljmcq",
        "outputId": "f83446c1-42fd-4383-bc69-1f55a432cfd9"
      },
      "execution_count": null,
      "outputs": [
        {
          "output_type": "stream",
          "name": "stdout",
          "text": [
            "Collecting emoji\n",
            "  Downloading emoji-2.10.1-py2.py3-none-any.whl (421 kB)\n",
            "\u001b[2K     \u001b[90m━━━━━━━━━━━━━━━━━━━━━━━━━━━━━━━━━━━━━━━━\u001b[0m \u001b[32m421.5/421.5 kB\u001b[0m \u001b[31m3.4 MB/s\u001b[0m eta \u001b[36m0:00:00\u001b[0m\n",
            "\u001b[?25hInstalling collected packages: emoji\n",
            "Successfully installed emoji-2.10.1\n"
          ]
        }
      ]
    },
    {
      "cell_type": "code",
      "source": [
        "# Check the data after make processing on it.\n",
        "df['text']"
      ],
      "metadata": {
        "colab": {
          "base_uri": "https://localhost:8080/"
        },
        "id": "pbeEILcDJn1t",
        "outputId": "fbe3c01a-1d8e-4cc2-e452-eea55ad86be9",
        "execution": {
          "iopub.status.busy": "2024-01-17T21:47:17.312869Z",
          "iopub.execute_input": "2024-01-17T21:47:17.313248Z",
          "iopub.status.idle": "2024-01-17T21:47:17.320869Z",
          "shell.execute_reply.started": "2024-01-17T21:47:17.313219Z",
          "shell.execute_reply": "2024-01-17T21:47:17.319937Z"
        },
        "trusted": true
      },
      "execution_count": null,
      "outputs": [
        {
          "output_type": "execute_result",
          "data": {
            "text/plain": [
              "0       ما أرآه ولله الحمد من تمكين للمرأة يدل على أن ...\n",
              "1       انا لو يخيروني اخذ التطعيم عشان اسافر ولا اتم ...\n",
              "2       MENTION تطعيم لكل الناس لمرض نسبة الشفاء منه ٩...\n",
              "3       \"المملكة جادة جدا في دعم ملف تمكين المرأة\".. و...\n",
              "4       اقسم الله اللي يصير يضيق الصدر.. معقولة كثير م...\n",
              "                              ...                        \n",
              "2796    خطوة ممتازة من المجلس ونرجوا المزيد من التقدم ...\n",
              "2797     مـﻧـــ الخاصــ  تطعيم كورونا في جامعة الملك ع...\n",
              "2798    \" تمكين المرأة هو حاجة ومطلب رئيسي سيغير في مج...\n",
              "2799    #خذ_الخطوه_بلغ_عن_اضرار_اللقاح #لا_للتطعيم_الا...\n",
              "2800    العلماء يجلسو سنين عشان يطلعو دواء او تطعيم عش...\n",
              "Name: text, Length: 2801, dtype: object"
            ]
          },
          "metadata": {},
          "execution_count": 10
        }
      ]
    },
    {
      "cell_type": "markdown",
      "source": [
        "# 4. Apply the Tokenization on the data.\n",
        "* Here we work on make transformation on the data to convert the data from text to numeric to make the model understand it."
      ],
      "metadata": {
        "id": "TIqa92u96bWL"
      }
    },
    {
      "cell_type": "code",
      "source": [
        "# Apply the tf-idf on the data.\n",
        "vectorizer = TfidfVectorizer()\n",
        "vectors = vectorizer.fit_transform(df['text'] )\n",
        "print(vectors[:10])"
      ],
      "metadata": {
        "colab": {
          "base_uri": "https://localhost:8080/"
        },
        "id": "bcrs9lDtAAT9",
        "outputId": "2347c034-0999-4ae9-ddc0-94fd9fb0aa72",
        "execution": {
          "iopub.status.busy": "2024-01-17T21:47:27.031160Z",
          "iopub.execute_input": "2024-01-17T21:47:27.031516Z",
          "iopub.status.idle": "2024-01-17T21:47:27.398005Z",
          "shell.execute_reply.started": "2024-01-17T21:47:27.031491Z",
          "shell.execute_reply": "2024-01-17T21:47:27.397120Z"
        },
        "trusted": true
      },
      "execution_count": null,
      "outputs": [
        {
          "output_type": "stream",
          "name": "stdout",
          "text": [
            "  (0, 212)\t0.24082646905909053\n",
            "  (0, 3239)\t0.21406253624663066\n",
            "  (0, 19313)\t0.16076928229698567\n",
            "  (0, 15231)\t0.22058033546379818\n",
            "  (0, 5167)\t0.22058033546379818\n",
            "  (0, 7729)\t0.24082646905909053\n",
            "  (0, 10641)\t0.24082646905909053\n",
            "  (0, 5103)\t0.06963878456489231\n",
            "  (0, 8007)\t0.21406253624663066\n",
            "  (0, 4679)\t0.2003342018685058\n",
            "  (0, 16901)\t0.21406253624663066\n",
            "  (0, 7497)\t0.2289832401212537\n",
            "  (0, 12674)\t0.24082646905909053\n",
            "  (0, 860)\t0.24082646905909053\n",
            "  (0, 8833)\t0.2289832401212537\n",
            "  (0, 3124)\t0.23430493367409794\n",
            "  (0, 2150)\t0.2003342018685058\n",
            "  (0, 747)\t0.10675552324742783\n",
            "  (0, 11907)\t0.07069796502694307\n",
            "  (0, 20642)\t0.2003342018685058\n",
            "  (0, 14154)\t0.14510435990808856\n",
            "  (0, 8834)\t0.06398237117191273\n",
            "  (0, 15828)\t0.10834790311259941\n",
            "  (0, 3415)\t0.1345762275235012\n",
            "  (0, 19545)\t0.16076928229698567\n",
            "  :\t:\n",
            "  (9, 14522)\t0.21116441551477597\n",
            "  (9, 12917)\t0.1756594896336015\n",
            "  (9, 11254)\t0.21116441551477597\n",
            "  (9, 13918)\t0.1613269512998732\n",
            "  (9, 1372)\t0.18302742745850317\n",
            "  (9, 1202)\t0.21116441551477597\n",
            "  (9, 15617)\t0.19341195257418875\n",
            "  (9, 10540)\t0.21116441551477597\n",
            "  (9, 13303)\t0.21116441551477597\n",
            "  (9, 1628)\t0.21116441551477597\n",
            "  (9, 5998)\t0.18302742745850317\n",
            "  (9, 11066)\t0.20077989039909042\n",
            "  (9, 18575)\t0.21116441551477597\n",
            "  (9, 10859)\t0.14267575087328388\n",
            "  (9, 12617)\t0.1125567827751697\n",
            "  (9, 15202)\t0.14015456375242702\n",
            "  (9, 13070)\t0.15350570269865507\n",
            "  (9, 1155)\t0.20077989039909042\n",
            "  (9, 11638)\t0.1595599479438942\n",
            "  (9, 14413)\t0.13643625064131784\n",
            "  (9, 12505)\t0.0457774728783739\n",
            "  (9, 8413)\t0.0578752523476294\n",
            "  (9, 13094)\t0.059850197768074605\n",
            "  (9, 14379)\t0.11453876281701107\n",
            "  (9, 15828)\t0.04750146801224299\n"
          ]
        }
      ]
    },
    {
      "cell_type": "markdown",
      "source": [
        "#### Convert the target columns from the text to numeric by using Label Encoding"
      ],
      "metadata": {
        "id": "FmGZkp7b63ew"
      }
    },
    {
      "cell_type": "code",
      "source": [
        "df.target"
      ],
      "metadata": {
        "execution": {
          "iopub.status.busy": "2024-01-17T21:49:40.085052Z",
          "iopub.execute_input": "2024-01-17T21:49:40.085927Z",
          "iopub.status.idle": "2024-01-17T21:49:40.093502Z",
          "shell.execute_reply.started": "2024-01-17T21:49:40.085893Z",
          "shell.execute_reply": "2024-01-17T21:49:40.092581Z"
        },
        "trusted": true,
        "colab": {
          "base_uri": "https://localhost:8080/"
        },
        "id": "sujL-yXEjmcr",
        "outputId": "63dd715e-4217-41f1-eb09-30a6e8731e87"
      },
      "execution_count": null,
      "outputs": [
        {
          "output_type": "execute_result",
          "data": {
            "text/plain": [
              "0            Women empowerment\n",
              "1                Covid Vaccine\n",
              "2                Covid Vaccine\n",
              "3            Women empowerment\n",
              "4            Women empowerment\n",
              "                 ...          \n",
              "2796    Digital Transformation\n",
              "2797             Covid Vaccine\n",
              "2798         Women empowerment\n",
              "2799             Covid Vaccine\n",
              "2800             Covid Vaccine\n",
              "Name: target, Length: 2801, dtype: object"
            ]
          },
          "metadata": {},
          "execution_count": 12
        }
      ]
    },
    {
      "cell_type": "code",
      "source": [
        "label=df['target']\n",
        "label"
      ],
      "metadata": {
        "id": "G8vNEqJpRhyW",
        "execution": {
          "iopub.status.busy": "2024-01-17T21:49:48.011177Z",
          "iopub.execute_input": "2024-01-17T21:49:48.011531Z",
          "iopub.status.idle": "2024-01-17T21:49:48.019695Z",
          "shell.execute_reply.started": "2024-01-17T21:49:48.011506Z",
          "shell.execute_reply": "2024-01-17T21:49:48.018754Z"
        },
        "trusted": true,
        "colab": {
          "base_uri": "https://localhost:8080/"
        },
        "outputId": "f835b8d4-aa98-4ce4-d9f9-cc682f575db1"
      },
      "execution_count": null,
      "outputs": [
        {
          "output_type": "execute_result",
          "data": {
            "text/plain": [
              "0            Women empowerment\n",
              "1                Covid Vaccine\n",
              "2                Covid Vaccine\n",
              "3            Women empowerment\n",
              "4            Women empowerment\n",
              "                 ...          \n",
              "2796    Digital Transformation\n",
              "2797             Covid Vaccine\n",
              "2798         Women empowerment\n",
              "2799             Covid Vaccine\n",
              "2800             Covid Vaccine\n",
              "Name: target, Length: 2801, dtype: object"
            ]
          },
          "metadata": {},
          "execution_count": 15
        }
      ]
    },
    {
      "cell_type": "markdown",
      "source": [
        "#### Spliting the data into train and test to use it to train the model."
      ],
      "metadata": {
        "id": "JGoY6ZDc7Rqx"
      }
    },
    {
      "cell_type": "markdown",
      "source": [
        "### label encoding"
      ],
      "metadata": {
        "id": "d1r6x0vjMmDF"
      }
    },
    {
      "cell_type": "code",
      "source": [
        "from sklearn.preprocessing import LabelEncoder\n",
        "label=LabelEncoder()\n",
        "target=label.fit_transform(df.target)"
      ],
      "metadata": {
        "id": "EiPCdQLDMk6e"
      },
      "execution_count": null,
      "outputs": []
    },
    {
      "cell_type": "code",
      "source": [
        "target"
      ],
      "metadata": {
        "colab": {
          "base_uri": "https://localhost:8080/"
        },
        "id": "Jhh07jiFOJhB",
        "outputId": "e1f490e7-2bdf-48e1-b2df-fafb9061d308"
      },
      "execution_count": null,
      "outputs": [
        {
          "output_type": "execute_result",
          "data": {
            "text/plain": [
              "array([2, 0, 0, ..., 2, 0, 0])"
            ]
          },
          "metadata": {},
          "execution_count": 26
        }
      ]
    },
    {
      "cell_type": "code",
      "source": [
        "# here apply the train_test-split function on the data.\n",
        "X_train, X_test, y_train, y_test = train_test_split(vectors, target, test_size=0.2, random_state=42)"
      ],
      "metadata": {
        "id": "z_4sPfLbS1wp",
        "execution": {
          "iopub.status.busy": "2024-01-17T21:49:52.015916Z",
          "iopub.execute_input": "2024-01-17T21:49:52.016288Z",
          "iopub.status.idle": "2024-01-17T21:49:52.025192Z",
          "shell.execute_reply.started": "2024-01-17T21:49:52.016260Z",
          "shell.execute_reply": "2024-01-17T21:49:52.024336Z"
        },
        "trusted": true
      },
      "execution_count": null,
      "outputs": []
    },
    {
      "cell_type": "code",
      "source": [
        "print(\"Shape of the Train data set: \",X_train.shape)\n",
        "print(\"Shape of the test data set:\",X_test.shape)\n",
        "print(\"Shape of the y_train data set\",y_train.shape)\n",
        "print(\"Shape of the y_test data set\",y_test.shape)"
      ],
      "metadata": {
        "colab": {
          "base_uri": "https://localhost:8080/"
        },
        "id": "LaDFoouvTuru",
        "outputId": "172d3bf3-789f-464d-b659-14dffe2379d3",
        "execution": {
          "iopub.status.busy": "2024-01-17T21:49:52.823787Z",
          "iopub.execute_input": "2024-01-17T21:49:52.824168Z",
          "iopub.status.idle": "2024-01-17T21:49:52.829535Z",
          "shell.execute_reply.started": "2024-01-17T21:49:52.824137Z",
          "shell.execute_reply": "2024-01-17T21:49:52.828610Z"
        },
        "trusted": true
      },
      "execution_count": null,
      "outputs": [
        {
          "output_type": "stream",
          "name": "stdout",
          "text": [
            "Shape of the Train data set:  (2240, 21340)\n",
            "Shape of the test data set: (561, 21340)\n",
            "Shape of the y_train data set (2240,)\n",
            "Shape of the y_test data set (561,)\n"
          ]
        }
      ]
    },
    {
      "cell_type": "markdown",
      "source": [
        "# 5. Apply Model Machine Learning."
      ],
      "metadata": {
        "id": "MKfKBsl375Yb"
      }
    },
    {
      "cell_type": "markdown",
      "source": [
        "### Using Logistic Regression."
      ],
      "metadata": {
        "id": "44ktoflL795s"
      }
    },
    {
      "cell_type": "code",
      "source": [
        "# making LogisticRegression Model\n",
        "classifier = LogisticRegression(random_state=0)\n",
        "classifier.fit(X_train,y_train)"
      ],
      "metadata": {
        "colab": {
          "base_uri": "https://localhost:8080/",
          "height": 74
        },
        "id": "-Kzz3nJTUNf2",
        "outputId": "e1ead364-9ba9-48ed-ff2b-bbe540f99892",
        "execution": {
          "iopub.status.busy": "2024-01-17T21:49:55.739650Z",
          "iopub.execute_input": "2024-01-17T21:49:55.740066Z",
          "iopub.status.idle": "2024-01-17T21:49:56.522843Z",
          "shell.execute_reply.started": "2024-01-17T21:49:55.740032Z",
          "shell.execute_reply": "2024-01-17T21:49:56.521454Z"
        },
        "trusted": true
      },
      "execution_count": null,
      "outputs": [
        {
          "output_type": "execute_result",
          "data": {
            "text/plain": [
              "LogisticRegression(random_state=0)"
            ],
            "text/html": [
              "<style>#sk-container-id-3 {color: black;background-color: white;}#sk-container-id-3 pre{padding: 0;}#sk-container-id-3 div.sk-toggleable {background-color: white;}#sk-container-id-3 label.sk-toggleable__label {cursor: pointer;display: block;width: 100%;margin-bottom: 0;padding: 0.3em;box-sizing: border-box;text-align: center;}#sk-container-id-3 label.sk-toggleable__label-arrow:before {content: \"▸\";float: left;margin-right: 0.25em;color: #696969;}#sk-container-id-3 label.sk-toggleable__label-arrow:hover:before {color: black;}#sk-container-id-3 div.sk-estimator:hover label.sk-toggleable__label-arrow:before {color: black;}#sk-container-id-3 div.sk-toggleable__content {max-height: 0;max-width: 0;overflow: hidden;text-align: left;background-color: #f0f8ff;}#sk-container-id-3 div.sk-toggleable__content pre {margin: 0.2em;color: black;border-radius: 0.25em;background-color: #f0f8ff;}#sk-container-id-3 input.sk-toggleable__control:checked~div.sk-toggleable__content {max-height: 200px;max-width: 100%;overflow: auto;}#sk-container-id-3 input.sk-toggleable__control:checked~label.sk-toggleable__label-arrow:before {content: \"▾\";}#sk-container-id-3 div.sk-estimator input.sk-toggleable__control:checked~label.sk-toggleable__label {background-color: #d4ebff;}#sk-container-id-3 div.sk-label input.sk-toggleable__control:checked~label.sk-toggleable__label {background-color: #d4ebff;}#sk-container-id-3 input.sk-hidden--visually {border: 0;clip: rect(1px 1px 1px 1px);clip: rect(1px, 1px, 1px, 1px);height: 1px;margin: -1px;overflow: hidden;padding: 0;position: absolute;width: 1px;}#sk-container-id-3 div.sk-estimator {font-family: monospace;background-color: #f0f8ff;border: 1px dotted black;border-radius: 0.25em;box-sizing: border-box;margin-bottom: 0.5em;}#sk-container-id-3 div.sk-estimator:hover {background-color: #d4ebff;}#sk-container-id-3 div.sk-parallel-item::after {content: \"\";width: 100%;border-bottom: 1px solid gray;flex-grow: 1;}#sk-container-id-3 div.sk-label:hover label.sk-toggleable__label {background-color: #d4ebff;}#sk-container-id-3 div.sk-serial::before {content: \"\";position: absolute;border-left: 1px solid gray;box-sizing: border-box;top: 0;bottom: 0;left: 50%;z-index: 0;}#sk-container-id-3 div.sk-serial {display: flex;flex-direction: column;align-items: center;background-color: white;padding-right: 0.2em;padding-left: 0.2em;position: relative;}#sk-container-id-3 div.sk-item {position: relative;z-index: 1;}#sk-container-id-3 div.sk-parallel {display: flex;align-items: stretch;justify-content: center;background-color: white;position: relative;}#sk-container-id-3 div.sk-item::before, #sk-container-id-3 div.sk-parallel-item::before {content: \"\";position: absolute;border-left: 1px solid gray;box-sizing: border-box;top: 0;bottom: 0;left: 50%;z-index: -1;}#sk-container-id-3 div.sk-parallel-item {display: flex;flex-direction: column;z-index: 1;position: relative;background-color: white;}#sk-container-id-3 div.sk-parallel-item:first-child::after {align-self: flex-end;width: 50%;}#sk-container-id-3 div.sk-parallel-item:last-child::after {align-self: flex-start;width: 50%;}#sk-container-id-3 div.sk-parallel-item:only-child::after {width: 0;}#sk-container-id-3 div.sk-dashed-wrapped {border: 1px dashed gray;margin: 0 0.4em 0.5em 0.4em;box-sizing: border-box;padding-bottom: 0.4em;background-color: white;}#sk-container-id-3 div.sk-label label {font-family: monospace;font-weight: bold;display: inline-block;line-height: 1.2em;}#sk-container-id-3 div.sk-label-container {text-align: center;}#sk-container-id-3 div.sk-container {/* jupyter's `normalize.less` sets `[hidden] { display: none; }` but bootstrap.min.css set `[hidden] { display: none !important; }` so we also need the `!important` here to be able to override the default hidden behavior on the sphinx rendered scikit-learn.org. See: https://github.com/scikit-learn/scikit-learn/issues/21755 */display: inline-block !important;position: relative;}#sk-container-id-3 div.sk-text-repr-fallback {display: none;}</style><div id=\"sk-container-id-3\" class=\"sk-top-container\"><div class=\"sk-text-repr-fallback\"><pre>LogisticRegression(random_state=0)</pre><b>In a Jupyter environment, please rerun this cell to show the HTML representation or trust the notebook. <br />On GitHub, the HTML representation is unable to render, please try loading this page with nbviewer.org.</b></div><div class=\"sk-container\" hidden><div class=\"sk-item\"><div class=\"sk-estimator sk-toggleable\"><input class=\"sk-toggleable__control sk-hidden--visually\" id=\"sk-estimator-id-3\" type=\"checkbox\" checked><label for=\"sk-estimator-id-3\" class=\"sk-toggleable__label sk-toggleable__label-arrow\">LogisticRegression</label><div class=\"sk-toggleable__content\"><pre>LogisticRegression(random_state=0)</pre></div></div></div></div></div>"
            ]
          },
          "metadata": {},
          "execution_count": 29
        }
      ]
    },
    {
      "cell_type": "code",
      "source": [
        "print('LogisticRegression Train Score is : ' , classifier.score(X_train, y_train))\n",
        "print('LogisticRegression Test Score is : ' , classifier.score(X_test, y_test))"
      ],
      "metadata": {
        "colab": {
          "base_uri": "https://localhost:8080/"
        },
        "id": "KVywkEtX8Spy",
        "outputId": "e2c264d0-ae5f-4fa6-e98c-75efd57e6637",
        "execution": {
          "iopub.status.busy": "2024-01-17T21:49:57.658593Z",
          "iopub.execute_input": "2024-01-17T21:49:57.659799Z",
          "iopub.status.idle": "2024-01-17T21:49:57.669670Z",
          "shell.execute_reply.started": "2024-01-17T21:49:57.659756Z",
          "shell.execute_reply": "2024-01-17T21:49:57.668714Z"
        },
        "trusted": true
      },
      "execution_count": null,
      "outputs": [
        {
          "output_type": "stream",
          "name": "stdout",
          "text": [
            "LogisticRegression Train Score is :  1.0\n",
            "LogisticRegression Test Score is :  0.9964349376114082\n"
          ]
        }
      ]
    },
    {
      "cell_type": "markdown",
      "source": [
        "##### Ckeck the model predicton"
      ],
      "metadata": {
        "id": "SZz4vnk78JLi"
      }
    },
    {
      "cell_type": "code",
      "source": [
        "#making predictions on test data\n",
        "y_predict = classifier.predict(X_test)\n",
        "print(y_predict)"
      ],
      "metadata": {
        "colab": {
          "base_uri": "https://localhost:8080/"
        },
        "id": "oLutOBgRUnI1",
        "outputId": "4922aac0-5391-4632-ea0a-9a6b7f907233",
        "execution": {
          "iopub.status.busy": "2024-01-17T21:50:04.409282Z",
          "iopub.execute_input": "2024-01-17T21:50:04.409649Z",
          "iopub.status.idle": "2024-01-17T21:50:04.416266Z",
          "shell.execute_reply.started": "2024-01-17T21:50:04.409622Z",
          "shell.execute_reply": "2024-01-17T21:50:04.415053Z"
        },
        "trusted": true
      },
      "execution_count": null,
      "outputs": [
        {
          "output_type": "stream",
          "name": "stdout",
          "text": [
            "[1 1 1 2 2 0 2 0 0 2 1 1 0 0 1 1 2 0 2 1 1 0 1 2 0 0 2 0 2 0 2 0 2 0 2 0 0\n",
            " 2 2 2 1 1 0 2 1 2 0 2 0 1 2 2 1 2 1 1 0 2 1 1 1 2 1 1 0 0 0 1 0 1 0 2 2 0\n",
            " 0 0 2 1 1 2 1 0 2 2 1 2 1 0 1 0 1 2 2 2 1 2 0 0 1 2 0 0 1 0 1 2 1 1 1 1 0\n",
            " 1 2 2 1 1 0 2 0 0 1 0 2 2 2 1 1 0 1 1 1 0 1 1 0 1 2 0 0 1 2 1 1 0 1 1 0 2\n",
            " 0 2 2 0 0 2 2 0 1 0 2 1 2 2 1 0 1 2 0 1 0 1 1 0 0 0 0 1 1 0 0 2 2 1 2 0 1\n",
            " 2 1 1 1 0 1 0 2 1 1 2 1 2 2 0 2 0 2 2 2 1 0 1 0 2 1 0 2 0 0 1 2 1 0 1 2 2\n",
            " 2 2 1 1 1 2 2 1 0 1 1 0 0 2 2 0 1 0 0 0 0 1 2 2 1 2 0 2 1 1 2 1 2 0 1 1 1\n",
            " 1 0 0 0 1 2 1 0 2 0 0 1 1 1 1 1 0 0 2 0 2 1 0 0 2 2 2 1 2 0 1 1 0 1 0 1 0\n",
            " 1 1 2 1 1 1 1 0 0 0 1 2 0 2 0 1 0 2 2 2 2 1 0 2 1 0 0 2 0 2 0 2 0 2 2 2 2\n",
            " 1 0 0 0 1 2 0 0 0 1 2 0 2 0 2 1 2 1 1 2 2 2 1 0 1 1 2 1 2 2 0 0 2 1 2 0 1\n",
            " 0 0 0 1 2 1 1 2 2 1 1 2 1 1 1 1 1 1 2 1 0 2 2 2 2 0 0 0 0 0 2 0 2 2 0 0 1\n",
            " 2 1 2 0 2 2 0 0 2 2 0 0 2 2 1 1 0 1 1 2 0 2 2 0 1 2 2 1 1 0 2 2 2 0 0 1 2\n",
            " 1 0 2 0 0 1 1 1 2 2 2 0 1 1 1 2 1 1 2 2 0 1 1 1 1 1 2 1 0 0 2 0 2 1 2 1 0\n",
            " 2 1 2 1 2 2 2 1 0 0 0 0 1 2 2 0 1 2 1 1 0 0 0 1 1 0 2 0 0 2 2 2 0 0 1 2 2\n",
            " 2 0 1 0 2 1 0 1 1 2 1 0 1 2 2 2 2 0 2 2 1 1 0 0 0 1 1 2 0 0 1 2 2 2 2 1 2\n",
            " 1 0 1 2 0 2]\n"
          ]
        }
      ]
    },
    {
      "cell_type": "markdown",
      "source": [
        "##### Check the Confusion Matrix"
      ],
      "metadata": {
        "id": "y1b1EYTw8V-J"
      }
    },
    {
      "cell_type": "code",
      "source": [
        "#confusion matrix\n",
        "cm = confusion_matrix(y_test,y_predict)"
      ],
      "metadata": {
        "id": "wCjlaB57UqlU",
        "execution": {
          "iopub.status.busy": "2024-01-17T21:50:05.821803Z",
          "iopub.execute_input": "2024-01-17T21:50:05.822928Z",
          "iopub.status.idle": "2024-01-17T21:50:05.829370Z",
          "shell.execute_reply.started": "2024-01-17T21:50:05.822873Z",
          "shell.execute_reply": "2024-01-17T21:50:05.828515Z"
        },
        "trusted": true
      },
      "execution_count": null,
      "outputs": []
    },
    {
      "cell_type": "code",
      "source": [
        "# Ploting the confusion matrix\n",
        "plt.title(\"Confusion Matrix for the Model Logistic Regression\")\n",
        "sns.heatmap(cm, annot=True,fmt='g')"
      ],
      "metadata": {
        "colab": {
          "base_uri": "https://localhost:8080/",
          "height": 316
        },
        "id": "wsrY5CBhUuwl",
        "outputId": "fd3afd05-f607-4a3f-f718-74f4732ecced",
        "execution": {
          "iopub.status.busy": "2024-01-17T22:01:07.733353Z",
          "iopub.execute_input": "2024-01-17T22:01:07.734104Z",
          "iopub.status.idle": "2024-01-17T22:01:08.039931Z",
          "shell.execute_reply.started": "2024-01-17T22:01:07.734062Z",
          "shell.execute_reply": "2024-01-17T22:01:08.039129Z"
        },
        "trusted": true
      },
      "execution_count": null,
      "outputs": [
        {
          "output_type": "execute_result",
          "data": {
            "text/plain": [
              "<Axes: title={'center': 'Confusion Matrix for the Model Logistic Regression'}>"
            ]
          },
          "metadata": {},
          "execution_count": 33
        },
        {
          "output_type": "display_data",
          "data": {
            "text/plain": [
              "<Figure size 640x480 with 2 Axes>"
            ],
            "image/png": "[encoded data removed]"
          },
          "metadata": {}
        }
      ]
    },
    {
      "cell_type": "markdown",
      "source": [
        "#### Check the the Sensitivity and Specificity"
      ],
      "metadata": {
        "id": "fyaJl7RUApMW"
      }
    },
    {
      "cell_type": "code",
      "source": [
        "total=sum(sum(cm))\n",
        "\n",
        "sensitivity = cm[0,0]/(cm[0,0]+cm[1,0])\n",
        "print('Sensitivity : ', sensitivity )\n",
        "\n",
        "specificity = cm[1,1]/(cm[1,1]+cm[0,1])\n",
        "print('Specificity : ', specificity)"
      ],
      "metadata": {
        "colab": {
          "base_uri": "https://localhost:8080/"
        },
        "id": "FIg4GdAmUv2-",
        "outputId": "60a8c51e-cf82-4773-9dc9-9ef5380f27df",
        "execution": {
          "iopub.status.busy": "2024-01-17T21:50:09.028422Z",
          "iopub.execute_input": "2024-01-17T21:50:09.029257Z",
          "iopub.status.idle": "2024-01-17T21:50:09.035026Z",
          "shell.execute_reply.started": "2024-01-17T21:50:09.029226Z",
          "shell.execute_reply": "2024-01-17T21:50:09.034128Z"
        },
        "trusted": true
      },
      "execution_count": null,
      "outputs": [
        {
          "output_type": "stream",
          "name": "stdout",
          "text": [
            "Sensitivity :  0.9943820224719101\n",
            "Specificity :  1.0\n"
          ]
        }
      ]
    },
    {
      "cell_type": "markdown",
      "source": [
        "#### Check the the PPV nad NPV"
      ],
      "metadata": {
        "id": "ZvKtpqYdA8F9"
      }
    },
    {
      "cell_type": "code",
      "source": [
        "total=sum(sum(cm))\n",
        "\n",
        "# this for Positive Predictive Value.\n",
        "ppv = cm[0,0]/(cm[0,0]+cm[0,1])\n",
        "print('ppv : ', ppv )\n",
        "# negative Predictive Value.\n",
        "npv = cm[1,1]/(cm[1,0]+cm[1,1])\n",
        "print('npv : ', npv)"
      ],
      "metadata": {
        "colab": {
          "base_uri": "https://localhost:8080/"
        },
        "id": "oYSqCZBOXqJ1",
        "outputId": "4009b64b-f7e3-44ab-b2cc-ae0eafaff97b",
        "execution": {
          "iopub.status.busy": "2024-01-17T21:50:11.188864Z",
          "iopub.execute_input": "2024-01-17T21:50:11.189252Z",
          "iopub.status.idle": "2024-01-17T21:50:11.195465Z",
          "shell.execute_reply.started": "2024-01-17T21:50:11.189222Z",
          "shell.execute_reply": "2024-01-17T21:50:11.194562Z"
        },
        "trusted": true
      },
      "execution_count": null,
      "outputs": [
        {
          "output_type": "stream",
          "name": "stdout",
          "text": [
            "ppv :  1.0\n",
            "npv :  0.9948717948717949\n"
          ]
        }
      ]
    },
    {
      "cell_type": "markdown",
      "source": [
        "#### Check the metrics"
      ],
      "metadata": {
        "id": "W0CY5wszjmcw"
      }
    },
    {
      "cell_type": "code",
      "source": [
        "#Calculating F1 Score  : 2 * (precision * recall) / (precision + recall)\n",
        "F1Score = f1_score(y_test, y_predict, average='micro')\n",
        "print('F1 Score is : ', F1Score)"
      ],
      "metadata": {
        "colab": {
          "base_uri": "https://localhost:8080/"
        },
        "id": "zQYtiegwYVED",
        "outputId": "2338d11b-f227-4cdc-f97f-905e5d0aa4bc",
        "execution": {
          "iopub.status.busy": "2024-01-17T21:50:13.059859Z",
          "iopub.execute_input": "2024-01-17T21:50:13.060248Z",
          "iopub.status.idle": "2024-01-17T21:50:13.069632Z",
          "shell.execute_reply.started": "2024-01-17T21:50:13.060216Z",
          "shell.execute_reply": "2024-01-17T21:50:13.068774Z"
        },
        "trusted": true
      },
      "execution_count": null,
      "outputs": [
        {
          "output_type": "stream",
          "name": "stdout",
          "text": [
            "F1 Score is :  0.9964349376114082\n"
          ]
        }
      ]
    },
    {
      "cell_type": "code",
      "source": [
        "#Calculating Recall Score : (Sensitivity) (TP / float(TP + FN))   1 / 1+2\n",
        "RecallScore = recall_score(y_test, y_predict, average='micro')\n",
        "print('Recall Score is : ', RecallScore)"
      ],
      "metadata": {
        "colab": {
          "base_uri": "https://localhost:8080/"
        },
        "id": "ZZvTrWe0YrdM",
        "outputId": "0cdeedbb-10b2-4d6c-a905-58e0053614ed",
        "execution": {
          "iopub.status.busy": "2024-01-17T21:50:14.334884Z",
          "iopub.execute_input": "2024-01-17T21:50:14.335724Z",
          "iopub.status.idle": "2024-01-17T21:50:14.343941Z",
          "shell.execute_reply.started": "2024-01-17T21:50:14.335692Z",
          "shell.execute_reply": "2024-01-17T21:50:14.343126Z"
        },
        "trusted": true
      },
      "execution_count": null,
      "outputs": [
        {
          "output_type": "stream",
          "name": "stdout",
          "text": [
            "Recall Score is :  0.9964349376114082\n"
          ]
        }
      ]
    },
    {
      "cell_type": "code",
      "source": [
        "#Calculating Precision Score : (Specificity) #(TP / float(TP + FP))\n",
        "PrecisionScore = precision_score(y_test, y_predict, average='micro')\n",
        "print('Precision Score is : ', PrecisionScore)"
      ],
      "metadata": {
        "colab": {
          "base_uri": "https://localhost:8080/"
        },
        "id": "sIYm7tdpY_Lr",
        "outputId": "a44585e4-2c1d-4a46-be92-3c81dec2dcb2",
        "execution": {
          "iopub.status.busy": "2024-01-17T21:50:15.307514Z",
          "iopub.execute_input": "2024-01-17T21:50:15.308419Z",
          "iopub.status.idle": "2024-01-17T21:50:15.316795Z",
          "shell.execute_reply.started": "2024-01-17T21:50:15.308388Z",
          "shell.execute_reply": "2024-01-17T21:50:15.315934Z"
        },
        "trusted": true
      },
      "execution_count": null,
      "outputs": [
        {
          "output_type": "stream",
          "name": "stdout",
          "text": [
            "Precision Score is :  0.9964349376114082\n"
          ]
        }
      ]
    },
    {
      "cell_type": "code",
      "source": [
        "#Calculating Precision recall Score\n",
        "PrecisionRecallScore = precision_recall_fscore_support(y_test, y_predict, average='micro')\n",
        "print('Precision Recall Score is : ', PrecisionRecallScore)"
      ],
      "metadata": {
        "colab": {
          "base_uri": "https://localhost:8080/"
        },
        "id": "QQ7Ys54zi9dB",
        "outputId": "c5434934-96c6-48fd-b9f2-e7759bae7e00",
        "execution": {
          "iopub.status.busy": "2024-01-17T21:50:16.838776Z",
          "iopub.execute_input": "2024-01-17T21:50:16.839411Z",
          "iopub.status.idle": "2024-01-17T21:50:16.848060Z",
          "shell.execute_reply.started": "2024-01-17T21:50:16.839379Z",
          "shell.execute_reply": "2024-01-17T21:50:16.847071Z"
        },
        "trusted": true
      },
      "execution_count": null,
      "outputs": [
        {
          "output_type": "stream",
          "name": "stdout",
          "text": [
            "Precision Recall Score is :  (0.9964349376114082, 0.9964349376114082, 0.9964349376114082, None)\n"
          ]
        }
      ]
    },
    {
      "cell_type": "code",
      "source": [
        "#Calculating Mean Absolute Error\n",
        "MAEValue = mean_absolute_error(y_test, y_predict, multioutput='uniform_average')\n",
        "print('Mean Absolute Error Value is : ', MAEValue)"
      ],
      "metadata": {
        "colab": {
          "base_uri": "https://localhost:8080/"
        },
        "id": "dHqHz_URjDNX",
        "outputId": "1a4e5e72-cdd0-4b04-bbc3-df758fe7c488",
        "execution": {
          "iopub.status.busy": "2024-01-17T21:50:17.815910Z",
          "iopub.execute_input": "2024-01-17T21:50:17.816700Z",
          "iopub.status.idle": "2024-01-17T21:50:17.822831Z",
          "shell.execute_reply.started": "2024-01-17T21:50:17.816661Z",
          "shell.execute_reply": "2024-01-17T21:50:17.821856Z"
        },
        "trusted": true
      },
      "execution_count": null,
      "outputs": [
        {
          "output_type": "stream",
          "name": "stdout",
          "text": [
            "Mean Absolute Error Value is :  0.0035650623885918\n"
          ]
        }
      ]
    },
    {
      "cell_type": "code",
      "source": [
        "#Calculating Mean Squared Error\n",
        "MSEValue = mean_squared_error(y_test, y_predict, multioutput='uniform_average')\n",
        "print('Mean Squared Error Value is : ', MSEValue)\n",
        "\n",
        "\n",
        "\n",
        "#Calculating Median Squared Error\n",
        "MdSEValue = median_absolute_error(y_test,y_predict)\n",
        "print('Median Squared Error Value is : ', MdSEValue )"
      ],
      "metadata": {
        "colab": {
          "base_uri": "https://localhost:8080/"
        },
        "id": "bGcp9b6WjN0T",
        "outputId": "7816dfd5-4092-4c0b-9288-dc0949b2e550",
        "execution": {
          "iopub.status.busy": "2024-01-17T21:50:19.237779Z",
          "iopub.execute_input": "2024-01-17T21:50:19.238516Z",
          "iopub.status.idle": "2024-01-17T21:50:19.246567Z",
          "shell.execute_reply.started": "2024-01-17T21:50:19.238485Z",
          "shell.execute_reply": "2024-01-17T21:50:19.245585Z"
        },
        "trusted": true
      },
      "execution_count": null,
      "outputs": [
        {
          "output_type": "stream",
          "name": "stdout",
          "text": [
            "Mean Squared Error Value is :  0.0035650623885918\n",
            "Median Squared Error Value is :  0.0\n"
          ]
        }
      ]
    },
    {
      "cell_type": "markdown",
      "source": [
        "# Using RandomForestClassifier"
      ],
      "metadata": {
        "id": "lTx4Gn23WZfP"
      }
    },
    {
      "cell_type": "code",
      "source": [
        "# Fitting Random Forest Classification to the Training set\n",
        "from sklearn.ensemble import RandomForestClassifier\n",
        "classifier = RandomForestClassifier(n_estimators = 10, criterion = 'entropy', random_state = 0)\n",
        "classifier.fit(X_train, y_train)"
      ],
      "metadata": {
        "colab": {
          "base_uri": "https://localhost:8080/",
          "height": 94
        },
        "id": "Gyf6F_xSHkEV",
        "outputId": "239b1e59-8615-40ce-f843-f2b10094d568",
        "execution": {
          "iopub.status.busy": "2024-01-17T22:23:21.541639Z",
          "iopub.execute_input": "2024-01-17T22:23:21.542398Z",
          "iopub.status.idle": "2024-01-17T22:23:27.066080Z",
          "shell.execute_reply.started": "2024-01-17T22:23:21.542364Z",
          "shell.execute_reply": "2024-01-17T22:23:27.065208Z"
        },
        "trusted": true
      },
      "execution_count": null,
      "outputs": [
        {
          "output_type": "execute_result",
          "data": {
            "text/plain": [
              "RandomForestClassifier(criterion='entropy', n_estimators=10, random_state=0)"
            ],
            "text/html": [
              "<style>#sk-container-id-4 {color: black;background-color: white;}#sk-container-id-4 pre{padding: 0;}#sk-container-id-4 div.sk-toggleable {background-color: white;}#sk-container-id-4 label.sk-toggleable__label {cursor: pointer;display: block;width: 100%;margin-bottom: 0;padding: 0.3em;box-sizing: border-box;text-align: center;}#sk-container-id-4 label.sk-toggleable__label-arrow:before {content: \"▸\";float: left;margin-right: 0.25em;color: #696969;}#sk-container-id-4 label.sk-toggleable__label-arrow:hover:before {color: black;}#sk-container-id-4 div.sk-estimator:hover label.sk-toggleable__label-arrow:before {color: black;}#sk-container-id-4 div.sk-toggleable__content {max-height: 0;max-width: 0;overflow: hidden;text-align: left;background-color: #f0f8ff;}#sk-container-id-4 div.sk-toggleable__content pre {margin: 0.2em;color: black;border-radius: 0.25em;background-color: #f0f8ff;}#sk-container-id-4 input.sk-toggleable__control:checked~div.sk-toggleable__content {max-height: 200px;max-width: 100%;overflow: auto;}#sk-container-id-4 input.sk-toggleable__control:checked~label.sk-toggleable__label-arrow:before {content: \"▾\";}#sk-container-id-4 div.sk-estimator input.sk-toggleable__control:checked~label.sk-toggleable__label {background-color: #d4ebff;}#sk-container-id-4 div.sk-label input.sk-toggleable__control:checked~label.sk-toggleable__label {background-color: #d4ebff;}#sk-container-id-4 input.sk-hidden--visually {border: 0;clip: rect(1px 1px 1px 1px);clip: rect(1px, 1px, 1px, 1px);height: 1px;margin: -1px;overflow: hidden;padding: 0;position: absolute;width: 1px;}#sk-container-id-4 div.sk-estimator {font-family: monospace;background-color: #f0f8ff;border: 1px dotted black;border-radius: 0.25em;box-sizing: border-box;margin-bottom: 0.5em;}#sk-container-id-4 div.sk-estimator:hover {background-color: #d4ebff;}#sk-container-id-4 div.sk-parallel-item::after {content: \"\";width: 100%;border-bottom: 1px solid gray;flex-grow: 1;}#sk-container-id-4 div.sk-label:hover label.sk-toggleable__label {background-color: #d4ebff;}#sk-container-id-4 div.sk-serial::before {content: \"\";position: absolute;border-left: 1px solid gray;box-sizing: border-box;top: 0;bottom: 0;left: 50%;z-index: 0;}#sk-container-id-4 div.sk-serial {display: flex;flex-direction: column;align-items: center;background-color: white;padding-right: 0.2em;padding-left: 0.2em;position: relative;}#sk-container-id-4 div.sk-item {position: relative;z-index: 1;}#sk-container-id-4 div.sk-parallel {display: flex;align-items: stretch;justify-content: center;background-color: white;position: relative;}#sk-container-id-4 div.sk-item::before, #sk-container-id-4 div.sk-parallel-item::before {content: \"\";position: absolute;border-left: 1px solid gray;box-sizing: border-box;top: 0;bottom: 0;left: 50%;z-index: -1;}#sk-container-id-4 div.sk-parallel-item {display: flex;flex-direction: column;z-index: 1;position: relative;background-color: white;}#sk-container-id-4 div.sk-parallel-item:first-child::after {align-self: flex-end;width: 50%;}#sk-container-id-4 div.sk-parallel-item:last-child::after {align-self: flex-start;width: 50%;}#sk-container-id-4 div.sk-parallel-item:only-child::after {width: 0;}#sk-container-id-4 div.sk-dashed-wrapped {border: 1px dashed gray;margin: 0 0.4em 0.5em 0.4em;box-sizing: border-box;padding-bottom: 0.4em;background-color: white;}#sk-container-id-4 div.sk-label label {font-family: monospace;font-weight: bold;display: inline-block;line-height: 1.2em;}#sk-container-id-4 div.sk-label-container {text-align: center;}#sk-container-id-4 div.sk-container {/* jupyter's `normalize.less` sets `[hidden] { display: none; }` but bootstrap.min.css set `[hidden] { display: none !important; }` so we also need the `!important` here to be able to override the default hidden behavior on the sphinx rendered scikit-learn.org. See: https://github.com/scikit-learn/scikit-learn/issues/21755 */display: inline-block !important;position: relative;}#sk-container-id-4 div.sk-text-repr-fallback {display: none;}</style><div id=\"sk-container-id-4\" class=\"sk-top-container\"><div class=\"sk-text-repr-fallback\"><pre>RandomForestClassifier(criterion=&#x27;entropy&#x27;, n_estimators=10, random_state=0)</pre><b>In a Jupyter environment, please rerun this cell to show the HTML representation or trust the notebook. <br />On GitHub, the HTML representation is unable to render, please try loading this page with nbviewer.org.</b></div><div class=\"sk-container\" hidden><div class=\"sk-item\"><div class=\"sk-estimator sk-toggleable\"><input class=\"sk-toggleable__control sk-hidden--visually\" id=\"sk-estimator-id-4\" type=\"checkbox\" checked><label for=\"sk-estimator-id-4\" class=\"sk-toggleable__label sk-toggleable__label-arrow\">RandomForestClassifier</label><div class=\"sk-toggleable__content\"><pre>RandomForestClassifier(criterion=&#x27;entropy&#x27;, n_estimators=10, random_state=0)</pre></div></div></div></div></div>"
            ]
          },
          "metadata": {},
          "execution_count": 43
        }
      ]
    },
    {
      "cell_type": "code",
      "source": [
        "# Check the model prediction\n",
        "pred_RFC= classifier.predict(X_test)\n",
        "print(pred_RFC[:10])"
      ],
      "metadata": {
        "colab": {
          "base_uri": "https://localhost:8080/"
        },
        "id": "zjoyRS-bWp-m",
        "outputId": "049fc7e0-f5be-4a5c-931c-6586d0b3f43f",
        "execution": {
          "iopub.status.busy": "2024-01-17T22:23:57.819036Z",
          "iopub.execute_input": "2024-01-17T22:23:57.819805Z",
          "iopub.status.idle": "2024-01-17T22:23:57.854512Z",
          "shell.execute_reply.started": "2024-01-17T22:23:57.819772Z",
          "shell.execute_reply": "2024-01-17T22:23:57.853599Z"
        },
        "trusted": true
      },
      "execution_count": null,
      "outputs": [
        {
          "output_type": "stream",
          "name": "stdout",
          "text": [
            "[1 1 1 2 2 0 2 0 0 2]\n"
          ]
        }
      ]
    },
    {
      "cell_type": "code",
      "source": [
        "# Check the score for the model\n",
        "print('Model FRC Train Score is : ' , classifier.score(X_train, y_train))\n",
        "print('Model RFC Test Score is : ' , classifier.score(X_test, y_test))"
      ],
      "metadata": {
        "colab": {
          "base_uri": "https://localhost:8080/"
        },
        "id": "ktxb1nHTWvSP",
        "outputId": "4f9f5b99-57ef-486d-d019-483786202005",
        "execution": {
          "iopub.status.busy": "2024-01-17T22:25:09.682835Z",
          "iopub.execute_input": "2024-01-17T22:25:09.683233Z",
          "iopub.status.idle": "2024-01-17T22:25:09.811749Z",
          "shell.execute_reply.started": "2024-01-17T22:25:09.683199Z",
          "shell.execute_reply": "2024-01-17T22:25:09.810818Z"
        },
        "trusted": true
      },
      "execution_count": null,
      "outputs": [
        {
          "output_type": "stream",
          "name": "stdout",
          "text": [
            "Model FRC Train Score is :  0.9995535714285714\n",
            "Model RFC Test Score is :  0.9803921568627451\n"
          ]
        }
      ]
    },
    {
      "cell_type": "code",
      "source": [
        "#confusion matrix\n",
        "cm = confusion_matrix(y_test,pred_RFC)"
      ],
      "metadata": {
        "execution": {
          "iopub.status.busy": "2024-01-17T22:25:20.152511Z",
          "iopub.execute_input": "2024-01-17T22:25:20.153259Z",
          "iopub.status.idle": "2024-01-17T22:25:20.160134Z",
          "shell.execute_reply.started": "2024-01-17T22:25:20.153229Z",
          "shell.execute_reply": "2024-01-17T22:25:20.159136Z"
        },
        "trusted": true,
        "id": "kfvCnUK8jmdC"
      },
      "execution_count": null,
      "outputs": []
    },
    {
      "cell_type": "code",
      "source": [
        "# Ploting the confusion matrix\n",
        "plt.title(\"Confusion Matrix for the Model RandomForestClassifier\")\n",
        "sns.heatmap(cm, annot=True,fmt='g')"
      ],
      "metadata": {
        "execution": {
          "iopub.status.busy": "2024-01-17T22:25:57.650986Z",
          "iopub.execute_input": "2024-01-17T22:25:57.651365Z",
          "iopub.status.idle": "2024-01-17T22:25:57.880537Z",
          "shell.execute_reply.started": "2024-01-17T22:25:57.651337Z",
          "shell.execute_reply": "2024-01-17T22:25:57.879622Z"
        },
        "trusted": true,
        "colab": {
          "base_uri": "https://localhost:8080/",
          "height": 313
        },
        "id": "DyX4aXV2jmdC",
        "outputId": "c4900642-406a-4579-d0ff-81b2d31cffc7"
      },
      "execution_count": null,
      "outputs": [
        {
          "output_type": "execute_result",
          "data": {
            "text/plain": [
              "<Axes: title={'center': 'Confusion Matrix for the Model RandomForestClassifier'}>"
            ]
          },
          "metadata": {},
          "execution_count": 47
        },
        {
          "output_type": "display_data",
          "data": {
            "text/plain": [
              "<Figure size 640x480 with 2 Axes>"
            ],
            "image/png": "[encoded data removed]"
          },
          "metadata": {}
        }
      ]
    },
    {
      "cell_type": "code",
      "source": [
        "\n",
        "total=sum(sum(cm))\n",
        "sensitivity = cm[0,0]/(cm[0,0]+cm[1,0])\n",
        "print('Sensitivity : ', sensitivity )\n",
        "\n",
        "specificity = cm[1,1]/(cm[1,1]+cm[0,1])\n",
        "print('Specificity : ', specificity)"
      ],
      "metadata": {
        "colab": {
          "base_uri": "https://localhost:8080/"
        },
        "id": "gLJN76OaX4ov",
        "outputId": "3f346719-9467-4ab3-ad07-5e1b4cd1a428",
        "execution": {
          "iopub.status.busy": "2024-01-17T22:26:26.503309Z",
          "iopub.execute_input": "2024-01-17T22:26:26.503693Z",
          "iopub.status.idle": "2024-01-17T22:26:26.509618Z",
          "shell.execute_reply.started": "2024-01-17T22:26:26.503664Z",
          "shell.execute_reply": "2024-01-17T22:26:26.508540Z"
        },
        "trusted": true
      },
      "execution_count": null,
      "outputs": [
        {
          "output_type": "stream",
          "name": "stdout",
          "text": [
            "Sensitivity :  0.9722222222222222\n",
            "Specificity :  0.9947368421052631\n"
          ]
        }
      ]
    },
    {
      "cell_type": "code",
      "source": [
        "total=sum(sum(cm))\n",
        "\n",
        "ppv = cm[0,0]/(cm[0,0]+cm[0,1])\n",
        "print('ppv : ', ppv )\n",
        "\n",
        "npv = cm[1,1]/(cm[1,0]+cm[1,1])\n",
        "print('npv : ', npv)"
      ],
      "metadata": {
        "colab": {
          "base_uri": "https://localhost:8080/"
        },
        "id": "TdbDNH2qYEGv",
        "outputId": "2ff3a639-a27e-4bd2-ba2e-4b2e1122b159",
        "execution": {
          "iopub.status.busy": "2024-01-17T22:26:53.809387Z",
          "iopub.execute_input": "2024-01-17T22:26:53.810240Z",
          "iopub.status.idle": "2024-01-17T22:26:53.816254Z",
          "shell.execute_reply.started": "2024-01-17T22:26:53.810209Z",
          "shell.execute_reply": "2024-01-17T22:26:53.815301Z"
        },
        "trusted": true
      },
      "execution_count": null,
      "outputs": [
        {
          "output_type": "stream",
          "name": "stdout",
          "text": [
            "ppv :  0.9943181818181818\n",
            "npv :  0.9742268041237113\n"
          ]
        }
      ]
    },
    {
      "cell_type": "markdown",
      "source": [
        "#### Check the metrices for the model"
      ],
      "metadata": {
        "id": "o54zpVFRjmdD"
      }
    },
    {
      "cell_type": "code",
      "source": [
        "#Calculating Recall Score : (Sensitivity) (TP / float(TP + FN))   1 / 1+2\n",
        "RecallScore = recall_score(y_test, pred_RFC, average='micro')\n",
        "print('Recall Score is : ', RecallScore)"
      ],
      "metadata": {
        "colab": {
          "base_uri": "https://localhost:8080/"
        },
        "id": "yxPqZv68YYPe",
        "outputId": "5bbedf0c-3766-4773-9556-f75085a6bf6b",
        "execution": {
          "iopub.status.busy": "2024-01-17T22:27:30.986768Z",
          "iopub.execute_input": "2024-01-17T22:27:30.987695Z",
          "iopub.status.idle": "2024-01-17T22:27:30.996667Z",
          "shell.execute_reply.started": "2024-01-17T22:27:30.987663Z",
          "shell.execute_reply": "2024-01-17T22:27:30.995804Z"
        },
        "trusted": true
      },
      "execution_count": null,
      "outputs": [
        {
          "output_type": "stream",
          "name": "stdout",
          "text": [
            "Recall Score is :  0.9803921568627451\n"
          ]
        }
      ]
    },
    {
      "cell_type": "code",
      "source": [
        "#Calculating Precision Score : (Specificity) #(TP / float(TP + FP))\n",
        "PrecisionScore = precision_score(y_test, pred_RFC, average='micro')\n",
        "print('Precision Score is : ', PrecisionScore)"
      ],
      "metadata": {
        "colab": {
          "base_uri": "https://localhost:8080/"
        },
        "id": "DZqDNO0qZRqG",
        "outputId": "50ea8e75-8913-4fbb-d6ce-01a3fdd5ddcc",
        "execution": {
          "iopub.status.busy": "2024-01-17T22:27:41.899220Z",
          "iopub.execute_input": "2024-01-17T22:27:41.899579Z",
          "iopub.status.idle": "2024-01-17T22:27:41.908629Z",
          "shell.execute_reply.started": "2024-01-17T22:27:41.899554Z",
          "shell.execute_reply": "2024-01-17T22:27:41.907668Z"
        },
        "trusted": true
      },
      "execution_count": null,
      "outputs": [
        {
          "output_type": "stream",
          "name": "stdout",
          "text": [
            "Precision Score is :  0.9803921568627451\n"
          ]
        }
      ]
    },
    {
      "cell_type": "code",
      "source": [
        "#Calculating Precision recall Score :\n",
        "PrecisionRecallScore = precision_recall_fscore_support(y_test, pred_RFC, average='micro')\n",
        "print('Precision Recall Score is : ', PrecisionRecallScore)"
      ],
      "metadata": {
        "colab": {
          "base_uri": "https://localhost:8080/"
        },
        "id": "BKCjtAyoZqAP",
        "outputId": "48923e70-cab3-4cae-c97b-e5dce63836fd",
        "execution": {
          "iopub.status.busy": "2024-01-17T22:27:46.202080Z",
          "iopub.execute_input": "2024-01-17T22:27:46.202860Z",
          "iopub.status.idle": "2024-01-17T22:27:46.212387Z",
          "shell.execute_reply.started": "2024-01-17T22:27:46.202831Z",
          "shell.execute_reply": "2024-01-17T22:27:46.211434Z"
        },
        "trusted": true
      },
      "execution_count": null,
      "outputs": [
        {
          "output_type": "stream",
          "name": "stdout",
          "text": [
            "Precision Recall Score is :  (0.9803921568627451, 0.9803921568627451, 0.9803921568627451, None)\n"
          ]
        }
      ]
    },
    {
      "cell_type": "code",
      "source": [
        "#Calculating Mean Absolute Error\n",
        "MAEValue = mean_absolute_error(y_test, pred_RFC, multioutput='uniform_average') # it can be raw_values\n",
        "print('Mean Absolute Error Value is : ', MAEValue)"
      ],
      "metadata": {
        "colab": {
          "base_uri": "https://localhost:8080/"
        },
        "id": "NbLapzGLZsFo",
        "outputId": "528f713e-e2aa-49e4-cab0-bc87d82ac55e",
        "execution": {
          "iopub.status.busy": "2024-01-17T22:27:51.385819Z",
          "iopub.execute_input": "2024-01-17T22:27:51.386260Z",
          "iopub.status.idle": "2024-01-17T22:27:51.392200Z",
          "shell.execute_reply.started": "2024-01-17T22:27:51.386226Z",
          "shell.execute_reply": "2024-01-17T22:27:51.391238Z"
        },
        "trusted": true
      },
      "execution_count": null,
      "outputs": [
        {
          "output_type": "stream",
          "name": "stdout",
          "text": [
            "Mean Absolute Error Value is :  0.023172905525846704\n"
          ]
        }
      ]
    },
    {
      "cell_type": "code",
      "source": [
        "#Calculating Mean Squared Error\n",
        "MSEValue = mean_squared_error(y_test, pred_RFC, multioutput='uniform_average') # it can be raw_values\n",
        "print('Mean Squared Error Value is : ', MSEValue)\n",
        "\n",
        "\n",
        "#Calculating Median Squared Error\n",
        "MdSEValue = median_absolute_error(y_test,pred_RFC)\n",
        "print('Median Squared Error Value is : ', MdSEValue )"
      ],
      "metadata": {
        "colab": {
          "base_uri": "https://localhost:8080/"
        },
        "id": "-vdZXAf_ZxDv",
        "outputId": "4dec1392-01e9-4cbc-81f3-4b10bfa1bf68",
        "execution": {
          "iopub.status.busy": "2024-01-17T22:27:56.825227Z",
          "iopub.execute_input": "2024-01-17T22:27:56.825595Z",
          "iopub.status.idle": "2024-01-17T22:27:56.833087Z",
          "shell.execute_reply.started": "2024-01-17T22:27:56.825566Z",
          "shell.execute_reply": "2024-01-17T22:27:56.832134Z"
        },
        "trusted": true
      },
      "execution_count": null,
      "outputs": [
        {
          "output_type": "stream",
          "name": "stdout",
          "text": [
            "Mean Squared Error Value is :  0.030303030303030304\n",
            "Median Squared Error Value is :  0.0\n"
          ]
        }
      ]
    },
    {
      "cell_type": "markdown",
      "source": [
        "# Using DecisionTreeClassifier"
      ],
      "metadata": {
        "id": "LiHr9yh5o3ud"
      }
    },
    {
      "cell_type": "code",
      "source": [
        "# Fitting Decision Tree Classification to the Training set\n",
        "from sklearn.tree import DecisionTreeClassifier\n",
        "classifier = DecisionTreeClassifier(criterion = 'entropy', random_state = 0)\n",
        "classifier.fit(X_train, y_train)"
      ],
      "metadata": {
        "colab": {
          "base_uri": "https://localhost:8080/",
          "height": 94
        },
        "id": "fxr1Z5xuo3HC",
        "outputId": "d494ca94-ac44-4fd5-8eb9-fb33f8ad2df1"
      },
      "execution_count": null,
      "outputs": [
        {
          "output_type": "execute_result",
          "data": {
            "text/plain": [
              "DecisionTreeClassifier(criterion='entropy', random_state=0)"
            ],
            "text/html": [
              "<style>#sk-container-id-5 {color: black;background-color: white;}#sk-container-id-5 pre{padding: 0;}#sk-container-id-5 div.sk-toggleable {background-color: white;}#sk-container-id-5 label.sk-toggleable__label {cursor: pointer;display: block;width: 100%;margin-bottom: 0;padding: 0.3em;box-sizing: border-box;text-align: center;}#sk-container-id-5 label.sk-toggleable__label-arrow:before {content: \"▸\";float: left;margin-right: 0.25em;color: #696969;}#sk-container-id-5 label.sk-toggleable__label-arrow:hover:before {color: black;}#sk-container-id-5 div.sk-estimator:hover label.sk-toggleable__label-arrow:before {color: black;}#sk-container-id-5 div.sk-toggleable__content {max-height: 0;max-width: 0;overflow: hidden;text-align: left;background-color: #f0f8ff;}#sk-container-id-5 div.sk-toggleable__content pre {margin: 0.2em;color: black;border-radius: 0.25em;background-color: #f0f8ff;}#sk-container-id-5 input.sk-toggleable__control:checked~div.sk-toggleable__content {max-height: 200px;max-width: 100%;overflow: auto;}#sk-container-id-5 input.sk-toggleable__control:checked~label.sk-toggleable__label-arrow:before {content: \"▾\";}#sk-container-id-5 div.sk-estimator input.sk-toggleable__control:checked~label.sk-toggleable__label {background-color: #d4ebff;}#sk-container-id-5 div.sk-label input.sk-toggleable__control:checked~label.sk-toggleable__label {background-color: #d4ebff;}#sk-container-id-5 input.sk-hidden--visually {border: 0;clip: rect(1px 1px 1px 1px);clip: rect(1px, 1px, 1px, 1px);height: 1px;margin: -1px;overflow: hidden;padding: 0;position: absolute;width: 1px;}#sk-container-id-5 div.sk-estimator {font-family: monospace;background-color: #f0f8ff;border: 1px dotted black;border-radius: 0.25em;box-sizing: border-box;margin-bottom: 0.5em;}#sk-container-id-5 div.sk-estimator:hover {background-color: #d4ebff;}#sk-container-id-5 div.sk-parallel-item::after {content: \"\";width: 100%;border-bottom: 1px solid gray;flex-grow: 1;}#sk-container-id-5 div.sk-label:hover label.sk-toggleable__label {background-color: #d4ebff;}#sk-container-id-5 div.sk-serial::before {content: \"\";position: absolute;border-left: 1px solid gray;box-sizing: border-box;top: 0;bottom: 0;left: 50%;z-index: 0;}#sk-container-id-5 div.sk-serial {display: flex;flex-direction: column;align-items: center;background-color: white;padding-right: 0.2em;padding-left: 0.2em;position: relative;}#sk-container-id-5 div.sk-item {position: relative;z-index: 1;}#sk-container-id-5 div.sk-parallel {display: flex;align-items: stretch;justify-content: center;background-color: white;position: relative;}#sk-container-id-5 div.sk-item::before, #sk-container-id-5 div.sk-parallel-item::before {content: \"\";position: absolute;border-left: 1px solid gray;box-sizing: border-box;top: 0;bottom: 0;left: 50%;z-index: -1;}#sk-container-id-5 div.sk-parallel-item {display: flex;flex-direction: column;z-index: 1;position: relative;background-color: white;}#sk-container-id-5 div.sk-parallel-item:first-child::after {align-self: flex-end;width: 50%;}#sk-container-id-5 div.sk-parallel-item:last-child::after {align-self: flex-start;width: 50%;}#sk-container-id-5 div.sk-parallel-item:only-child::after {width: 0;}#sk-container-id-5 div.sk-dashed-wrapped {border: 1px dashed gray;margin: 0 0.4em 0.5em 0.4em;box-sizing: border-box;padding-bottom: 0.4em;background-color: white;}#sk-container-id-5 div.sk-label label {font-family: monospace;font-weight: bold;display: inline-block;line-height: 1.2em;}#sk-container-id-5 div.sk-label-container {text-align: center;}#sk-container-id-5 div.sk-container {/* jupyter's `normalize.less` sets `[hidden] { display: none; }` but bootstrap.min.css set `[hidden] { display: none !important; }` so we also need the `!important` here to be able to override the default hidden behavior on the sphinx rendered scikit-learn.org. See: https://github.com/scikit-learn/scikit-learn/issues/21755 */display: inline-block !important;position: relative;}#sk-container-id-5 div.sk-text-repr-fallback {display: none;}</style><div id=\"sk-container-id-5\" class=\"sk-top-container\"><div class=\"sk-text-repr-fallback\"><pre>DecisionTreeClassifier(criterion=&#x27;entropy&#x27;, random_state=0)</pre><b>In a Jupyter environment, please rerun this cell to show the HTML representation or trust the notebook. <br />On GitHub, the HTML representation is unable to render, please try loading this page with nbviewer.org.</b></div><div class=\"sk-container\" hidden><div class=\"sk-item\"><div class=\"sk-estimator sk-toggleable\"><input class=\"sk-toggleable__control sk-hidden--visually\" id=\"sk-estimator-id-5\" type=\"checkbox\" checked><label for=\"sk-estimator-id-5\" class=\"sk-toggleable__label sk-toggleable__label-arrow\">DecisionTreeClassifier</label><div class=\"sk-toggleable__content\"><pre>DecisionTreeClassifier(criterion=&#x27;entropy&#x27;, random_state=0)</pre></div></div></div></div></div>"
            ]
          },
          "metadata": {},
          "execution_count": 56
        }
      ]
    },
    {
      "cell_type": "code",
      "source": [
        "# Check the model prediction\n",
        "pred_DecisionTreeClassifier= classifier.predict(X_test)\n",
        "print(pred_DecisionTreeClassifier[:10])"
      ],
      "metadata": {
        "colab": {
          "base_uri": "https://localhost:8080/"
        },
        "id": "UmdHlEgfpRgu",
        "outputId": "6da33f7c-8033-4647-af8b-87290071ef02"
      },
      "execution_count": null,
      "outputs": [
        {
          "output_type": "stream",
          "name": "stdout",
          "text": [
            "[1 1 1 2 2 0 2 0 0 2]\n"
          ]
        }
      ]
    },
    {
      "cell_type": "code",
      "source": [
        "# Check the score for the model\n",
        "print('Model DecisionTreeClassifier Train Score is : ' , classifier.score(X_train, y_train))\n",
        "print('Model DecisionTreeClassifier Test Score is : ' , classifier.score(X_test, y_test))"
      ],
      "metadata": {
        "colab": {
          "base_uri": "https://localhost:8080/"
        },
        "id": "a3GfInPtp32d",
        "outputId": "10486241-fbd4-41b6-f15c-aac95cdbcf13"
      },
      "execution_count": null,
      "outputs": [
        {
          "output_type": "stream",
          "name": "stdout",
          "text": [
            "Model DecisionTreeClassifier Train Score is :  1.0\n",
            "Model DecisionTreeClassifier Test Score is :  0.9786096256684492\n"
          ]
        }
      ]
    },
    {
      "cell_type": "code",
      "source": [
        "#confusion matrix\n",
        "cm = confusion_matrix(y_test,y_predict)"
      ],
      "metadata": {
        "id": "yMUo056cqC1U"
      },
      "execution_count": null,
      "outputs": []
    },
    {
      "cell_type": "code",
      "source": [
        "sns.heatmap(cm, annot=True,fmt='g')\n",
        "plt.ylabel('Prediction',fontsize=13)\n",
        "plt.xlabel('Actual',fontsize=13)\n",
        "plt.title('Confusion Matrix',fontsize=17)\n",
        "plt.show()"
      ],
      "metadata": {
        "colab": {
          "base_uri": "https://localhost:8080/",
          "height": 269
        },
        "id": "WBHcx6-cqNID",
        "outputId": "8affc2b5-d92e-4f99-893f-184024c3947c"
      },
      "execution_count": null,
      "outputs": [
        {
          "output_type": "display_data",
          "data": {
            "text/plain": [
              "<Figure size 640x480 with 2 Axes>"
            ],
            "image/png": "[encoded data removed]"
          },
          "metadata": {}
        }
      ]
    },
    {
      "cell_type": "code",
      "source": [
        "total=sum(sum(cm))\n",
        "sensitivity = cm[0,0]/(cm[0,0]+cm[1,0])\n",
        "print('Sensitivity : ', sensitivity )\n",
        "\n",
        "specificity = cm[1,1]/(cm[1,1]+cm[0,1])\n",
        "print('Specificity : ', specificity)"
      ],
      "metadata": {
        "colab": {
          "base_uri": "https://localhost:8080/"
        },
        "id": "xZiww6nHqM8G",
        "outputId": "ce7388ee-2f1b-42f7-9ca8-13b3aa777ca3"
      },
      "execution_count": null,
      "outputs": [
        {
          "output_type": "stream",
          "name": "stdout",
          "text": [
            "Sensitivity :  0.9722222222222222\n",
            "Specificity :  0.9947368421052631\n"
          ]
        }
      ]
    },
    {
      "cell_type": "code",
      "source": [
        "total=sum(sum(cm))\n",
        "\n",
        "ppv = cm[0,0]/(cm[0,0]+cm[0,1])\n",
        "print('ppv : ', ppv )\n",
        "\n",
        "npv = cm[1,1]/(cm[1,0]+cm[1,1])\n",
        "print('npv : ', npv)"
      ],
      "metadata": {
        "colab": {
          "base_uri": "https://localhost:8080/"
        },
        "id": "RRVFctz6qMt0",
        "outputId": "7aa96a25-86a0-4f59-fa04-8c51651ea1e2"
      },
      "execution_count": null,
      "outputs": [
        {
          "output_type": "stream",
          "name": "stdout",
          "text": [
            "ppv :  0.9943181818181818\n",
            "npv :  0.9742268041237113\n"
          ]
        }
      ]
    },
    {
      "cell_type": "code",
      "source": [
        "#Calculating Recall Score : (Sensitivity) (TP / float(TP + FN))   1 / 1+2\n",
        "RecallScore = recall_score(y_test, pred_DecisionTreeClassifier, average='micro')\n",
        "print('Recall Score is : ', RecallScore)"
      ],
      "metadata": {
        "colab": {
          "base_uri": "https://localhost:8080/"
        },
        "id": "PLOjgmgTqXDa",
        "outputId": "d4a38d7d-b796-4f9a-a0f2-72773066bfab"
      },
      "execution_count": null,
      "outputs": [
        {
          "output_type": "stream",
          "name": "stdout",
          "text": [
            "Recall Score is :  0.9786096256684492\n"
          ]
        }
      ]
    },
    {
      "cell_type": "code",
      "source": [
        "#Calculating Precision Score : (Specificity) #(TP / float(TP + FP))\n",
        "PrecisionScore = precision_score(y_test, pred_DecisionTreeClassifier, average='micro')\n",
        "print('Precision Score is : ', PrecisionScore)"
      ],
      "metadata": {
        "colab": {
          "base_uri": "https://localhost:8080/"
        },
        "id": "BEEqauklq864",
        "outputId": "90d4ae97-33e0-4ca4-fb18-041e5d5095fb"
      },
      "execution_count": null,
      "outputs": [
        {
          "output_type": "stream",
          "name": "stdout",
          "text": [
            "Precision Score is :  0.9786096256684492\n"
          ]
        }
      ]
    },
    {
      "cell_type": "code",
      "source": [
        "#Calculating Precision recall Score :\n",
        "PrecisionRecallScore = precision_recall_fscore_support(y_test, pred_DecisionTreeClassifier, average='micro')\n",
        "print('Precision Recall Score is : ', PrecisionRecallScore)"
      ],
      "metadata": {
        "colab": {
          "base_uri": "https://localhost:8080/"
        },
        "id": "QNm9Fbaxq_2d",
        "outputId": "67a46f27-9e7e-40b3-fa85-1fe5457cb4de"
      },
      "execution_count": null,
      "outputs": [
        {
          "output_type": "stream",
          "name": "stdout",
          "text": [
            "Precision Recall Score is :  (0.9786096256684492, 0.9786096256684492, 0.9786096256684492, None)\n"
          ]
        }
      ]
    },
    {
      "cell_type": "code",
      "source": [
        "#Calculating Mean Absolute Error\n",
        "MAEValue = mean_absolute_error(y_test, pred_DecisionTreeClassifier, multioutput='uniform_average') # it can be raw_values\n",
        "print('Mean Absolute Error Value is : ', MAEValue)"
      ],
      "metadata": {
        "colab": {
          "base_uri": "https://localhost:8080/"
        },
        "id": "ATXOO8torCHm",
        "outputId": "654c8559-d8f5-47ba-ab1d-e4c4d4030b75"
      },
      "execution_count": null,
      "outputs": [
        {
          "output_type": "stream",
          "name": "stdout",
          "text": [
            "Mean Absolute Error Value is :  0.024955436720142603\n"
          ]
        }
      ]
    },
    {
      "cell_type": "code",
      "source": [
        "#Calculating Mean Squared Error\n",
        "MSEValue = mean_squared_error(y_test, pred_DecisionTreeClassifier, multioutput='uniform_average') # it can be raw_values\n",
        "print('Mean Squared Error Value is : ', MSEValue)\n",
        "\n",
        "\n",
        "#Calculating Median Squared Error\n",
        "MdSEValue = median_absolute_error(y_test,pred_DecisionTreeClassifier)\n",
        "print('Median Squared Error Value is : ', MdSEValue )"
      ],
      "metadata": {
        "colab": {
          "base_uri": "https://localhost:8080/"
        },
        "id": "-TaZk68srEi9",
        "outputId": "560f76f7-41ae-473e-dc51-e69d50218e15"
      },
      "execution_count": null,
      "outputs": [
        {
          "output_type": "stream",
          "name": "stdout",
          "text": [
            "Mean Squared Error Value is :  0.03208556149732621\n",
            "Median Squared Error Value is :  0.0\n"
          ]
        }
      ]
    },
    {
      "cell_type": "markdown",
      "source": [
        "<h1>\n",
        "\n",
        "```\n",
        "Thanks\n",
        "```\n"
      ],
      "metadata": {
        "id": "G4AI62KokmAL"
      }
    }
  ]
}
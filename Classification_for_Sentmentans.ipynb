{
  "cells": [
    {
      "cell_type": "markdown",
      "metadata": {
        "id": "view-in-github",
        "colab_type": "text"
      },
      "source": [
        "<a href=\"https://colab.research.google.com/github/mohamedbakrey12/Advanced-Data-Science/blob/master/Classification_for_Sentmentans.ipynb\" target=\"_parent\"><img src=\"https://colab.research.google.com/assets/colab-badge.svg\" alt=\"Open In Colab\"/></a>"
      ]
    },
    {
      "cell_type": "markdown",
      "metadata": {
        "id": "pbOzZMY70WpW"
      },
      "source": [
        "# Introduction\n",
        "   In this project I work for classification model for arabic words\n",
        "\n",
        "### Project Pipeline\n",
        "\n",
        "1.  Loading the library\n",
        "2. Loading Dataset\n",
        "3. Data pre-Processing\n",
        "4. Applying the Model Machine Learning\n",
        "5. Applying\n",
        "6. Applying the"
      ]
    },
    {
      "cell_type": "markdown",
      "metadata": {
        "id": "7SNoKdoh0kI-"
      },
      "source": [
        "# 1. Loading Library"
      ]
    },
    {
      "cell_type": "code",
      "execution_count": null,
      "metadata": {
        "colab": {
          "base_uri": "https://localhost:8080/"
        },
        "id": "va9lNKtKztQh",
        "outputId": "db1f1151-195b-4ad9-8014-959759948d61"
      },
      "outputs": [
        {
          "output_type": "stream",
          "name": "stderr",
          "text": [
            "[nltk_data] Downloading package stopwords to /root/nltk_data...\n",
            "[nltk_data]   Unzipping corpora/stopwords.zip.\n"
          ]
        }
      ],
      "source": [
        "# Using this for working with dataset\n",
        "import pandas as pd\n",
        "import numpy as np\n",
        "import matplotlib.pyplot as plt\n",
        "import seaborn as sns\n",
        "import re\n",
        "import nltk\n",
        "nltk.download('stopwords')\n",
        "from nltk.corpus import stopwords\n",
        "from nltk.stem import SnowballStemmer\n",
        "\n",
        "\n",
        "# Spliting the data\n",
        "from sklearn.model_selection import train_test_split\n",
        "\n",
        "\n",
        "# Using this library for transform the data into numeric\n",
        "from sklearn.feature_extraction.text import TfidfVectorizer\n",
        "from sklearn.preprocessing import LabelEncoder\n",
        "\n",
        "# Modeling machine learning\n",
        "from sklearn.linear_model import LogisticRegression\n",
        "from xgboost import XGBClassifier\n",
        "\n",
        "\n",
        "\n",
        "# For Metrics, to check the model evaluation\n",
        "from sklearn.metrics import f1_score\n",
        "from sklearn.metrics import recall_score\n",
        "from sklearn.metrics import precision_score\n",
        "from sklearn.metrics import precision_recall_fscore_support\n",
        "from sklearn.metrics import precision_recall_curve\n",
        "from sklearn.metrics import classification_report\n",
        "from sklearn.metrics import confusion_matrix\n",
        "from sklearn.metrics import mean_absolute_error\n",
        "from sklearn.metrics import mean_squared_error\n",
        "from sklearn.metrics import median_absolute_error\n",
        "from sklearn.metrics import accuracy_score\n",
        "from sklearn.metrics import roc_curve, auc\n",
        "from matplotlib import pyplot\n",
        "\n",
        "\n",
        "# Using this library for the LSTM model Deep learning.\n",
        "\n",
        "from keras.utils import pad_sequences\n",
        "from keras.preprocessing.text import Tokenizer\n",
        "from keras.models import Sequential\n",
        "from keras.layers import Embedding, Conv1D, MaxPooling1D, Bidirectional, LSTM, Dense, Dropout\n",
        "from keras.metrics import Precision, Recall\n",
        "from keras.optimizers import SGD\n",
        "from keras.optimizers import RMSprop\n",
        "import keras.backend as K\n",
        "from keras.callbacks import LearningRateScheduler\n",
        "\n",
        "\n",
        "\n",
        "\n",
        "# Saving the Model\n",
        "import pickle\n",
        "# loading the model\n",
        "from keras.models import load_model"
      ]
    },
    {
      "cell_type": "markdown",
      "metadata": {
        "id": "E2mbd3oa5F_r"
      },
      "source": [
        "# 2. Read the dataset"
      ]
    },
    {
      "cell_type": "code",
      "execution_count": null,
      "metadata": {
        "colab": {
          "base_uri": "https://localhost:8080/",
          "height": 955
        },
        "id": "oDTzWwANz9ec",
        "outputId": "35945182-a01f-48d7-d4a7-f6d9642911a1"
      },
      "outputs": [
        {
          "output_type": "execute_result",
          "data": {
            "text/plain": [
              "   Review_ID aspectCategory sentiment  \\\n",
              "0          1        seating  positive   \n",
              "1          2        seating  negative   \n",
              "2          3        seating  positive   \n",
              "3          4        seating  negative   \n",
              "4          5        seating  positive   \n",
              "5          6        seating  negative   \n",
              "6          7        seating  positive   \n",
              "7          8        seating  negative   \n",
              "8          9        seating  positive   \n",
              "9         10        seating  negative   \n",
              "\n",
              "                                            Pre_Text  \n",
              "0  seating copy comfortable perfect relaxing coff...  \n",
              "1  love alliance café seating bit cramped negativ...  \n",
              "2  seating arrangement wellspaced allowing privac...  \n",
              "3  honestly seating quite uncomfortable wish fash...  \n",
              "4  appreciate variety seating options high tools ...  \n",
              "5  café lovely seating feels bit crowded hard rel...  \n",
              "6  outdoor seating area charming especially sunny...  \n",
              "7  enjoy coming work seating isnt economic negati...  \n",
              "8  seating window offers nice view street outside...  \n",
              "9  chairs surprisingly uncomfortable copy café do...  "
            ],
            "text/html": [
              "\n",
              "  <div id=\"df-09f6d41a-ad6a-4f1a-be5e-5e5079b9f8fe\" class=\"colab-df-container\">\n",
              "    <div>\n",
              "<style scoped>\n",
              "    .dataframe tbody tr th:only-of-type {\n",
              "        vertical-align: middle;\n",
              "    }\n",
              "\n",
              "    .dataframe tbody tr th {\n",
              "        vertical-align: top;\n",
              "    }\n",
              "\n",
              "    .dataframe thead th {\n",
              "        text-align: right;\n",
              "    }\n",
              "</style>\n",
              "<table border=\"1\" class=\"dataframe\">\n",
              "  <thead>\n",
              "    <tr style=\"text-align: right;\">\n",
              "      <th></th>\n",
              "      <th>Review_ID</th>\n",
              "      <th>aspectCategory</th>\n",
              "      <th>sentiment</th>\n",
              "      <th>Pre_Text</th>\n",
              "    </tr>\n",
              "  </thead>\n",
              "  <tbody>\n",
              "    <tr>\n",
              "      <th>0</th>\n",
              "      <td>1</td>\n",
              "      <td>seating</td>\n",
              "      <td>positive</td>\n",
              "      <td>seating copy comfortable perfect relaxing coff...</td>\n",
              "    </tr>\n",
              "    <tr>\n",
              "      <th>1</th>\n",
              "      <td>2</td>\n",
              "      <td>seating</td>\n",
              "      <td>negative</td>\n",
              "      <td>love alliance café seating bit cramped negativ...</td>\n",
              "    </tr>\n",
              "    <tr>\n",
              "      <th>2</th>\n",
              "      <td>3</td>\n",
              "      <td>seating</td>\n",
              "      <td>positive</td>\n",
              "      <td>seating arrangement wellspaced allowing privac...</td>\n",
              "    </tr>\n",
              "    <tr>\n",
              "      <th>3</th>\n",
              "      <td>4</td>\n",
              "      <td>seating</td>\n",
              "      <td>negative</td>\n",
              "      <td>honestly seating quite uncomfortable wish fash...</td>\n",
              "    </tr>\n",
              "    <tr>\n",
              "      <th>4</th>\n",
              "      <td>5</td>\n",
              "      <td>seating</td>\n",
              "      <td>positive</td>\n",
              "      <td>appreciate variety seating options high tools ...</td>\n",
              "    </tr>\n",
              "    <tr>\n",
              "      <th>5</th>\n",
              "      <td>6</td>\n",
              "      <td>seating</td>\n",
              "      <td>negative</td>\n",
              "      <td>café lovely seating feels bit crowded hard rel...</td>\n",
              "    </tr>\n",
              "    <tr>\n",
              "      <th>6</th>\n",
              "      <td>7</td>\n",
              "      <td>seating</td>\n",
              "      <td>positive</td>\n",
              "      <td>outdoor seating area charming especially sunny...</td>\n",
              "    </tr>\n",
              "    <tr>\n",
              "      <th>7</th>\n",
              "      <td>8</td>\n",
              "      <td>seating</td>\n",
              "      <td>negative</td>\n",
              "      <td>enjoy coming work seating isnt economic negati...</td>\n",
              "    </tr>\n",
              "    <tr>\n",
              "      <th>8</th>\n",
              "      <td>9</td>\n",
              "      <td>seating</td>\n",
              "      <td>positive</td>\n",
              "      <td>seating window offers nice view street outside...</td>\n",
              "    </tr>\n",
              "    <tr>\n",
              "      <th>9</th>\n",
              "      <td>10</td>\n",
              "      <td>seating</td>\n",
              "      <td>negative</td>\n",
              "      <td>chairs surprisingly uncomfortable copy café do...</td>\n",
              "    </tr>\n",
              "  </tbody>\n",
              "</table>\n",
              "</div>\n",
              "    <div class=\"colab-df-buttons\">\n",
              "\n",
              "  <div class=\"colab-df-container\">\n",
              "    <button class=\"colab-df-convert\" onclick=\"convertToInteractive('df-09f6d41a-ad6a-4f1a-be5e-5e5079b9f8fe')\"\n",
              "            title=\"Convert this dataframe to an interactive table.\"\n",
              "            style=\"display:none;\">\n",
              "\n",
              "  <svg xmlns=\"http://www.w3.org/2000/svg\" height=\"24px\" viewBox=\"0 -960 960 960\">\n",
              "    <path d=\"M120-120v-720h720v720H120Zm60-500h600v-160H180v160Zm220 220h160v-160H400v160Zm0 220h160v-160H400v160ZM180-400h160v-160H180v160Zm440 0h160v-160H620v160ZM180-180h160v-160H180v160Zm440 0h160v-160H620v160Z\"/>\n",
              "  </svg>\n",
              "    </button>\n",
              "\n",
              "  <style>\n",
              "    .colab-df-container {\n",
              "      display:flex;\n",
              "      gap: 12px;\n",
              "    }\n",
              "\n",
              "    .colab-df-convert {\n",
              "      background-color: #E8F0FE;\n",
              "      border: none;\n",
              "      border-radius: 50%;\n",
              "      cursor: pointer;\n",
              "      display: none;\n",
              "      fill: #1967D2;\n",
              "      height: 32px;\n",
              "      padding: 0 0 0 0;\n",
              "      width: 32px;\n",
              "    }\n",
              "\n",
              "    .colab-df-convert:hover {\n",
              "      background-color: #E2EBFA;\n",
              "      box-shadow: 0px 1px 2px rgba(60, 64, 67, 0.3), 0px 1px 3px 1px rgba(60, 64, 67, 0.15);\n",
              "      fill: #174EA6;\n",
              "    }\n",
              "\n",
              "    .colab-df-buttons div {\n",
              "      margin-bottom: 4px;\n",
              "    }\n",
              "\n",
              "    [theme=dark] .colab-df-convert {\n",
              "      background-color: #3B4455;\n",
              "      fill: #D2E3FC;\n",
              "    }\n",
              "\n",
              "    [theme=dark] .colab-df-convert:hover {\n",
              "      background-color: #434B5C;\n",
              "      box-shadow: 0px 1px 3px 1px rgba(0, 0, 0, 0.15);\n",
              "      filter: drop-shadow(0px 1px 2px rgba(0, 0, 0, 0.3));\n",
              "      fill: #FFFFFF;\n",
              "    }\n",
              "  </style>\n",
              "\n",
              "    <script>\n",
              "      const buttonEl =\n",
              "        document.querySelector('#df-09f6d41a-ad6a-4f1a-be5e-5e5079b9f8fe button.colab-df-convert');\n",
              "      buttonEl.style.display =\n",
              "        google.colab.kernel.accessAllowed ? 'block' : 'none';\n",
              "\n",
              "      async function convertToInteractive(key) {\n",
              "        const element = document.querySelector('#df-09f6d41a-ad6a-4f1a-be5e-5e5079b9f8fe');\n",
              "        const dataTable =\n",
              "          await google.colab.kernel.invokeFunction('convertToInteractive',\n",
              "                                                    [key], {});\n",
              "        if (!dataTable) return;\n",
              "\n",
              "        const docLinkHtml = 'Like what you see? Visit the ' +\n",
              "          '<a target=\"_blank\" href=https://colab.research.google.com/notebooks/data_table.ipynb>data table notebook</a>'\n",
              "          + ' to learn more about interactive tables.';\n",
              "        element.innerHTML = '';\n",
              "        dataTable['output_type'] = 'display_data';\n",
              "        await google.colab.output.renderOutput(dataTable, element);\n",
              "        const docLink = document.createElement('div');\n",
              "        docLink.innerHTML = docLinkHtml;\n",
              "        element.appendChild(docLink);\n",
              "      }\n",
              "    </script>\n",
              "  </div>\n",
              "\n",
              "\n",
              "<div id=\"df-7ff8b15d-a803-4a72-9e3d-05d7b4d5fd4b\">\n",
              "  <button class=\"colab-df-quickchart\" onclick=\"quickchart('df-7ff8b15d-a803-4a72-9e3d-05d7b4d5fd4b')\"\n",
              "            title=\"Suggest charts\"\n",
              "            style=\"display:none;\">\n",
              "\n",
              "<svg xmlns=\"http://www.w3.org/2000/svg\" height=\"24px\"viewBox=\"0 0 24 24\"\n",
              "     width=\"24px\">\n",
              "    <g>\n",
              "        <path d=\"M19 3H5c-1.1 0-2 .9-2 2v14c0 1.1.9 2 2 2h14c1.1 0 2-.9 2-2V5c0-1.1-.9-2-2-2zM9 17H7v-7h2v7zm4 0h-2V7h2v10zm4 0h-2v-4h2v4z\"/>\n",
              "    </g>\n",
              "</svg>\n",
              "  </button>\n",
              "\n",
              "<style>\n",
              "  .colab-df-quickchart {\n",
              "      --bg-color: #E8F0FE;\n",
              "      --fill-color: #1967D2;\n",
              "      --hover-bg-color: #E2EBFA;\n",
              "      --hover-fill-color: #174EA6;\n",
              "      --disabled-fill-color: #AAA;\n",
              "      --disabled-bg-color: #DDD;\n",
              "  }\n",
              "\n",
              "  [theme=dark] .colab-df-quickchart {\n",
              "      --bg-color: #3B4455;\n",
              "      --fill-color: #D2E3FC;\n",
              "      --hover-bg-color: #434B5C;\n",
              "      --hover-fill-color: #FFFFFF;\n",
              "      --disabled-bg-color: #3B4455;\n",
              "      --disabled-fill-color: #666;\n",
              "  }\n",
              "\n",
              "  .colab-df-quickchart {\n",
              "    background-color: var(--bg-color);\n",
              "    border: none;\n",
              "    border-radius: 50%;\n",
              "    cursor: pointer;\n",
              "    display: none;\n",
              "    fill: var(--fill-color);\n",
              "    height: 32px;\n",
              "    padding: 0;\n",
              "    width: 32px;\n",
              "  }\n",
              "\n",
              "  .colab-df-quickchart:hover {\n",
              "    background-color: var(--hover-bg-color);\n",
              "    box-shadow: 0 1px 2px rgba(60, 64, 67, 0.3), 0 1px 3px 1px rgba(60, 64, 67, 0.15);\n",
              "    fill: var(--button-hover-fill-color);\n",
              "  }\n",
              "\n",
              "  .colab-df-quickchart-complete:disabled,\n",
              "  .colab-df-quickchart-complete:disabled:hover {\n",
              "    background-color: var(--disabled-bg-color);\n",
              "    fill: var(--disabled-fill-color);\n",
              "    box-shadow: none;\n",
              "  }\n",
              "\n",
              "  .colab-df-spinner {\n",
              "    border: 2px solid var(--fill-color);\n",
              "    border-color: transparent;\n",
              "    border-bottom-color: var(--fill-color);\n",
              "    animation:\n",
              "      spin 1s steps(1) infinite;\n",
              "  }\n",
              "\n",
              "  @keyframes spin {\n",
              "    0% {\n",
              "      border-color: transparent;\n",
              "      border-bottom-color: var(--fill-color);\n",
              "      border-left-color: var(--fill-color);\n",
              "    }\n",
              "    20% {\n",
              "      border-color: transparent;\n",
              "      border-left-color: var(--fill-color);\n",
              "      border-top-color: var(--fill-color);\n",
              "    }\n",
              "    30% {\n",
              "      border-color: transparent;\n",
              "      border-left-color: var(--fill-color);\n",
              "      border-top-color: var(--fill-color);\n",
              "      border-right-color: var(--fill-color);\n",
              "    }\n",
              "    40% {\n",
              "      border-color: transparent;\n",
              "      border-right-color: var(--fill-color);\n",
              "      border-top-color: var(--fill-color);\n",
              "    }\n",
              "    60% {\n",
              "      border-color: transparent;\n",
              "      border-right-color: var(--fill-color);\n",
              "    }\n",
              "    80% {\n",
              "      border-color: transparent;\n",
              "      border-right-color: var(--fill-color);\n",
              "      border-bottom-color: var(--fill-color);\n",
              "    }\n",
              "    90% {\n",
              "      border-color: transparent;\n",
              "      border-bottom-color: var(--fill-color);\n",
              "    }\n",
              "  }\n",
              "</style>\n",
              "\n",
              "  <script>\n",
              "    async function quickchart(key) {\n",
              "      const quickchartButtonEl =\n",
              "        document.querySelector('#' + key + ' button');\n",
              "      quickchartButtonEl.disabled = true;  // To prevent multiple clicks.\n",
              "      quickchartButtonEl.classList.add('colab-df-spinner');\n",
              "      try {\n",
              "        const charts = await google.colab.kernel.invokeFunction(\n",
              "            'suggestCharts', [key], {});\n",
              "      } catch (error) {\n",
              "        console.error('Error during call to suggestCharts:', error);\n",
              "      }\n",
              "      quickchartButtonEl.classList.remove('colab-df-spinner');\n",
              "      quickchartButtonEl.classList.add('colab-df-quickchart-complete');\n",
              "    }\n",
              "    (() => {\n",
              "      let quickchartButtonEl =\n",
              "        document.querySelector('#df-7ff8b15d-a803-4a72-9e3d-05d7b4d5fd4b button');\n",
              "      quickchartButtonEl.style.display =\n",
              "        google.colab.kernel.accessAllowed ? 'block' : 'none';\n",
              "    })();\n",
              "  </script>\n",
              "</div>\n",
              "\n",
              "    </div>\n",
              "  </div>\n"
            ],
            "application/vnd.google.colaboratory.intrinsic+json": {
              "type": "dataframe",
              "variable_name": "df",
              "summary": "{\n  \"name\": \"df\",\n  \"rows\": 8224,\n  \"fields\": [\n    {\n      \"column\": \"Review_ID\",\n      \"properties\": {\n        \"dtype\": \"number\",\n        \"std\": 2374,\n        \"min\": 1,\n        \"max\": 8224,\n        \"num_unique_values\": 8224,\n        \"samples\": [\n          4428,\n          7181,\n          3995\n        ],\n        \"semantic_type\": \"\",\n        \"description\": \"\"\n      }\n    },\n    {\n      \"column\": \"aspectCategory\",\n      \"properties\": {\n        \"dtype\": \"category\",\n        \"num_unique_values\": 15,\n        \"samples\": [\n          \"price\",\n          \"staff\",\n          \"seating\"\n        ],\n        \"semantic_type\": \"\",\n        \"description\": \"\"\n      }\n    },\n    {\n      \"column\": \"sentiment\",\n      \"properties\": {\n        \"dtype\": \"category\",\n        \"num_unique_values\": 2,\n        \"samples\": [\n          \"negative\",\n          \"positive\"\n        ],\n        \"semantic_type\": \"\",\n        \"description\": \"\"\n      }\n    },\n    {\n      \"column\": \"Pre_Text\",\n      \"properties\": {\n        \"dtype\": \"string\",\n        \"num_unique_values\": 6615,\n        \"samples\": [\n          \"love cafe reserved parking electric vehicles promoting ecofriendliness\",\n          \"maybe go china see great wall place sleep i\\u2019ve traveled year stayed hundreds hostels around world one number one it\\u2019s really special it\\u2019s really worth staying great breakfast great locations good rooms incredible service staff i\\u2019ll definitely staying get back china\"\n        ],\n        \"semantic_type\": \"\",\n        \"description\": \"\"\n      }\n    }\n  ]\n}"
            }
          },
          "metadata": {},
          "execution_count": 4
        }
      ],
      "source": [
        "# Here read the read the data by using pandas library\n",
        "df=pd.read_csv('/content/Last_Complete_Data_8224.csv')\n",
        "# Show the first 10 rows\n",
        "df.head(10)"
      ]
    },
    {
      "cell_type": "code",
      "source": [
        "df.shape"
      ],
      "metadata": {
        "id": "MHo2q-19aOC3",
        "outputId": "58560980-4802-48b4-b45d-053d75c3aade",
        "colab": {
          "base_uri": "https://localhost:8080/"
        }
      },
      "execution_count": null,
      "outputs": [
        {
          "output_type": "execute_result",
          "data": {
            "text/plain": [
              "(8224, 4)"
            ]
          },
          "metadata": {},
          "execution_count": 79
        }
      ]
    },
    {
      "cell_type": "markdown",
      "metadata": {
        "id": "xWj9uGbU5XhC"
      },
      "source": [
        "###  Cheack the data"
      ]
    },
    {
      "cell_type": "code",
      "execution_count": null,
      "metadata": {
        "colab": {
          "base_uri": "https://localhost:8080/"
        },
        "id": "BsQa5gon02-P",
        "outputId": "2c70000d-3218-4631-e1f0-557e7012da83"
      },
      "outputs": [
        {
          "output_type": "execute_result",
          "data": {
            "text/plain": [
              "Review_ID         0\n",
              "aspectCategory    0\n",
              "sentiment         0\n",
              "Pre_Text          0\n",
              "dtype: int64"
            ]
          },
          "metadata": {},
          "execution_count": 5
        }
      ],
      "source": [
        "# Check the nulls values\n",
        "df.isna().sum()"
      ]
    },
    {
      "cell_type": "code",
      "execution_count": null,
      "metadata": {
        "colab": {
          "base_uri": "https://localhost:8080/"
        },
        "id": "iukaHeqaI9Ou",
        "outputId": "02670b95-6871-4f3f-bb31-421d645ee318"
      },
      "outputs": [
        {
          "output_type": "stream",
          "name": "stdout",
          "text": [
            "<class 'pandas.core.frame.DataFrame'>\n",
            "RangeIndex: 8224 entries, 0 to 8223\n",
            "Data columns (total 4 columns):\n",
            " #   Column          Non-Null Count  Dtype \n",
            "---  ------          --------------  ----- \n",
            " 0   Review_ID       8224 non-null   int64 \n",
            " 1   aspectCategory  8224 non-null   object\n",
            " 2   sentiment       8224 non-null   object\n",
            " 3   Pre_Text        8224 non-null   object\n",
            "dtypes: int64(1), object(3)\n",
            "memory usage: 257.1+ KB\n"
          ]
        }
      ],
      "source": [
        "# check the information for the dataset\n",
        "df.info()"
      ]
    },
    {
      "cell_type": "code",
      "execution_count": null,
      "metadata": {
        "colab": {
          "base_uri": "https://localhost:8080/",
          "height": 213
        },
        "id": "oFs4lxoN5kuF",
        "outputId": "b84733b8-b8bf-4625-a9a6-6eed5d569889"
      },
      "outputs": [
        {
          "output_type": "execute_result",
          "data": {
            "text/plain": [
              "Text(0.5, 1.0, 'Sentiment Data Distribution')"
            ]
          },
          "metadata": {},
          "execution_count": 9
        },
        {
          "output_type": "display_data",
          "data": {
            "text/plain": [
              "<Figure size 800x400 with 1 Axes>"
            ],
            "image/png": "[encoded data removed]"
          },
          "metadata": {}
        }
      ],
      "source": [
        "# Check the label for the data\n",
        "val_count = df.sentiment.value_counts()\n",
        "# Figure size\n",
        "plt.figure(figsize=(8,4))\n",
        "# Using Bar plot to ploting the count of labeling data.\n",
        "plt.bar(val_count.index, val_count.values, color='red')\n",
        "# Set title for the plot.\n",
        "plt.title(\"Sentiment Data Distribution\")"
      ]
    },
    {
      "cell_type": "markdown",
      "metadata": {
        "id": "opwFFTUl53vR"
      },
      "source": [
        "# 3. Data Pre-processing"
      ]
    },
    {
      "cell_type": "code",
      "execution_count": null,
      "metadata": {
        "id": "yuN_WVVCAsFd"
      },
      "outputs": [],
      "source": [
        "\"\"\"\n",
        "This function for processing the data,\n",
        "here check the stopwords and steeming.\n",
        "\"\"\"\n",
        "def preprocess(text):\n",
        "    text = text.split()\n",
        "    # Check the stopwords.\n",
        "    stop = set(stopwords.words('english'))\n",
        "    # Check the Stemmer for the data\n",
        "    stemmer = SnowballStemmer('arabic')\n",
        "    text = [stemmer.stem(word) for word in text if not word in stop]\n",
        "    return \" \".join(text)\n",
        "\n",
        "\n",
        "# Apply the function for the data.\n",
        "df['Pre_Text'] = df['Pre_Text'].apply(preprocess)"
      ]
    },
    {
      "cell_type": "code",
      "execution_count": null,
      "metadata": {
        "colab": {
          "base_uri": "https://localhost:8080/"
        },
        "id": "pbeEILcDJn1t",
        "outputId": "ce34de40-06a1-4cfe-e44f-398020bc5d87"
      },
      "outputs": [
        {
          "output_type": "execute_result",
          "data": {
            "text/plain": [
              "0       seating copy comfortable perfect relaxing coff...\n",
              "1       love alliance café seating bit cramped negativ...\n",
              "2       seating arrangement wellspaced allowing privac...\n",
              "3       honestly seating quite uncomfortable wish fash...\n",
              "4       appreciate variety seating options high tools ...\n",
              "                              ...                        \n",
              "8219    pancake good dont blueberry pancake menu able ...\n",
              "8220    waiter disappeared entirely food finally able ...\n",
              "8221    90 powerhouse steak 2 ordered mediumrare deliv...\n",
              "8222                     food good writers pushyrude dumb\n",
              "8223                     food good writers pushyrude dumb\n",
              "Name: Pre_Text, Length: 8224, dtype: object"
            ]
          },
          "metadata": {},
          "execution_count": 16
        }
      ],
      "source": [
        "# Check the data after make processing on it.\n",
        "df['Pre_Text']"
      ]
    },
    {
      "cell_type": "markdown",
      "metadata": {
        "id": "TIqa92u96bWL"
      },
      "source": [
        "# 4. Apply the Tokenization on the data.\n",
        "* Here we work on make transformation on the data to convert the data from text to numeric to make the model understand it."
      ]
    },
    {
      "cell_type": "code",
      "execution_count": null,
      "metadata": {
        "colab": {
          "base_uri": "https://localhost:8080/"
        },
        "id": "bcrs9lDtAAT9",
        "outputId": "cd0d9a71-d250-443a-a5d1-d2465959a14a"
      },
      "outputs": [
        {
          "output_type": "stream",
          "name": "stdout",
          "text": [
            "  (0, 2931)\t0.2647556160218235\n",
            "  (0, 6026)\t0.33571596609309856\n",
            "  (0, 2262)\t0.2830411056136541\n",
            "  (0, 1150)\t0.4150513769019654\n",
            "  (0, 1724)\t0.27879802578827956\n",
            "  (0, 6495)\t0.39390936030219426\n",
            "  (0, 5807)\t0.2692630633899459\n",
            "  (0, 1765)\t0.2976178020578213\n",
            "  (0, 1973)\t0.3174144420466364\n",
            "  (0, 6931)\t0.2647556160218235\n",
            "  (1, 5967)\t0.389674698437371\n",
            "  (1, 5257)\t0.3929045409341167\n",
            "  (1, 2038)\t0.39631390905667474\n",
            "  (1, 1001)\t0.2846560158169301\n",
            "  (1, 1302)\t0.4018118693873419\n",
            "  (1, 410)\t0.3390540218848628\n",
            "  (1, 4679)\t0.307027906000935\n",
            "  (1, 6931)\t0.2915636226595738\n",
            "  (2, 673)\t0.32340845563792847\n",
            "  (2, 2767)\t0.3097960916375223\n",
            "  (2, 6145)\t0.34730379793201\n",
            "  (2, 415)\t0.370307384921663\n",
            "  (2, 8651)\t0.41978028168820364\n",
            "  (2, 633)\t0.3290448237308489\n",
            "  (2, 1302)\t0.2949245914266849\n",
            "  :\t:\n",
            "  (7, 4653)\t0.2564052612034741\n",
            "  (7, 7394)\t0.3180891894748466\n",
            "  (7, 2651)\t0.4351910299599506\n",
            "  (7, 4191)\t0.3344423441109402\n",
            "  (7, 8757)\t0.2885025915024409\n",
            "  (7, 1769)\t0.32029269574928376\n",
            "  (7, 2764)\t0.27855784710456116\n",
            "  (7, 5257)\t0.3315652382592696\n",
            "  (7, 6931)\t0.24604541801686033\n",
            "  (8, 8079)\t0.38090689346698126\n",
            "  (8, 5577)\t0.32126879422284116\n",
            "  (8, 7585)\t0.3298570770018841\n",
            "  (8, 8468)\t0.2595331006550321\n",
            "  (8, 5295)\t0.22731350899300456\n",
            "  (8, 5457)\t0.34972870703412134\n",
            "  (8, 8701)\t0.37231861068793826\n",
            "  (8, 6026)\t0.33572708615934743\n",
            "  (8, 2262)\t0.2830504809075438\n",
            "  (8, 6931)\t0.26476438563747273\n",
            "  (9, 7738)\t0.4422186295468372\n",
            "  (9, 2539)\t0.41781472834521716\n",
            "  (9, 1472)\t0.36766175971990167\n",
            "  (9, 8255)\t0.42361096397943504\n",
            "  (9, 1302)\t0.42361096397943504\n",
            "  (9, 1973)\t0.3685184789016995\n"
          ]
        }
      ],
      "source": [
        "# Apply the tf-idf on the data.\n",
        "vectorizer = TfidfVectorizer()\n",
        "vectors = vectorizer.fit_transform(df['Pre_Text'])\n",
        "print(vectors[:10])"
      ]
    },
    {
      "cell_type": "markdown",
      "metadata": {
        "id": "FmGZkp7b63ew"
      },
      "source": [
        "#### Convert the target columns from the text to numeric by using Label Encoding"
      ]
    },
    {
      "cell_type": "code",
      "execution_count": null,
      "metadata": {
        "id": "G8vNEqJpRhyW"
      },
      "outputs": [],
      "source": [
        "# Apply the Label encoding on the target columns.\n",
        "le = LabelEncoder()\n",
        "label=le.fit_transform(df['sentiment'])"
      ]
    },
    {
      "cell_type": "markdown",
      "metadata": {
        "id": "JGoY6ZDc7Rqx"
      },
      "source": [
        "#### Spliting the data into train and test to use it to train the model."
      ]
    },
    {
      "cell_type": "code",
      "execution_count": null,
      "metadata": {
        "id": "z_4sPfLbS1wp"
      },
      "outputs": [],
      "source": [
        "# here apply the train_test-split function on the data.\n",
        "X_train, X_test, y_train, y_test = train_test_split(vectors, label, test_size=0.2, random_state=42)"
      ]
    },
    {
      "cell_type": "code",
      "execution_count": null,
      "metadata": {
        "colab": {
          "base_uri": "https://localhost:8080/"
        },
        "id": "LaDFoouvTuru",
        "outputId": "aa7c07b5-fbdb-4acf-95fd-35090232b70e"
      },
      "outputs": [
        {
          "output_type": "stream",
          "name": "stdout",
          "text": [
            "Shape of the Train data set:  (6579, 8848)\n",
            "Shape of the test data set: (1645, 8848)\n",
            "Shape of the y_train data set (6579,)\n",
            "Shape of the y_test data set (1645,)\n"
          ]
        }
      ],
      "source": [
        "print(\"Shape of the Train data set: \",X_train.shape)\n",
        "print(\"Shape of the test data set:\",X_test.shape)\n",
        "print(\"Shape of the y_train data set\",y_train.shape)\n",
        "print(\"Shape of the y_test data set\",y_test.shape)"
      ]
    },
    {
      "cell_type": "markdown",
      "metadata": {
        "id": "MKfKBsl375Yb"
      },
      "source": [
        "# 5. Apply Model Machine Learning."
      ]
    },
    {
      "cell_type": "markdown",
      "metadata": {
        "id": "44ktoflL795s"
      },
      "source": [
        "### Using Logistic Regression."
      ]
    },
    {
      "cell_type": "code",
      "execution_count": null,
      "metadata": {
        "colab": {
          "base_uri": "https://localhost:8080/",
          "height": 74
        },
        "id": "-Kzz3nJTUNf2",
        "outputId": "88b53094-6f99-426f-dd60-259f23d16d72"
      },
      "outputs": [
        {
          "output_type": "execute_result",
          "data": {
            "text/plain": [
              "LogisticRegression(random_state=0)"
            ],
            "text/html": [
              "<style>#sk-container-id-1 {color: black;background-color: white;}#sk-container-id-1 pre{padding: 0;}#sk-container-id-1 div.sk-toggleable {background-color: white;}#sk-container-id-1 label.sk-toggleable__label {cursor: pointer;display: block;width: 100%;margin-bottom: 0;padding: 0.3em;box-sizing: border-box;text-align: center;}#sk-container-id-1 label.sk-toggleable__label-arrow:before {content: \"▸\";float: left;margin-right: 0.25em;color: #696969;}#sk-container-id-1 label.sk-toggleable__label-arrow:hover:before {color: black;}#sk-container-id-1 div.sk-estimator:hover label.sk-toggleable__label-arrow:before {color: black;}#sk-container-id-1 div.sk-toggleable__content {max-height: 0;max-width: 0;overflow: hidden;text-align: left;background-color: #f0f8ff;}#sk-container-id-1 div.sk-toggleable__content pre {margin: 0.2em;color: black;border-radius: 0.25em;background-color: #f0f8ff;}#sk-container-id-1 input.sk-toggleable__control:checked~div.sk-toggleable__content {max-height: 200px;max-width: 100%;overflow: auto;}#sk-container-id-1 input.sk-toggleable__control:checked~label.sk-toggleable__label-arrow:before {content: \"▾\";}#sk-container-id-1 div.sk-estimator input.sk-toggleable__control:checked~label.sk-toggleable__label {background-color: #d4ebff;}#sk-container-id-1 div.sk-label input.sk-toggleable__control:checked~label.sk-toggleable__label {background-color: #d4ebff;}#sk-container-id-1 input.sk-hidden--visually {border: 0;clip: rect(1px 1px 1px 1px);clip: rect(1px, 1px, 1px, 1px);height: 1px;margin: -1px;overflow: hidden;padding: 0;position: absolute;width: 1px;}#sk-container-id-1 div.sk-estimator {font-family: monospace;background-color: #f0f8ff;border: 1px dotted black;border-radius: 0.25em;box-sizing: border-box;margin-bottom: 0.5em;}#sk-container-id-1 div.sk-estimator:hover {background-color: #d4ebff;}#sk-container-id-1 div.sk-parallel-item::after {content: \"\";width: 100%;border-bottom: 1px solid gray;flex-grow: 1;}#sk-container-id-1 div.sk-label:hover label.sk-toggleable__label {background-color: #d4ebff;}#sk-container-id-1 div.sk-serial::before {content: \"\";position: absolute;border-left: 1px solid gray;box-sizing: border-box;top: 0;bottom: 0;left: 50%;z-index: 0;}#sk-container-id-1 div.sk-serial {display: flex;flex-direction: column;align-items: center;background-color: white;padding-right: 0.2em;padding-left: 0.2em;position: relative;}#sk-container-id-1 div.sk-item {position: relative;z-index: 1;}#sk-container-id-1 div.sk-parallel {display: flex;align-items: stretch;justify-content: center;background-color: white;position: relative;}#sk-container-id-1 div.sk-item::before, #sk-container-id-1 div.sk-parallel-item::before {content: \"\";position: absolute;border-left: 1px solid gray;box-sizing: border-box;top: 0;bottom: 0;left: 50%;z-index: -1;}#sk-container-id-1 div.sk-parallel-item {display: flex;flex-direction: column;z-index: 1;position: relative;background-color: white;}#sk-container-id-1 div.sk-parallel-item:first-child::after {align-self: flex-end;width: 50%;}#sk-container-id-1 div.sk-parallel-item:last-child::after {align-self: flex-start;width: 50%;}#sk-container-id-1 div.sk-parallel-item:only-child::after {width: 0;}#sk-container-id-1 div.sk-dashed-wrapped {border: 1px dashed gray;margin: 0 0.4em 0.5em 0.4em;box-sizing: border-box;padding-bottom: 0.4em;background-color: white;}#sk-container-id-1 div.sk-label label {font-family: monospace;font-weight: bold;display: inline-block;line-height: 1.2em;}#sk-container-id-1 div.sk-label-container {text-align: center;}#sk-container-id-1 div.sk-container {/* jupyter's `normalize.less` sets `[hidden] { display: none; }` but bootstrap.min.css set `[hidden] { display: none !important; }` so we also need the `!important` here to be able to override the default hidden behavior on the sphinx rendered scikit-learn.org. See: https://github.com/scikit-learn/scikit-learn/issues/21755 */display: inline-block !important;position: relative;}#sk-container-id-1 div.sk-text-repr-fallback {display: none;}</style><div id=\"sk-container-id-1\" class=\"sk-top-container\"><div class=\"sk-text-repr-fallback\"><pre>LogisticRegression(random_state=0)</pre><b>In a Jupyter environment, please rerun this cell to show the HTML representation or trust the notebook. <br />On GitHub, the HTML representation is unable to render, please try loading this page with nbviewer.org.</b></div><div class=\"sk-container\" hidden><div class=\"sk-item\"><div class=\"sk-estimator sk-toggleable\"><input class=\"sk-toggleable__control sk-hidden--visually\" id=\"sk-estimator-id-1\" type=\"checkbox\" checked><label for=\"sk-estimator-id-1\" class=\"sk-toggleable__label sk-toggleable__label-arrow\">LogisticRegression</label><div class=\"sk-toggleable__content\"><pre>LogisticRegression(random_state=0)</pre></div></div></div></div></div>"
            ]
          },
          "metadata": {},
          "execution_count": 23
        }
      ],
      "source": [
        "# making LogisticRegression Model\n",
        "classifier = LogisticRegression(random_state=0)\n",
        "classifier.fit(X_train,y_train)"
      ]
    },
    {
      "cell_type": "code",
      "execution_count": null,
      "metadata": {
        "colab": {
          "base_uri": "https://localhost:8080/"
        },
        "id": "KVywkEtX8Spy",
        "outputId": "580b9f54-7b36-4f45-9047-b9fb599ceab7"
      },
      "outputs": [
        {
          "output_type": "stream",
          "name": "stdout",
          "text": [
            "LogisticRegression Train Score is :  0.8706490348077215\n",
            "LogisticRegression Test Score is :  0.8066869300911854\n"
          ]
        }
      ],
      "source": [
        "print('LogisticRegression Train Score is : ' , classifier.score(X_train, y_train))\n",
        "print('LogisticRegression Test Score is : ' , classifier.score(X_test, y_test))"
      ]
    },
    {
      "cell_type": "markdown",
      "metadata": {
        "id": "SZz4vnk78JLi"
      },
      "source": [
        "##### Ckeck the model predicton"
      ]
    },
    {
      "cell_type": "code",
      "execution_count": null,
      "metadata": {
        "colab": {
          "base_uri": "https://localhost:8080/"
        },
        "id": "oLutOBgRUnI1",
        "outputId": "8df3127d-de86-4c9d-d8ee-d070e92cd433"
      },
      "outputs": [
        {
          "output_type": "stream",
          "name": "stdout",
          "text": [
            "[1 1 1 ... 1 1 1]\n"
          ]
        }
      ],
      "source": [
        "#making predictions on test data\n",
        "y_predict = classifier.predict(X_test)\n",
        "print(y_predict)"
      ]
    },
    {
      "cell_type": "markdown",
      "metadata": {
        "id": "y1b1EYTw8V-J"
      },
      "source": [
        "##### Check the Confusion Matrix"
      ]
    },
    {
      "cell_type": "code",
      "execution_count": null,
      "metadata": {
        "id": "wCjlaB57UqlU"
      },
      "outputs": [],
      "source": [
        "#confusion matrix\n",
        "cm = confusion_matrix(y_test,y_predict)"
      ]
    },
    {
      "cell_type": "code",
      "execution_count": null,
      "metadata": {
        "colab": {
          "base_uri": "https://localhost:8080/",
          "height": 524
        },
        "id": "wsrY5CBhUuwl",
        "outputId": "06876d7c-0ce0-469b-d2b5-26d1bc2d6a2e"
      },
      "outputs": [
        {
          "output_type": "execute_result",
          "data": {
            "text/plain": [
              "<Axes: title={'center': 'Confusion Matrix for the Model Logistic Regression'}>"
            ]
          },
          "metadata": {},
          "execution_count": 27
        },
        {
          "output_type": "display_data",
          "data": {
            "text/plain": [
              "<Figure size 640x480 with 2 Axes>"
            ],
            "image/png": "[encoded data removed]"
          },
          "metadata": {}
        }
      ],
      "source": [
        "# Ploting the confusion matrix\n",
        "plt.title(\"Confusion Matrix for the Model Logistic Regression\")\n",
        "sns.heatmap(cm, annot=True)"
      ]
    },
    {
      "cell_type": "markdown",
      "metadata": {
        "id": "fyaJl7RUApMW"
      },
      "source": [
        "#### Check the the Sensitivity and Specificity"
      ]
    },
    {
      "cell_type": "code",
      "execution_count": null,
      "metadata": {
        "colab": {
          "base_uri": "https://localhost:8080/"
        },
        "id": "FIg4GdAmUv2-",
        "outputId": "d8451e91-be37-4e04-a860-9ae8c1ec4a94"
      },
      "outputs": [
        {
          "output_type": "stream",
          "name": "stdout",
          "text": [
            "Sensitivity :  0.8350694444444444\n",
            "Specificity :  0.7913938260056127\n"
          ]
        }
      ],
      "source": [
        "total=sum(sum(cm))\n",
        "\n",
        "sensitivity = cm[0,0]/(cm[0,0]+cm[1,0])\n",
        "print('Sensitivity : ', sensitivity )\n",
        "\n",
        "specificity = cm[1,1]/(cm[1,1]+cm[0,1])\n",
        "print('Specificity : ', specificity)"
      ]
    },
    {
      "cell_type": "markdown",
      "metadata": {
        "id": "ZvKtpqYdA8F9"
      },
      "source": [
        "#### Check the the PPV nad NPV"
      ]
    },
    {
      "cell_type": "code",
      "execution_count": null,
      "metadata": {
        "colab": {
          "base_uri": "https://localhost:8080/"
        },
        "id": "oYSqCZBOXqJ1",
        "outputId": "2588b564-e15a-411c-cba5-139815958c36"
      },
      "outputs": [
        {
          "name": "stdout",
          "output_type": "stream",
          "text": [
            "ppv :  0.8372093023255814\n",
            "npv :  0.9344262295081968\n"
          ]
        }
      ],
      "source": [
        "total=sum(sum(cm))\n",
        "\n",
        "# this for Positive Predictive Value.\n",
        "ppv = cm[0,0]/(cm[0,0]+cm[0,1])\n",
        "print('ppv : ', ppv )\n",
        "# negative Predictive Value.\n",
        "npv = cm[1,1]/(cm[1,0]+cm[1,1])\n",
        "print('npv : ', npv)"
      ]
    },
    {
      "cell_type": "markdown",
      "metadata": {
        "id": "328Q7lMKI9O7"
      },
      "source": [
        "#### Check the metrics"
      ]
    },
    {
      "cell_type": "code",
      "execution_count": null,
      "metadata": {
        "colab": {
          "base_uri": "https://localhost:8080/"
        },
        "id": "zQYtiegwYVED",
        "outputId": "9ad45e87-3565-4804-90ea-b6334907d12a"
      },
      "outputs": [
        {
          "name": "stdout",
          "output_type": "stream",
          "text": [
            "F1 Score is :  0.8775510204081631\n"
          ]
        }
      ],
      "source": [
        "#Calculating F1 Score  : 2 * (precision * recall) / (precision + recall)\n",
        "F1Score = f1_score(y_test, y_predict, average='micro')\n",
        "print('F1 Score is : ', F1Score)"
      ]
    },
    {
      "cell_type": "code",
      "execution_count": null,
      "metadata": {
        "colab": {
          "base_uri": "https://localhost:8080/"
        },
        "id": "ZZvTrWe0YrdM",
        "outputId": "45094958-4bf0-45dc-9c15-df494c0417e3"
      },
      "outputs": [
        {
          "name": "stdout",
          "output_type": "stream",
          "text": [
            "Recall Score is :  0.8775510204081632\n"
          ]
        }
      ],
      "source": [
        "#Calculating Recall Score : (Sensitivity) (TP / float(TP + FN))   1 / 1+2\n",
        "RecallScore = recall_score(y_test, y_predict, average='micro')\n",
        "print('Recall Score is : ', RecallScore)"
      ]
    },
    {
      "cell_type": "code",
      "execution_count": null,
      "metadata": {
        "colab": {
          "base_uri": "https://localhost:8080/"
        },
        "id": "sIYm7tdpY_Lr",
        "outputId": "813c629a-6552-4ff6-9f72-3f11155ce02e"
      },
      "outputs": [
        {
          "name": "stdout",
          "output_type": "stream",
          "text": [
            "Precision Score is :  0.8775510204081632\n"
          ]
        }
      ],
      "source": [
        "#Calculating Precision Score : (Specificity) #(TP / float(TP + FP))\n",
        "PrecisionScore = precision_score(y_test, y_predict, average='micro')\n",
        "print('Precision Score is : ', PrecisionScore)"
      ]
    },
    {
      "cell_type": "code",
      "execution_count": null,
      "metadata": {
        "colab": {
          "base_uri": "https://localhost:8080/"
        },
        "id": "QQ7Ys54zi9dB",
        "outputId": "aaa73023-ef61-4392-d767-ddfdf61d8072"
      },
      "outputs": [
        {
          "output_type": "stream",
          "name": "stdout",
          "text": [
            "Precision Recall Score is :  (0.8066869300911854, 0.8066869300911854, 0.8066869300911854, None)\n"
          ]
        }
      ],
      "source": [
        "#Calculating Precision recall Score\n",
        "PrecisionRecallScore = precision_recall_fscore_support(y_test, y_predict, average='micro')\n",
        "print('Precision Recall Score is : ', PrecisionRecallScore)"
      ]
    },
    {
      "cell_type": "code",
      "execution_count": null,
      "metadata": {
        "colab": {
          "base_uri": "https://localhost:8080/"
        },
        "id": "dHqHz_URjDNX",
        "outputId": "3b27f74a-2639-4d33-936c-d91fec461471"
      },
      "outputs": [
        {
          "output_type": "stream",
          "name": "stdout",
          "text": [
            "Mean Absolute Error Value is :  0.19331306990881458\n"
          ]
        }
      ],
      "source": [
        "#Calculating Mean Absolute Error\n",
        "MAEValue = mean_absolute_error(y_test, y_predict, multioutput='uniform_average')\n",
        "print('Mean Absolute Error Value is : ', MAEValue)"
      ]
    },
    {
      "cell_type": "code",
      "execution_count": null,
      "metadata": {
        "colab": {
          "base_uri": "https://localhost:8080/"
        },
        "id": "bGcp9b6WjN0T",
        "outputId": "e1ec90f9-6091-44ee-8aa3-4b12725303ff"
      },
      "outputs": [
        {
          "name": "stdout",
          "output_type": "stream",
          "text": [
            "Mean Squared Error Value is :  0.12244897959183673\n",
            "Median Squared Error Value is :  0.0\n"
          ]
        }
      ],
      "source": [
        "#Calculating Mean Squared Error\n",
        "MSEValue = mean_squared_error(y_test, y_predict, multioutput='uniform_average')\n",
        "print('Mean Squared Error Value is : ', MSEValue)\n",
        "\n",
        "\n",
        "\n",
        "#Calculating Median Squared Error\n",
        "MdSEValue = median_absolute_error(y_test,y_predict)\n",
        "print('Median Squared Error Value is : ', MdSEValue )"
      ]
    },
    {
      "cell_type": "markdown",
      "metadata": {
        "id": "MV7sDmnhBNEI"
      },
      "source": [
        "### Ploting the ROC Curve"
      ]
    },
    {
      "cell_type": "markdown",
      "metadata": {
        "id": "nFff1CweBM_1"
      },
      "source": []
    },
    {
      "cell_type": "code",
      "execution_count": null,
      "metadata": {
        "colab": {
          "base_uri": "https://localhost:8080/",
          "height": 237
        },
        "id": "dlAg3_46jdx5",
        "outputId": "d688157c-8fc7-4bf2-921c-181caf4fb79b"
      },
      "outputs": [
        {
          "output_type": "display_data",
          "data": {
            "text/plain": [
              "<Figure size 800x600 with 1 Axes>"
            ],
            "image/png": "[encoded data removed]"
          },
          "metadata": {}
        }
      ],
      "source": [
        "fig, (ax2) = plt.subplots(figsize = (8,6))\n",
        "        #roc-curve\n",
        "fpr, tpr, thresholds_roc = roc_curve(y_test,y_predict)\n",
        "\n",
        "roc_auc = auc(fpr,tpr)\n",
        "ax2.plot(fpr,tpr, label = \" AUROC = {:0.2f}\".format(roc_auc))\n",
        "\n",
        "ax2.plot([0,1], [0,1], 'r', linestyle = \"--\", lw = 2)\n",
        "\n",
        "ax2.set_xlabel(\"False Positive Rate\", fontsize = 14)\n",
        "\n",
        "ax2.set_ylabel(\"True Positive Rate\", fontsize = 14)\n",
        "\n",
        "ax2.set_title(\"ROC Curve\", fontsize = 18)\n",
        "\n",
        "ax2.legend(loc = 'best')\n",
        "\n",
        "plt.title('ROC curve for Logistic Regression Classifier')\n",
        "\n",
        "plt.xlabel('False Positive Rate (1 - Specificity)')\n",
        "\n",
        "plt.ylabel('True Positive Rate (Sensitivity)')\n",
        "\n",
        "#find default threshold\n",
        "close_default = np.argmin(np.abs(thresholds_roc - 0.5))\n",
        "\n",
        "ax2.plot(fpr[close_default], tpr[close_default], 'o', markersize = 8)\n",
        "\n",
        "plt.tight_layout()"
      ]
    },
    {
      "cell_type": "code",
      "execution_count": null,
      "metadata": {
        "id": "IB_9HDzyBtcE"
      },
      "outputs": [],
      "source": [
        "# Saving the model\n",
        "pickle.dump(classifier, open(\"model.pkl\", \"wb\"))"
      ]
    },
    {
      "cell_type": "code",
      "source": [
        "\n",
        "from nltk.tokenize import word_tokenize\n",
        "from nltk.corpus import stopwords\n",
        "import nltk\n",
        "nltk.download('punkt')\n",
        "stop_words = set(stopwords.words('english'))\n",
        "\n",
        "def predict_class(classifier):\n",
        "    text = input(' Input the sentabce')\n",
        "    text = [' '.join([ word for word in word_tokenize(text)  if not word in stop_words])]\n",
        "    t_dtv = vectorizer.transform(text).toarray()\n",
        "    print('Predicted Class:', end = ' ')\n",
        "    print('positive' if classifier.predict(t_dtv)[0] else 'negative')\n",
        "    prob = classifier.predict_proba(t_dtv)*100\n",
        "    print(f\"negative: {prob[0][0]}%\\ positive: {prob[0][1]}%\")\n",
        "    plt.figure(figsize=(12, 6))\n",
        "    sns.barplot(x =['Negative', 'Positive '] , y = [prob[0][0], prob[0][1]])\n",
        "    plt.xlabel('Class')\n",
        "    plt.ylabel('Probalility')\n",
        "    plt.show()\n",
        "\n",
        "\n",
        "\n",
        "predict_class(classifier)"
      ],
      "metadata": {
        "colab": {
          "base_uri": "https://localhost:8080/",
          "height": 649
        },
        "id": "JHWd3-nHPFAG",
        "outputId": "4d9e194f-b194-421e-8e1c-7e8864dd8cf8"
      },
      "execution_count": null,
      "outputs": [
        {
          "output_type": "stream",
          "name": "stderr",
          "text": [
            "[nltk_data] Downloading package punkt to /root/nltk_data...\n",
            "[nltk_data]   Package punkt is already up-to-date!\n"
          ]
        },
        {
          "output_type": "stream",
          "name": "stdout",
          "text": [
            " Input the sentabceseating copy comfortable perfect relaxing coff\n",
            "Predicted Class: positive\n",
            "negative: 7.298414409802179%\\ positive: 92.70158559019782%\n"
          ]
        },
        {
          "output_type": "display_data",
          "data": {
            "text/plain": [
              "<Figure size 1200x600 with 1 Axes>"
            ],
            "image/png": "[encoded data removed]"
          },
          "metadata": {}
        }
      ]
    }
  ],
  "metadata": {
    "colab": {
      "provenance": [],
      "include_colab_link": true
    },
    "kernelspec": {
      "display_name": "Python 3",
      "name": "python3"
    },
    "language_info": {
      "name": "python"
    }
  },
  "nbformat": 4,
  "nbformat_minor": 0
}
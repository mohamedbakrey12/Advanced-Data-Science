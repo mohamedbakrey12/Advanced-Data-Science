{
  "cells": [
    {
      "cell_type": "markdown",
      "metadata": {
        "id": "view-in-github",
        "colab_type": "text"
      },
      "source": [
        "<a href=\"https://colab.research.google.com/github/mohamedbakrey12/Advanced-Data-Science/blob/master/Assignment_3.ipynb\" target=\"_parent\"><img src=\"https://colab.research.google.com/assets/colab-badge.svg\" alt=\"Open In Colab\"/></a>"
      ]
    },
    {
      "cell_type": "markdown",
      "metadata": {
        "id": "EUNBO2jL58l6"
      },
      "source": [
        "# COE 292 - Term 232\n",
        "## Programming Assignmnet 3: Understanding Deep Learning\n",
        "\n",
        "In this assignment, you will implement a deep neural network to solve a classification problem. Through this task, you will gain a deeper understanding of essential components of neural networks, including layers, activation functions, neurons, optimizers, and loss functions. Furthermore, you will be introduced to a regularization technique known as Dropout.\n",
        "\n",
        "Key Concepts Covered:\n",
        "\n",
        "- Layers: Understanding the architecture of neural networks through different layers.\n",
        "- Activation Functions: Exploring the role of activation functions in introducing non-linearity to the model.\n",
        "- Neurons: Learning about the basic building blocks of neural networks and their functionalities.\n",
        "- Optimizers: Optimizing the model parameters during the training process to minimize the loss function.\n",
        "- Loss Functions: Evaluating the performance of the model and guiding the optimization process.\n",
        "- Regularization Techniques (Dropout): Introducing a regularization technique to prevent overfitting and improve generalization performance.\n",
        "\n",
        "By completing this assignment, you will not only implement a neural network for classification but also deepen your understanding of its core components and techniques used to enhance its performance.\n",
        "____________"
      ]
    },
    {
      "cell_type": "markdown",
      "metadata": {
        "id": "c97Lv6Gn58mA"
      },
      "source": [
        "### READ THESE INSTRUCTIONS CAREFULLY\n",
        "- You must submit your work as a Python file. Simply renaming the file to .py will not work. Hence the following instructions must be followed to convert from ipynb to py based on your environment\n",
        "\n",
        "- **On Google Colab:**\n",
        "  1. Go to `File` in the menu.\n",
        "  2. Navigate to `Download`.\n",
        "  3. Select `Download .py`.\n",
        "  \n",
        "  This action will download your notebook as a Python script to your local machine.\n",
        "\n",
        "- **If working locally on your machine:**\n",
        "  1. Run the following command in the same directory as your file in the terminal: jupyter nbconvert --to script name_of_your_assignment_file.ipynb\n",
        "  \n",
        "  This will convert your .ipynb file into a .py file that will now be visible in the same directory.\n",
        "  \n",
        "  Note that you may have to install jupyter with the command: pip install jupyter\n",
        "\n",
        "- Complete the areas marked below by <span>*### BEGIN SOLUTION*</span>. Do not chage anything else, as this may break the entire code and result in getting a **ZERO** score.\n",
        "- Your submission is **auto-graded** and checked for **similarity**.\n",
        "- Detected similarity and/or failuare to follow these instructions automatically results in a **ZERO** score.\n",
        "- The assignmnet is to be completed indvidually.\n",
        "- Use tensorflow version >= 2.3.0\n",
        "- Make sure not to name your variables/functions with variables/function names already existing in this file. This can cause conflicts and potentially lead to loosing marks.\n",
        "- All functions have a return statement. Uncomment and utilize all return statements.\n",
        "- <span style=\"color:red\">**DO NOT RENAME THIS FILE**</span>.\n",
        "</span>\n",
        "---"
      ]
    },
    {
      "cell_type": "markdown",
      "metadata": {
        "id": "nf6gvehH58mH"
      },
      "source": [
        "### RUN THE CELL BELOW TO IMPORT NECESSARY LIBRARIES"
      ]
    },
    {
      "cell_type": "code",
      "execution_count": null,
      "metadata": {
        "id": "3Ib8LVmE58mH"
      },
      "outputs": [],
      "source": [
        "import numpy as np\n",
        "import matplotlib\n",
        "import matplotlib.pyplot as plt\n",
        "import tensorflow as tf\n",
        "import tensorflow.keras as keras\n",
        "\n",
        "tf.random.set_seed(114)"
      ]
    },
    {
      "cell_type": "markdown",
      "metadata": {
        "id": "dHhLWNby58mI"
      },
      "source": [
        "### RUN THE CELL BELOW TO PLOT THE REFERENCE GRAPH"
      ]
    },
    {
      "cell_type": "code",
      "execution_count": null,
      "metadata": {
        "id": "FCfdZCad58mJ"
      },
      "outputs": [],
      "source": [
        "plt.annotate('0', xy=(1, 8), fontsize=12)\n",
        "plt.annotate('1', xy=(5, 7), fontsize=12)\n",
        "plt.annotate('2', xy=(9, 8), fontsize=12)\n",
        "plt.annotate('3', xy=(8, 2), fontsize=12)\n",
        "plt.annotate('4', xy=(5, 2), fontsize=12)\n",
        "plt.annotate('5', xy=(2, 2), fontsize=12)\n",
        "\n",
        "# Add labels and legend\n",
        "plt.xlabel('x')\n",
        "plt.ylabel('y')\n",
        "\n",
        "x_range = np.linspace(0, 10, 50)\n",
        "plt.xlim(0,10)\n",
        "plt.ylim(0,10)\n",
        "plt.plot(x_range, [np.square(x-5) for x in x_range])\n",
        "plt.plot(x_range, [4 for x in x_range])"
      ]
    },
    {
      "cell_type": "markdown",
      "metadata": {
        "id": "-BmXN5SD58mJ"
      },
      "source": [
        "\n",
        "<font size=3>We would like to design a Multi Layer Perceptron - MLP neural network to classify points based on the region they belong to in the above graph.</font>\n",
        "\n",
        "<u><b>Graph Description</b></u>\n",
        "1. The blue curve is a parabola with repeated roots at x = 5\n",
        "2. The orange line is y = 4"
      ]
    },
    {
      "cell_type": "markdown",
      "metadata": {
        "id": "1ZShrZve58mK"
      },
      "source": [
        "RUN Helper function 1 (sample_points): <font size=3><b>The below function generates the dataset.</b></font>"
      ]
    },
    {
      "cell_type": "code",
      "execution_count": null,
      "metadata": {
        "id": "l9i6Hq7O58mK"
      },
      "outputs": [],
      "source": [
        "def sample_points(n):\n",
        "    '''\n",
        "    parameters:\n",
        "        n: number of samples\n",
        "\n",
        "    return:\n",
        "        samples: A numpy matrix of dimension nx3, where the first column represents x coordinates, the second column represents y coordinates, and the third column denotes the region label of each point\n",
        "    '''\n",
        "\n",
        "    np.random.seed(42)\n",
        "    x1 = np.random.uniform(low=0,high=10,size=n).reshape(-1,1)\n",
        "    x2 = np.random.uniform(low=0,high=10,size=n).reshape(-1,1)\n",
        "    x = np.concatenate([x1,x2],axis=1)\n",
        "\n",
        "    samples = []\n",
        "\n",
        "    for x in x:\n",
        "        if x[0] <= 5:\n",
        "            if x[1] >= 4:\n",
        "                if np.square(x[0]-5) >= x[1]:\n",
        "                    y = 0\n",
        "                    # print('0', x)\n",
        "                    samples.append(np.hstack((x, [y])))\n",
        "                else:\n",
        "                    y = 1\n",
        "                    # print('1', x)\n",
        "                    samples.append(np.hstack((x, [y])))\n",
        "            else:\n",
        "                if np.square(x[0]-5) >= x[1]:\n",
        "                    y = 5\n",
        "                    # print('5', x)\n",
        "                    samples.append(np.hstack((x, [y])))\n",
        "                else:\n",
        "                    y = 4\n",
        "                    # print('4', x)\n",
        "                    samples.append(np.hstack((x, [y])))\n",
        "        else:\n",
        "            if x[1] >= 4:\n",
        "                if np.square(x[0]-5) >= x[1]:\n",
        "                    y = 2\n",
        "                    # print('2', x)\n",
        "                    samples.append(np.hstack((x, [y])))\n",
        "                else:\n",
        "                    y = 1\n",
        "                    # print('1', x)\n",
        "                    samples.append(np.hstack((x, [y])))\n",
        "            else:\n",
        "                if np.square(x[0]-5) >= x[1]:\n",
        "                    y = 3\n",
        "                    # print('3', x)\n",
        "                    samples.append(np.hstack((x, [y])))\n",
        "                else:\n",
        "                    y = 4\n",
        "                    # print('4', x)\n",
        "                    samples.append(np.hstack((x, [y])))\n",
        "\n",
        "    return np.array(samples)"
      ]
    },
    {
      "cell_type": "markdown",
      "metadata": {
        "id": "tuI1wXYD58mL"
      },
      "source": [
        "RUN Helper function 2 (encode_train_test): <font size=3><b>The function below encodes (one hot encoding) the dataset in to a form sutiable for training.</b></font>"
      ]
    },
    {
      "cell_type": "code",
      "execution_count": null,
      "metadata": {
        "id": "WZolk7Sh58mL"
      },
      "outputs": [],
      "source": [
        "from sklearn.compose import ColumnTransformer\n",
        "from sklearn.preprocessing import OneHotEncoder\n",
        "\n",
        "train_ct = ColumnTransformer(transformers=[('encoder', OneHotEncoder(), [2])], remainder='passthrough')\n",
        "test_ct = ColumnTransformer(transformers=[('encoder', OneHotEncoder(), [2])], remainder='passthrough')\n",
        "\n",
        "train_samples = sample_points(20000)\n",
        "test_samples = sample_points(1000)\n",
        "\n",
        "def encode_train_test(train_samples, test_samples):\n",
        "    '''\n",
        "    return:\n",
        "        encoded_train: A numpy matrix of dimension 20000x8\n",
        "        encoded_test: A numpy matrix of dimension 1000x8\n",
        "    '''\n",
        "\n",
        "\n",
        "    encoded_train = np.array(train_ct.fit_transform(train_samples))\n",
        "    encoded_test = np.array(test_ct.fit_transform(test_samples))\n",
        "\n",
        "    return encoded_train, encoded_test\n"
      ]
    },
    {
      "cell_type": "markdown",
      "metadata": {
        "id": "zNGzVnpq58mM"
      },
      "source": [
        "### RUN THE CELL BELOW TO PLOT THE TRAIN AND TEST SAMPLES"
      ]
    },
    {
      "cell_type": "code",
      "execution_count": null,
      "metadata": {
        "id": "EKSTNGUA58mM"
      },
      "outputs": [],
      "source": [
        "def plot_data(train_x, train_y, train_c, test_x, test_y, test_c):\n",
        "    fig, axs = plt.subplots(1, 2, figsize=(12, 5))\n",
        "\n",
        "    # Plot Training Set\n",
        "    axs[0].set_title('Training Set')\n",
        "    axs[0].set_xlabel('x')\n",
        "    axs[0].set_ylabel('y')\n",
        "    axs[0].scatter(x=train_x, y=train_y, c=train_c)\n",
        "\n",
        "    # Plot Test Set\n",
        "    axs[1].set_title('Test Set')\n",
        "    axs[1].set_xlabel('x')\n",
        "    axs[1].set_ylabel('y')\n",
        "    axs[1].scatter(x=test_x, y=test_y, c=test_c)\n",
        "\n",
        "    plt.tight_layout()\n",
        "\n",
        "\n",
        "plot_data(train_x=train_samples[:, 0], train_y=train_samples[:, 1], train_c=train_samples[:, 2],\n",
        "          test_x=test_samples[:, 0], test_y=test_samples[:, 1], test_c=test_samples[:, 2])"
      ]
    },
    {
      "cell_type": "markdown",
      "metadata": {
        "id": "GoVdcvGP58mN"
      },
      "source": [
        "## <center><b>Questions</b></center>"
      ]
    },
    {
      "cell_type": "markdown",
      "metadata": {
        "id": "ViSAVlZS58mN"
      },
      "source": [
        "<font size=3><b>Problem 1 (15 Points):</b> Build an MLP network with 8 neurons in the first hidden layer, 4 neurons each in the second and third hidden layers. Use 6 neurons for the output layer. All the hidden layer neurons use ReLU activation function. The output layer neurons use softmax activation function. The network should be compiled using Adam optimizer, categorical_crossentropy loss function and accuracy as a metric.</font>"
      ]
    },
    {
      "cell_type": "code",
      "execution_count": null,
      "metadata": {
        "id": "X-VnVtck58mO"
      },
      "outputs": [],
      "source": [
        "\n",
        "from tensorflow import keras\n",
        "from tensorflow.keras.layers import Dense\n",
        "\n",
        "def build_nn():\n",
        "    '''\n",
        "    Builds and compiles a keras model with specific layer configurations for a classification problem.\n",
        "\n",
        "    Return:\n",
        "        model: A compiled keras model with the attributes provided in the question.\n",
        "    '''\n",
        "\n",
        "    # Initialize the Sequential model\n",
        "    model = keras.Sequential()\n",
        "\n",
        "    ### BEGIN SOLUTION\n",
        "\n",
        "    # Add the first hidden layer with 8 neurons and ReLU activation function\n",
        "    model.add(Dense(8, activation='relu', input_shape=(input_dimension,)))  # `input_dimension` needs to be defined or passed\n",
        "\n",
        "    # Add the second hidden layer with 4 neurons and ReLU activation function\n",
        "    model.add(Dense(4, activation='relu'))\n",
        "\n",
        "    # Add the third hidden layer with 4 neurons and ReLU activation function\n",
        "    model.add(Dense(4, activation='relu'))\n",
        "\n",
        "    # Add the output layer with 6 neurons (for 6 classes) using softmax activation function\n",
        "    model.add(Dense(6, activation='softmax'))\n",
        "\n",
        "    # Compile the model using Adam optimizer, categorical crossentropy loss, and accuracy as the metric\n",
        "    model.compile(optimizer='adam', loss='categorical_crossentropy', metrics=['accuracy'])\n",
        "\n",
        "    return model"
      ]
    },
    {
      "cell_type": "markdown",
      "metadata": {
        "id": "Ws9k9Yl958mO"
      },
      "source": [
        "<font size=3><b>Problem 2 (15 Points):</b> Train the compiled network in problem 1 in 10 epochs, with a batch size of 32. Use the encoded training set for training (utilize Helper function 2).</font>"
      ]
    },
    {
      "cell_type": "code",
      "execution_count": null,
      "metadata": {
        "id": "FpFOl7r758mO"
      },
      "outputs": [],
      "source": [
        "\n",
        "def train_model(model, encoded_train):\n",
        "    '''\n",
        "    Trains a compiled keras model using the provided encoded training dataset.\n",
        "\n",
        "    Parameters:\n",
        "        model: A compiled keras model with the attributes provided in the problem 2\n",
        "        encoded_train: The training dataset with 8 columns. The first 6 columns represent the one-hot-encoded region where the point belongs.\n",
        "                       The last 2 columns represent the (x, y) coordinate of the point.\n",
        "\n",
        "    Returns:\n",
        "        model: A trained keras model with the provided settings in the question\n",
        "        X_train: The encoded training X\n",
        "        y_train: The encoded training y\n",
        "    '''\n",
        "\n",
        "    ### BEGIN SOLUTION\n",
        "\n",
        "    # Split the encoded_train into X_train and y_train\n",
        "    # X_train takes the last two columns (coordinates), y_train takes the first six columns (one-hot-encoded regions)\n",
        "    X_train = encoded_train[:, -2:]\n",
        "    y_train = encoded_train[:, :6]\n",
        "\n",
        "    # Train the model\n",
        "    # Use 10 epochs and a batch size of 32 as specified in the problem statement\n",
        "    model.fit(X_train, y_train, epochs=10, batch_size=32)\n",
        "\n",
        "    # Return the model and the training sets\n",
        "    return model, X_train, y_train"
      ]
    },
    {
      "cell_type": "markdown",
      "metadata": {
        "id": "HPsMgbXC58mP"
      },
      "source": [
        "<font size=3><b>Problem 3 (5 Points):</b> Complete the function predict_point below that should predict the region of any given point (x, y). Your result must be decoded with a threshold of 0.3. </font>"
      ]
    },
    {
      "cell_type": "code",
      "execution_count": null,
      "metadata": {
        "id": "kgSvAnDg58mP"
      },
      "outputs": [],
      "source": [
        "# make sure to leave this entire cell as a comments before you submit\n",
        "# Example: for point (5, 2) with a threshold of 0.5\n",
        "# encoded_train, encoded_test = encode_train_test(train_samples, test_samples)\n",
        "# model = build_nn()\n",
        "# model, X_train, y_train = train_model(model, encoded_train)\n",
        "# example_encoded_region = np.where(trained_model.predict([[5, 2]])>0.5, 1, 0)"
      ]
    },
    {
      "cell_type": "code",
      "execution_count": null,
      "metadata": {
        "id": "2UhelELV58mQ"
      },
      "outputs": [],
      "source": [
        "\n",
        "import numpy as np\n",
        "\n",
        "# Assuming `model` is the trained Keras model and `column_transformer` is defined with an appropriate encoder\n",
        "def predict_point(x, y):\n",
        "    '''\n",
        "    Uses a trained model to predict the region of a given point (x, y) and decodes the prediction using a threshold.\n",
        "\n",
        "    Parameters:\n",
        "        x (float): The x-coordinate of the point to be predicted.\n",
        "        y (float): The y-coordinate of the point to be predicted.\n",
        "\n",
        "    Returns:\n",
        "        encoded_region (numpy array): An array of 1s and 0s representing the encoded form of the region the point is located, using a threshold of 0.3.\n",
        "        decoded_region (int): An integer representing the decoded form of the region the point is located.\n",
        "    '''\n",
        "\n",
        "    # Prepare input array for the model (reshaping to match the expected input shape of the model)\n",
        "    input_features = np.array([[x, y]])\n",
        "\n",
        "    # Predict the region using the model\n",
        "    predictions = model.predict(input_features)\n",
        "\n",
        "    # Apply a threshold of 0.3 to the predictions to create a binary (one-hot-like) encoded output\n",
        "    encoded_region = np.where(predictions > 0.3, 1, 0)[0]\n",
        "\n",
        "    # Even though a specific threshold was used, the most likely region is typically derived from the highest probability\n",
        "    # This uses `argmax` to find the most likely region, which could be different from the binary encoding if needed\n",
        "    most_likely_region_index = np.argmax(predictions, axis=1)\n",
        "\n",
        "    # Decode the one-hot encoded region to get the original region label\n",
        "    decoded_region = column_transformer.named_transformers_['encoder'].inverse_transform(most_likely_region_index.reshape(-1, 1))[0, 0]\n",
        "\n",
        "    return encoded_region, decoded_region"
      ]
    },
    {
      "cell_type": "markdown",
      "metadata": {
        "id": "geytjZqn58mQ"
      },
      "source": [
        "<font size=3><b>Problem 4 (15 Points):</b> Build an MLP network with all the settings of the network built in problem 5. Add dropout rates of 0.2, 0.2 and 0.1 in the first, second and third hidden layers of the network respectively.</font>"
      ]
    },
    {
      "cell_type": "code",
      "execution_count": null,
      "metadata": {
        "id": "6JEEUTrJ58mR"
      },
      "outputs": [],
      "source": [
        "def build_dropout_nn():\n",
        "    '''\n",
        "    return:\n",
        "        model: A compiled keras model with the attributes provided in the question\n",
        "    '''\n",
        "\n",
        "    # Don't modify\n",
        "    model = keras.models.Sequential()\n",
        "\n",
        "    ### BEGIN SOLUTION\n",
        "\n",
        "    return model"
      ]
    }
  ],
  "metadata": {
    "kernelspec": {
      "display_name": "data",
      "language": "python",
      "name": "python3"
    },
    "language_info": {
      "codemirror_mode": {
        "name": "ipython",
        "version": 3
      },
      "file_extension": ".py",
      "mimetype": "text/x-python",
      "name": "python",
      "nbconvert_exporter": "python",
      "pygments_lexer": "ipython3",
      "version": "3.7.13"
    },
    "colab": {
      "provenance": [],
      "include_colab_link": true
    }
  },
  "nbformat": 4,
  "nbformat_minor": 0
}
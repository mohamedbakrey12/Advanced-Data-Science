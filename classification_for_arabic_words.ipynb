{
  "cells": [
    {
      "cell_type": "markdown",
      "metadata": {
        "id": "view-in-github",
        "colab_type": "text"
      },
      "source": [
        "<a href=\"https://colab.research.google.com/github/mohamedbakrey12/Advanced-Data-Science/blob/master/classification_for_arabic_words.ipynb\" target=\"_parent\"><img src=\"https://colab.research.google.com/assets/colab-badge.svg\" alt=\"Open In Colab\"/></a>"
      ]
    },
    {
      "cell_type": "markdown",
      "metadata": {
        "id": "pbOzZMY70WpW"
      },
      "source": [
        "# Introduction\n",
        "   In this project I work for classification model for Sentimental\n",
        "\n",
        "### Project Pipeline\n",
        "\n",
        "1.  Loading the library\n",
        "2. Loading Dataset\n",
        "3. Data pre-Processing\n",
        "4. Applying the Model Machine Learning\n",
        "5. Applying Lstm"
      ]
    },
    {
      "cell_type": "markdown",
      "metadata": {
        "id": "7SNoKdoh0kI-"
      },
      "source": [
        "# 1. Loading Library"
      ]
    },
    {
      "cell_type": "code",
      "execution_count": null,
      "metadata": {
        "colab": {
          "base_uri": "https://localhost:8080/"
        },
        "id": "va9lNKtKztQh",
        "outputId": "4f2b21d3-5c5b-41f4-fc30-ba1199020dbf"
      },
      "outputs": [
        {
          "output_type": "stream",
          "name": "stderr",
          "text": [
            "[nltk_data] Downloading package stopwords to /root/nltk_data...\n",
            "[nltk_data]   Package stopwords is already up-to-date!\n"
          ]
        }
      ],
      "source": [
        "# Using this for working with dataset\n",
        "import pandas as pd\n",
        "import numpy as np\n",
        "import matplotlib.pyplot as plt\n",
        "import seaborn as sns\n",
        "import re\n",
        "import nltk\n",
        "nltk.download('stopwords')\n",
        "from nltk.corpus import stopwords\n",
        "from nltk.stem import SnowballStemmer\n",
        "\n",
        "\n",
        "# Spliting the data\n",
        "from sklearn.model_selection import train_test_split\n",
        "\n",
        "\n",
        "# Using this library for transform the data into numeric\n",
        "from sklearn.feature_extraction.text import TfidfVectorizer\n",
        "from sklearn.preprocessing import LabelEncoder\n",
        "\n",
        "# Modeling machine learning\n",
        "from sklearn.linear_model import LogisticRegression\n",
        "from xgboost import XGBClassifier\n",
        "\n",
        "\n",
        "\n",
        "# For Metrics, to check the model evaluation\n",
        "from sklearn.metrics import f1_score\n",
        "from sklearn.metrics import recall_score\n",
        "from sklearn.metrics import precision_score\n",
        "from sklearn.metrics import precision_recall_fscore_support\n",
        "from sklearn.metrics import precision_recall_curve\n",
        "from sklearn.metrics import classification_report\n",
        "from sklearn.metrics import confusion_matrix\n",
        "from sklearn.metrics import mean_absolute_error\n",
        "from sklearn.metrics import mean_squared_error\n",
        "from sklearn.metrics import median_absolute_error\n",
        "from sklearn.metrics import accuracy_score\n",
        "from sklearn.metrics import roc_curve, auc\n",
        "from matplotlib import pyplot\n",
        "\n",
        "\n",
        "# Using this library for the LSTM model Deep learning.\n",
        "\n",
        "from keras.utils import pad_sequences\n",
        "from keras.preprocessing.text import Tokenizer\n",
        "from keras.models import Sequential\n",
        "from keras.layers import Embedding, Conv1D, MaxPooling1D, Bidirectional, LSTM, Dense, Dropout\n",
        "from keras.metrics import Precision, Recall\n",
        "from keras.optimizers import SGD\n",
        "from keras.optimizers import RMSprop\n",
        "import keras.backend as K\n",
        "from keras.callbacks import LearningRateScheduler\n",
        "\n",
        "\n",
        "\n",
        "\n",
        "# Saving the Model\n",
        "import pickle\n",
        "# loading the model\n",
        "from keras.models import load_model"
      ]
    },
    {
      "cell_type": "markdown",
      "metadata": {
        "id": "E2mbd3oa5F_r"
      },
      "source": [
        "# 2. Read the dataset"
      ]
    },
    {
      "cell_type": "code",
      "execution_count": null,
      "metadata": {
        "colab": {
          "base_uri": "https://localhost:8080/",
          "height": 955
        },
        "id": "oDTzWwANz9ec",
        "outputId": "48552c5a-a627-49eb-c785-418dad74ecfb"
      },
      "outputs": [
        {
          "output_type": "execute_result",
          "data": {
            "text/plain": [
              "   Review_ID aspectCategory sentiment  \\\n",
              "0          1        seating  positive   \n",
              "1          2        seating  negative   \n",
              "2          3        seating  positive   \n",
              "3          4        seating  negative   \n",
              "4          5        seating  positive   \n",
              "5          6        seating  negative   \n",
              "6          7        seating  positive   \n",
              "7          8        seating  negative   \n",
              "8          9        seating  positive   \n",
              "9         10        seating  negative   \n",
              "\n",
              "                                            Pre_Text  \n",
              "0  seating copy comfortable perfect relaxing coff...  \n",
              "1  love alliance café seating bit cramped negativ...  \n",
              "2  seating arrangement wellspaced allowing privac...  \n",
              "3  honestly seating quite uncomfortable wish fash...  \n",
              "4  appreciate variety seating options high tools ...  \n",
              "5  café lovely seating feels bit crowded hard rel...  \n",
              "6  outdoor seating area charming especially sunny...  \n",
              "7  enjoy coming work seating isnt economic negati...  \n",
              "8  seating window offers nice view street outside...  \n",
              "9  chairs surprisingly uncomfortable copy café do...  "
            ],
            "text/html": [
              "\n",
              "  <div id=\"df-1d4cb590-f162-4c59-98f6-626dbf8c22b6\" class=\"colab-df-container\">\n",
              "    <div>\n",
              "<style scoped>\n",
              "    .dataframe tbody tr th:only-of-type {\n",
              "        vertical-align: middle;\n",
              "    }\n",
              "\n",
              "    .dataframe tbody tr th {\n",
              "        vertical-align: top;\n",
              "    }\n",
              "\n",
              "    .dataframe thead th {\n",
              "        text-align: right;\n",
              "    }\n",
              "</style>\n",
              "<table border=\"1\" class=\"dataframe\">\n",
              "  <thead>\n",
              "    <tr style=\"text-align: right;\">\n",
              "      <th></th>\n",
              "      <th>Review_ID</th>\n",
              "      <th>aspectCategory</th>\n",
              "      <th>sentiment</th>\n",
              "      <th>Pre_Text</th>\n",
              "    </tr>\n",
              "  </thead>\n",
              "  <tbody>\n",
              "    <tr>\n",
              "      <th>0</th>\n",
              "      <td>1</td>\n",
              "      <td>seating</td>\n",
              "      <td>positive</td>\n",
              "      <td>seating copy comfortable perfect relaxing coff...</td>\n",
              "    </tr>\n",
              "    <tr>\n",
              "      <th>1</th>\n",
              "      <td>2</td>\n",
              "      <td>seating</td>\n",
              "      <td>negative</td>\n",
              "      <td>love alliance café seating bit cramped negativ...</td>\n",
              "    </tr>\n",
              "    <tr>\n",
              "      <th>2</th>\n",
              "      <td>3</td>\n",
              "      <td>seating</td>\n",
              "      <td>positive</td>\n",
              "      <td>seating arrangement wellspaced allowing privac...</td>\n",
              "    </tr>\n",
              "    <tr>\n",
              "      <th>3</th>\n",
              "      <td>4</td>\n",
              "      <td>seating</td>\n",
              "      <td>negative</td>\n",
              "      <td>honestly seating quite uncomfortable wish fash...</td>\n",
              "    </tr>\n",
              "    <tr>\n",
              "      <th>4</th>\n",
              "      <td>5</td>\n",
              "      <td>seating</td>\n",
              "      <td>positive</td>\n",
              "      <td>appreciate variety seating options high tools ...</td>\n",
              "    </tr>\n",
              "    <tr>\n",
              "      <th>5</th>\n",
              "      <td>6</td>\n",
              "      <td>seating</td>\n",
              "      <td>negative</td>\n",
              "      <td>café lovely seating feels bit crowded hard rel...</td>\n",
              "    </tr>\n",
              "    <tr>\n",
              "      <th>6</th>\n",
              "      <td>7</td>\n",
              "      <td>seating</td>\n",
              "      <td>positive</td>\n",
              "      <td>outdoor seating area charming especially sunny...</td>\n",
              "    </tr>\n",
              "    <tr>\n",
              "      <th>7</th>\n",
              "      <td>8</td>\n",
              "      <td>seating</td>\n",
              "      <td>negative</td>\n",
              "      <td>enjoy coming work seating isnt economic negati...</td>\n",
              "    </tr>\n",
              "    <tr>\n",
              "      <th>8</th>\n",
              "      <td>9</td>\n",
              "      <td>seating</td>\n",
              "      <td>positive</td>\n",
              "      <td>seating window offers nice view street outside...</td>\n",
              "    </tr>\n",
              "    <tr>\n",
              "      <th>9</th>\n",
              "      <td>10</td>\n",
              "      <td>seating</td>\n",
              "      <td>negative</td>\n",
              "      <td>chairs surprisingly uncomfortable copy café do...</td>\n",
              "    </tr>\n",
              "  </tbody>\n",
              "</table>\n",
              "</div>\n",
              "    <div class=\"colab-df-buttons\">\n",
              "\n",
              "  <div class=\"colab-df-container\">\n",
              "    <button class=\"colab-df-convert\" onclick=\"convertToInteractive('df-1d4cb590-f162-4c59-98f6-626dbf8c22b6')\"\n",
              "            title=\"Convert this dataframe to an interactive table.\"\n",
              "            style=\"display:none;\">\n",
              "\n",
              "  <svg xmlns=\"http://www.w3.org/2000/svg\" height=\"24px\" viewBox=\"0 -960 960 960\">\n",
              "    <path d=\"M120-120v-720h720v720H120Zm60-500h600v-160H180v160Zm220 220h160v-160H400v160Zm0 220h160v-160H400v160ZM180-400h160v-160H180v160Zm440 0h160v-160H620v160ZM180-180h160v-160H180v160Zm440 0h160v-160H620v160Z\"/>\n",
              "  </svg>\n",
              "    </button>\n",
              "\n",
              "  <style>\n",
              "    .colab-df-container {\n",
              "      display:flex;\n",
              "      gap: 12px;\n",
              "    }\n",
              "\n",
              "    .colab-df-convert {\n",
              "      background-color: #E8F0FE;\n",
              "      border: none;\n",
              "      border-radius: 50%;\n",
              "      cursor: pointer;\n",
              "      display: none;\n",
              "      fill: #1967D2;\n",
              "      height: 32px;\n",
              "      padding: 0 0 0 0;\n",
              "      width: 32px;\n",
              "    }\n",
              "\n",
              "    .colab-df-convert:hover {\n",
              "      background-color: #E2EBFA;\n",
              "      box-shadow: 0px 1px 2px rgba(60, 64, 67, 0.3), 0px 1px 3px 1px rgba(60, 64, 67, 0.15);\n",
              "      fill: #174EA6;\n",
              "    }\n",
              "\n",
              "    .colab-df-buttons div {\n",
              "      margin-bottom: 4px;\n",
              "    }\n",
              "\n",
              "    [theme=dark] .colab-df-convert {\n",
              "      background-color: #3B4455;\n",
              "      fill: #D2E3FC;\n",
              "    }\n",
              "\n",
              "    [theme=dark] .colab-df-convert:hover {\n",
              "      background-color: #434B5C;\n",
              "      box-shadow: 0px 1px 3px 1px rgba(0, 0, 0, 0.15);\n",
              "      filter: drop-shadow(0px 1px 2px rgba(0, 0, 0, 0.3));\n",
              "      fill: #FFFFFF;\n",
              "    }\n",
              "  </style>\n",
              "\n",
              "    <script>\n",
              "      const buttonEl =\n",
              "        document.querySelector('#df-1d4cb590-f162-4c59-98f6-626dbf8c22b6 button.colab-df-convert');\n",
              "      buttonEl.style.display =\n",
              "        google.colab.kernel.accessAllowed ? 'block' : 'none';\n",
              "\n",
              "      async function convertToInteractive(key) {\n",
              "        const element = document.querySelector('#df-1d4cb590-f162-4c59-98f6-626dbf8c22b6');\n",
              "        const dataTable =\n",
              "          await google.colab.kernel.invokeFunction('convertToInteractive',\n",
              "                                                    [key], {});\n",
              "        if (!dataTable) return;\n",
              "\n",
              "        const docLinkHtml = 'Like what you see? Visit the ' +\n",
              "          '<a target=\"_blank\" href=https://colab.research.google.com/notebooks/data_table.ipynb>data table notebook</a>'\n",
              "          + ' to learn more about interactive tables.';\n",
              "        element.innerHTML = '';\n",
              "        dataTable['output_type'] = 'display_data';\n",
              "        await google.colab.output.renderOutput(dataTable, element);\n",
              "        const docLink = document.createElement('div');\n",
              "        docLink.innerHTML = docLinkHtml;\n",
              "        element.appendChild(docLink);\n",
              "      }\n",
              "    </script>\n",
              "  </div>\n",
              "\n",
              "\n",
              "<div id=\"df-4ad304ee-ef82-4dba-92ab-78d2d6ec53d1\">\n",
              "  <button class=\"colab-df-quickchart\" onclick=\"quickchart('df-4ad304ee-ef82-4dba-92ab-78d2d6ec53d1')\"\n",
              "            title=\"Suggest charts\"\n",
              "            style=\"display:none;\">\n",
              "\n",
              "<svg xmlns=\"http://www.w3.org/2000/svg\" height=\"24px\"viewBox=\"0 0 24 24\"\n",
              "     width=\"24px\">\n",
              "    <g>\n",
              "        <path d=\"M19 3H5c-1.1 0-2 .9-2 2v14c0 1.1.9 2 2 2h14c1.1 0 2-.9 2-2V5c0-1.1-.9-2-2-2zM9 17H7v-7h2v7zm4 0h-2V7h2v10zm4 0h-2v-4h2v4z\"/>\n",
              "    </g>\n",
              "</svg>\n",
              "  </button>\n",
              "\n",
              "<style>\n",
              "  .colab-df-quickchart {\n",
              "      --bg-color: #E8F0FE;\n",
              "      --fill-color: #1967D2;\n",
              "      --hover-bg-color: #E2EBFA;\n",
              "      --hover-fill-color: #174EA6;\n",
              "      --disabled-fill-color: #AAA;\n",
              "      --disabled-bg-color: #DDD;\n",
              "  }\n",
              "\n",
              "  [theme=dark] .colab-df-quickchart {\n",
              "      --bg-color: #3B4455;\n",
              "      --fill-color: #D2E3FC;\n",
              "      --hover-bg-color: #434B5C;\n",
              "      --hover-fill-color: #FFFFFF;\n",
              "      --disabled-bg-color: #3B4455;\n",
              "      --disabled-fill-color: #666;\n",
              "  }\n",
              "\n",
              "  .colab-df-quickchart {\n",
              "    background-color: var(--bg-color);\n",
              "    border: none;\n",
              "    border-radius: 50%;\n",
              "    cursor: pointer;\n",
              "    display: none;\n",
              "    fill: var(--fill-color);\n",
              "    height: 32px;\n",
              "    padding: 0;\n",
              "    width: 32px;\n",
              "  }\n",
              "\n",
              "  .colab-df-quickchart:hover {\n",
              "    background-color: var(--hover-bg-color);\n",
              "    box-shadow: 0 1px 2px rgba(60, 64, 67, 0.3), 0 1px 3px 1px rgba(60, 64, 67, 0.15);\n",
              "    fill: var(--button-hover-fill-color);\n",
              "  }\n",
              "\n",
              "  .colab-df-quickchart-complete:disabled,\n",
              "  .colab-df-quickchart-complete:disabled:hover {\n",
              "    background-color: var(--disabled-bg-color);\n",
              "    fill: var(--disabled-fill-color);\n",
              "    box-shadow: none;\n",
              "  }\n",
              "\n",
              "  .colab-df-spinner {\n",
              "    border: 2px solid var(--fill-color);\n",
              "    border-color: transparent;\n",
              "    border-bottom-color: var(--fill-color);\n",
              "    animation:\n",
              "      spin 1s steps(1) infinite;\n",
              "  }\n",
              "\n",
              "  @keyframes spin {\n",
              "    0% {\n",
              "      border-color: transparent;\n",
              "      border-bottom-color: var(--fill-color);\n",
              "      border-left-color: var(--fill-color);\n",
              "    }\n",
              "    20% {\n",
              "      border-color: transparent;\n",
              "      border-left-color: var(--fill-color);\n",
              "      border-top-color: var(--fill-color);\n",
              "    }\n",
              "    30% {\n",
              "      border-color: transparent;\n",
              "      border-left-color: var(--fill-color);\n",
              "      border-top-color: var(--fill-color);\n",
              "      border-right-color: var(--fill-color);\n",
              "    }\n",
              "    40% {\n",
              "      border-color: transparent;\n",
              "      border-right-color: var(--fill-color);\n",
              "      border-top-color: var(--fill-color);\n",
              "    }\n",
              "    60% {\n",
              "      border-color: transparent;\n",
              "      border-right-color: var(--fill-color);\n",
              "    }\n",
              "    80% {\n",
              "      border-color: transparent;\n",
              "      border-right-color: var(--fill-color);\n",
              "      border-bottom-color: var(--fill-color);\n",
              "    }\n",
              "    90% {\n",
              "      border-color: transparent;\n",
              "      border-bottom-color: var(--fill-color);\n",
              "    }\n",
              "  }\n",
              "</style>\n",
              "\n",
              "  <script>\n",
              "    async function quickchart(key) {\n",
              "      const quickchartButtonEl =\n",
              "        document.querySelector('#' + key + ' button');\n",
              "      quickchartButtonEl.disabled = true;  // To prevent multiple clicks.\n",
              "      quickchartButtonEl.classList.add('colab-df-spinner');\n",
              "      try {\n",
              "        const charts = await google.colab.kernel.invokeFunction(\n",
              "            'suggestCharts', [key], {});\n",
              "      } catch (error) {\n",
              "        console.error('Error during call to suggestCharts:', error);\n",
              "      }\n",
              "      quickchartButtonEl.classList.remove('colab-df-spinner');\n",
              "      quickchartButtonEl.classList.add('colab-df-quickchart-complete');\n",
              "    }\n",
              "    (() => {\n",
              "      let quickchartButtonEl =\n",
              "        document.querySelector('#df-4ad304ee-ef82-4dba-92ab-78d2d6ec53d1 button');\n",
              "      quickchartButtonEl.style.display =\n",
              "        google.colab.kernel.accessAllowed ? 'block' : 'none';\n",
              "    })();\n",
              "  </script>\n",
              "</div>\n",
              "\n",
              "    </div>\n",
              "  </div>\n"
            ],
            "application/vnd.google.colaboratory.intrinsic+json": {
              "type": "dataframe",
              "variable_name": "df",
              "summary": "{\n  \"name\": \"df\",\n  \"rows\": 8224,\n  \"fields\": [\n    {\n      \"column\": \"Review_ID\",\n      \"properties\": {\n        \"dtype\": \"number\",\n        \"std\": 2374,\n        \"min\": 1,\n        \"max\": 8224,\n        \"num_unique_values\": 8224,\n        \"samples\": [\n          4428,\n          7181,\n          3995\n        ],\n        \"semantic_type\": \"\",\n        \"description\": \"\"\n      }\n    },\n    {\n      \"column\": \"aspectCategory\",\n      \"properties\": {\n        \"dtype\": \"category\",\n        \"num_unique_values\": 15,\n        \"samples\": [\n          \"price\",\n          \"staff\",\n          \"seating\"\n        ],\n        \"semantic_type\": \"\",\n        \"description\": \"\"\n      }\n    },\n    {\n      \"column\": \"sentiment\",\n      \"properties\": {\n        \"dtype\": \"category\",\n        \"num_unique_values\": 2,\n        \"samples\": [\n          \"negative\",\n          \"positive\"\n        ],\n        \"semantic_type\": \"\",\n        \"description\": \"\"\n      }\n    },\n    {\n      \"column\": \"Pre_Text\",\n      \"properties\": {\n        \"dtype\": \"string\",\n        \"num_unique_values\": 6615,\n        \"samples\": [\n          \"love cafe reserved parking electric vehicles promoting ecofriendliness\",\n          \"maybe go china see great wall place sleep i\\u2019ve traveled year stayed hundreds hostels around world one number one it\\u2019s really special it\\u2019s really worth staying great breakfast great locations good rooms incredible service staff i\\u2019ll definitely staying get back china\"\n        ],\n        \"semantic_type\": \"\",\n        \"description\": \"\"\n      }\n    }\n  ]\n}"
            }
          },
          "metadata": {},
          "execution_count": 8
        }
      ],
      "source": [
        "# Here read the read the data by using pandas library\n",
        "df=pd.read_csv('/content/Last_Complete_Data_8224.csv')\n",
        "# Show the first 10 rows\n",
        "df.head(10)"
      ]
    },
    {
      "cell_type": "markdown",
      "metadata": {
        "id": "xWj9uGbU5XhC"
      },
      "source": [
        "###  Cheack the data"
      ]
    },
    {
      "cell_type": "code",
      "execution_count": null,
      "metadata": {
        "colab": {
          "base_uri": "https://localhost:8080/"
        },
        "id": "BsQa5gon02-P",
        "outputId": "999af34e-1cc2-41d6-b3d2-0f4a78e7c441"
      },
      "outputs": [
        {
          "output_type": "execute_result",
          "data": {
            "text/plain": [
              "Review_ID         0\n",
              "aspectCategory    0\n",
              "sentiment         0\n",
              "Pre_Text          0\n",
              "dtype: int64"
            ]
          },
          "metadata": {},
          "execution_count": 9
        }
      ],
      "source": [
        "# Check the nulls values\n",
        "df.isna().sum()"
      ]
    },
    {
      "cell_type": "code",
      "execution_count": null,
      "metadata": {
        "colab": {
          "base_uri": "https://localhost:8080/"
        },
        "id": "aE-4qqBQirsK",
        "outputId": "552b6e80-fb95-4a23-8929-123d705b7f5b"
      },
      "outputs": [
        {
          "output_type": "stream",
          "name": "stdout",
          "text": [
            "<class 'pandas.core.frame.DataFrame'>\n",
            "RangeIndex: 8224 entries, 0 to 8223\n",
            "Data columns (total 4 columns):\n",
            " #   Column          Non-Null Count  Dtype \n",
            "---  ------          --------------  ----- \n",
            " 0   Review_ID       8224 non-null   int64 \n",
            " 1   aspectCategory  8224 non-null   object\n",
            " 2   sentiment       8224 non-null   object\n",
            " 3   Pre_Text        8224 non-null   object\n",
            "dtypes: int64(1), object(3)\n",
            "memory usage: 257.1+ KB\n"
          ]
        }
      ],
      "source": [
        "# check the information for the dataset\n",
        "df.info()"
      ]
    },
    {
      "cell_type": "code",
      "execution_count": null,
      "metadata": {
        "colab": {
          "base_uri": "https://localhost:8080/",
          "height": 204
        },
        "id": "oFs4lxoN5kuF",
        "outputId": "bd2802d7-9a37-4896-9126-46adb0799b38"
      },
      "outputs": [
        {
          "output_type": "execute_result",
          "data": {
            "text/plain": [
              "Text(0.5, 1.0, 'Sentiment Data Distribution')"
            ]
          },
          "metadata": {},
          "execution_count": 13
        },
        {
          "output_type": "display_data",
          "data": {
            "text/plain": [
              "<Figure size 800x400 with 1 Axes>"
            ],
            "image/png": "[encoded data removed]"
          },
          "metadata": {}
        }
      ],
      "source": [
        "# Check the label for the data\n",
        "val_count = df.sentiment.value_counts()\n",
        "# Figure size\n",
        "plt.figure(figsize=(8,4))\n",
        "# Using Bar plot to ploting the count of labeling data.\n",
        "plt.bar(val_count.index, val_count.values, color='red')\n",
        "# Set title for the plot.\n",
        "plt.title(\"Sentiment Data Distribution\")"
      ]
    },
    {
      "cell_type": "markdown",
      "metadata": {
        "id": "opwFFTUl53vR"
      },
      "source": [
        "# 3. Data Pre-processing"
      ]
    },
    {
      "cell_type": "code",
      "execution_count": null,
      "metadata": {
        "id": "yuN_WVVCAsFd"
      },
      "outputs": [],
      "source": [
        "\"\"\"\n",
        "This function for processing the data,\n",
        "here check the stopwords and steeming.\n",
        "\"\"\"\n",
        "def preprocess(text):\n",
        "    text = text.split()\n",
        "    # Check the stopwords.\n",
        "    stop = set(stopwords.words('english'))\n",
        "    # Check the Stemmer for the data\n",
        "    stemmer = SnowballStemmer('english')\n",
        "    text = [stemmer.stem(word) for word in text if not word in stop]\n",
        "    return \" \".join(text)\n",
        "\n",
        "\n",
        "# Apply the function for the data.\n",
        "df['Pre_Text'] = df['Pre_Text'].apply(preprocess)"
      ]
    },
    {
      "cell_type": "code",
      "execution_count": null,
      "metadata": {
        "colab": {
          "base_uri": "https://localhost:8080/"
        },
        "id": "pbeEILcDJn1t",
        "outputId": "06bfb459-0f11-4fab-aede-aaa603e8aa36"
      },
      "outputs": [
        {
          "output_type": "execute_result",
          "data": {
            "text/plain": [
              "0       seat copi comfort perfect relax coffe break de...\n",
              "1            love allianc café seat bit cramp negat point\n",
              "2       seat arrang wellspac allow privaci enjoy coffe...\n",
              "3       honest seat quit uncomfort wish fashion chair ...\n",
              "4       appreci varieti seat option high tool com armc...\n",
              "                              ...                        \n",
              "8219    pancak good dont blueberri pancak menu abl pro...\n",
              "8220    waiter disappear entir food final abl order ar...\n",
              "8221    90 powerhous steak 2 order mediumrar deliv wel...\n",
              "8222                       food good writer pushyrud dumb\n",
              "8223                       food good writer pushyrud dumb\n",
              "Name: Pre_Text, Length: 8224, dtype: object"
            ]
          },
          "metadata": {},
          "execution_count": 15
        }
      ],
      "source": [
        "# Check the data after make processing on it.\n",
        "df['Pre_Text']"
      ]
    },
    {
      "cell_type": "markdown",
      "metadata": {
        "id": "TIqa92u96bWL"
      },
      "source": [
        "# 4. Apply the Tokenization on the data.\n",
        "* Here we work on make transformation on the data to convert the data from text to numeric to make the model understand it."
      ]
    },
    {
      "cell_type": "code",
      "execution_count": null,
      "metadata": {
        "colab": {
          "base_uri": "https://localhost:8080/"
        },
        "id": "bcrs9lDtAAT9",
        "outputId": "0af29d08-3007-47ce-c287-c8d1184b6e01"
      },
      "outputs": [
        {
          "output_type": "stream",
          "name": "stdout",
          "text": [
            "  (0, 2138)\t0.27776789123260337\n",
            "  (0, 4462)\t0.34450492643068337\n",
            "  (0, 1667)\t0.29961171689411364\n",
            "  (0, 881)\t0.43620670805261735\n",
            "  (0, 1308)\t0.2959524274395402\n",
            "  (0, 4771)\t0.33024268782980104\n",
            "  (0, 4309)\t0.27438756288828053\n",
            "  (0, 1336)\t0.28683601084729865\n",
            "  (0, 1451)\t0.3361615881111377\n",
            "  (0, 5068)\t0.23854090620786708\n",
            "  (1, 4422)\t0.3839550997589388\n",
            "  (1, 3897)\t0.40307684782146896\n",
            "  (1, 1500)\t0.4115850603328368\n",
            "  (1, 775)\t0.2950373999234985\n",
            "  (1, 1004)\t0.40150350996247947\n",
            "  (1, 346)\t0.3521187797464257\n",
            "  (1, 3445)\t0.2870795819589267\n",
            "  (1, 5068)\t0.25700353487178634\n",
            "  (2, 534)\t0.3434164952372105\n",
            "  (2, 2025)\t0.2255751246266688\n",
            "  (2, 4540)\t0.37459157203506915\n",
            "  (2, 348)\t0.31104537093160145\n",
            "  (2, 6325)\t0.45276255705585944\n",
            "  (2, 507)\t0.3434164952372105\n",
            "  (2, 1004)\t0.30605942131692115\n",
            "  :\t:\n",
            "  (7, 3426)\t0.2786433030863481\n",
            "  (7, 5397)\t0.3342949397162455\n",
            "  (7, 1950)\t0.44264805676543234\n",
            "  (7, 3071)\t0.36574947672889724\n",
            "  (7, 6410)\t0.29645784450738744\n",
            "  (7, 1333)\t0.26039144819155785\n",
            "  (7, 2025)\t0.2629655823202908\n",
            "  (7, 3897)\t0.3581887691769405\n",
            "  (7, 5068)\t0.22838270252282378\n",
            "  (8, 5897)\t0.39423796403253925\n",
            "  (8, 4139)\t0.3419784584140475\n",
            "  (8, 5534)\t0.3472929048905446\n",
            "  (8, 6197)\t0.26370483616262397\n",
            "  (8, 3928)\t0.24072458298137853\n",
            "  (8, 4052)\t0.28729994211294324\n",
            "  (8, 6371)\t0.3607585404263426\n",
            "  (8, 4462)\t0.34546799256426314\n",
            "  (8, 1667)\t0.3004492837200919\n",
            "  (8, 5068)\t0.2392077491195851\n",
            "  (9, 5636)\t0.3788495770161635\n",
            "  (9, 1863)\t0.43540930931265975\n",
            "  (9, 1124)\t0.3805347934594387\n",
            "  (9, 6022)\t0.4414496300167758\n",
            "  (9, 1004)\t0.4247441970269797\n",
            "  (9, 1451)\t0.3831443508330598\n"
          ]
        }
      ],
      "source": [
        "# Apply the tf-idf on the data.\n",
        "vectorizer = TfidfVectorizer()\n",
        "vectors = vectorizer.fit_transform(df['Pre_Text'] )\n",
        "print(vectors[:10])"
      ]
    },
    {
      "cell_type": "markdown",
      "metadata": {
        "id": "FmGZkp7b63ew"
      },
      "source": [
        "#### Convert the target columns from the text to numeric by using Label Encoding"
      ]
    },
    {
      "cell_type": "code",
      "execution_count": null,
      "metadata": {
        "id": "G8vNEqJpRhyW"
      },
      "outputs": [],
      "source": [
        "# Apply the Label encoding on the target columns.\n",
        "le = LabelEncoder()\n",
        "label=le.fit_transform(df['sentiment'])"
      ]
    },
    {
      "cell_type": "markdown",
      "metadata": {
        "id": "JGoY6ZDc7Rqx"
      },
      "source": [
        "#### Spliting the data into train and test to use it to train the model."
      ]
    },
    {
      "cell_type": "code",
      "execution_count": null,
      "metadata": {
        "id": "z_4sPfLbS1wp"
      },
      "outputs": [],
      "source": [
        "# here apply the train_test-split function on the data.\n",
        "X_train, X_test, y_train, y_test = train_test_split(vectors, label, test_size=0.2, random_state=42)"
      ]
    },
    {
      "cell_type": "code",
      "execution_count": null,
      "metadata": {
        "colab": {
          "base_uri": "https://localhost:8080/"
        },
        "id": "LaDFoouvTuru",
        "outputId": "e35a11ab-4534-4cdd-dec5-024f665efbaa"
      },
      "outputs": [
        {
          "output_type": "stream",
          "name": "stdout",
          "text": [
            "Shape of the Train data set:  (6579, 6482)\n",
            "Shape of the test data set: (1645, 6482)\n",
            "Shape of the y_train data set (6579,)\n",
            "Shape of the y_test data set (1645,)\n"
          ]
        }
      ],
      "source": [
        "print(\"Shape of the Train data set: \",X_train.shape)\n",
        "print(\"Shape of the test data set:\",X_test.shape)\n",
        "print(\"Shape of the y_train data set\",y_train.shape)\n",
        "print(\"Shape of the y_test data set\",y_test.shape)"
      ]
    },
    {
      "cell_type": "markdown",
      "metadata": {
        "id": "MKfKBsl375Yb"
      },
      "source": [
        "# 5. Apply Model Machine Learning."
      ]
    },
    {
      "cell_type": "markdown",
      "metadata": {
        "id": "44ktoflL795s"
      },
      "source": [
        "### Using Logistic Regression."
      ]
    },
    {
      "cell_type": "code",
      "execution_count": null,
      "metadata": {
        "colab": {
          "base_uri": "https://localhost:8080/",
          "height": 94
        },
        "id": "-Kzz3nJTUNf2",
        "outputId": "55b03143-b355-4a3d-da25-037921aa1bdd"
      },
      "outputs": [
        {
          "output_type": "execute_result",
          "data": {
            "text/plain": [
              "LogisticRegression(random_state=0)"
            ],
            "text/html": [
              "<style>#sk-container-id-1 {color: black;background-color: white;}#sk-container-id-1 pre{padding: 0;}#sk-container-id-1 div.sk-toggleable {background-color: white;}#sk-container-id-1 label.sk-toggleable__label {cursor: pointer;display: block;width: 100%;margin-bottom: 0;padding: 0.3em;box-sizing: border-box;text-align: center;}#sk-container-id-1 label.sk-toggleable__label-arrow:before {content: \"▸\";float: left;margin-right: 0.25em;color: #696969;}#sk-container-id-1 label.sk-toggleable__label-arrow:hover:before {color: black;}#sk-container-id-1 div.sk-estimator:hover label.sk-toggleable__label-arrow:before {color: black;}#sk-container-id-1 div.sk-toggleable__content {max-height: 0;max-width: 0;overflow: hidden;text-align: left;background-color: #f0f8ff;}#sk-container-id-1 div.sk-toggleable__content pre {margin: 0.2em;color: black;border-radius: 0.25em;background-color: #f0f8ff;}#sk-container-id-1 input.sk-toggleable__control:checked~div.sk-toggleable__content {max-height: 200px;max-width: 100%;overflow: auto;}#sk-container-id-1 input.sk-toggleable__control:checked~label.sk-toggleable__label-arrow:before {content: \"▾\";}#sk-container-id-1 div.sk-estimator input.sk-toggleable__control:checked~label.sk-toggleable__label {background-color: #d4ebff;}#sk-container-id-1 div.sk-label input.sk-toggleable__control:checked~label.sk-toggleable__label {background-color: #d4ebff;}#sk-container-id-1 input.sk-hidden--visually {border: 0;clip: rect(1px 1px 1px 1px);clip: rect(1px, 1px, 1px, 1px);height: 1px;margin: -1px;overflow: hidden;padding: 0;position: absolute;width: 1px;}#sk-container-id-1 div.sk-estimator {font-family: monospace;background-color: #f0f8ff;border: 1px dotted black;border-radius: 0.25em;box-sizing: border-box;margin-bottom: 0.5em;}#sk-container-id-1 div.sk-estimator:hover {background-color: #d4ebff;}#sk-container-id-1 div.sk-parallel-item::after {content: \"\";width: 100%;border-bottom: 1px solid gray;flex-grow: 1;}#sk-container-id-1 div.sk-label:hover label.sk-toggleable__label {background-color: #d4ebff;}#sk-container-id-1 div.sk-serial::before {content: \"\";position: absolute;border-left: 1px solid gray;box-sizing: border-box;top: 0;bottom: 0;left: 50%;z-index: 0;}#sk-container-id-1 div.sk-serial {display: flex;flex-direction: column;align-items: center;background-color: white;padding-right: 0.2em;padding-left: 0.2em;position: relative;}#sk-container-id-1 div.sk-item {position: relative;z-index: 1;}#sk-container-id-1 div.sk-parallel {display: flex;align-items: stretch;justify-content: center;background-color: white;position: relative;}#sk-container-id-1 div.sk-item::before, #sk-container-id-1 div.sk-parallel-item::before {content: \"\";position: absolute;border-left: 1px solid gray;box-sizing: border-box;top: 0;bottom: 0;left: 50%;z-index: -1;}#sk-container-id-1 div.sk-parallel-item {display: flex;flex-direction: column;z-index: 1;position: relative;background-color: white;}#sk-container-id-1 div.sk-parallel-item:first-child::after {align-self: flex-end;width: 50%;}#sk-container-id-1 div.sk-parallel-item:last-child::after {align-self: flex-start;width: 50%;}#sk-container-id-1 div.sk-parallel-item:only-child::after {width: 0;}#sk-container-id-1 div.sk-dashed-wrapped {border: 1px dashed gray;margin: 0 0.4em 0.5em 0.4em;box-sizing: border-box;padding-bottom: 0.4em;background-color: white;}#sk-container-id-1 div.sk-label label {font-family: monospace;font-weight: bold;display: inline-block;line-height: 1.2em;}#sk-container-id-1 div.sk-label-container {text-align: center;}#sk-container-id-1 div.sk-container {/* jupyter's `normalize.less` sets `[hidden] { display: none; }` but bootstrap.min.css set `[hidden] { display: none !important; }` so we also need the `!important` here to be able to override the default hidden behavior on the sphinx rendered scikit-learn.org. See: https://github.com/scikit-learn/scikit-learn/issues/21755 */display: inline-block !important;position: relative;}#sk-container-id-1 div.sk-text-repr-fallback {display: none;}</style><div id=\"sk-container-id-1\" class=\"sk-top-container\"><div class=\"sk-text-repr-fallback\"><pre>LogisticRegression(random_state=0)</pre><b>In a Jupyter environment, please rerun this cell to show the HTML representation or trust the notebook. <br />On GitHub, the HTML representation is unable to render, please try loading this page with nbviewer.org.</b></div><div class=\"sk-container\" hidden><div class=\"sk-item\"><div class=\"sk-estimator sk-toggleable\"><input class=\"sk-toggleable__control sk-hidden--visually\" id=\"sk-estimator-id-1\" type=\"checkbox\" checked><label for=\"sk-estimator-id-1\" class=\"sk-toggleable__label sk-toggleable__label-arrow\">LogisticRegression</label><div class=\"sk-toggleable__content\"><pre>LogisticRegression(random_state=0)</pre></div></div></div></div></div>"
            ]
          },
          "metadata": {},
          "execution_count": 20
        }
      ],
      "source": [
        "# making LogisticRegression Model\n",
        "classifier = LogisticRegression(random_state=0)\n",
        "classifier.fit(X_train,y_train)"
      ]
    },
    {
      "cell_type": "code",
      "execution_count": null,
      "metadata": {
        "colab": {
          "base_uri": "https://localhost:8080/"
        },
        "id": "KVywkEtX8Spy",
        "outputId": "27d1a69a-0a92-4d95-bb68-a59397a34d00"
      },
      "outputs": [
        {
          "output_type": "stream",
          "name": "stdout",
          "text": [
            "LogisticRegression Train Score is :  0.856969144246846\n",
            "LogisticRegression Test Score is :  0.8097264437689969\n"
          ]
        }
      ],
      "source": [
        "print('LogisticRegression Train Score is : ' , classifier.score(X_train, y_train))\n",
        "print('LogisticRegression Test Score is : ' , classifier.score(X_test, y_test))"
      ]
    },
    {
      "cell_type": "markdown",
      "metadata": {
        "id": "SZz4vnk78JLi"
      },
      "source": [
        "##### Ckeck the model predicton"
      ]
    },
    {
      "cell_type": "code",
      "execution_count": null,
      "metadata": {
        "colab": {
          "base_uri": "https://localhost:8080/"
        },
        "id": "oLutOBgRUnI1",
        "outputId": "cf204bf1-11e5-4b34-f931-f19b028f6b03"
      },
      "outputs": [
        {
          "output_type": "stream",
          "name": "stdout",
          "text": [
            "[1 1 1 ... 1 1 1]\n"
          ]
        }
      ],
      "source": [
        "#making predictions on test data\n",
        "y_predict = classifier.predict(X_test)\n",
        "print(y_predict)"
      ]
    },
    {
      "cell_type": "markdown",
      "metadata": {
        "id": "y1b1EYTw8V-J"
      },
      "source": [
        "##### Check the Confusion Matrix"
      ]
    },
    {
      "cell_type": "code",
      "execution_count": null,
      "metadata": {
        "id": "wCjlaB57UqlU"
      },
      "outputs": [],
      "source": [
        "#confusion matrix\n",
        "cm = confusion_matrix(y_test,y_predict)"
      ]
    },
    {
      "cell_type": "code",
      "execution_count": null,
      "metadata": {
        "colab": {
          "base_uri": "https://localhost:8080/",
          "height": 303
        },
        "id": "wsrY5CBhUuwl",
        "outputId": "22516adb-0261-48d4-c5d1-f8b5c780326f"
      },
      "outputs": [
        {
          "output_type": "execute_result",
          "data": {
            "text/plain": [
              "<Axes: title={'center': 'Confusion Matrix for the Model Logistic Regression'}>"
            ]
          },
          "metadata": {},
          "execution_count": 24
        },
        {
          "output_type": "display_data",
          "data": {
            "text/plain": [
              "<Figure size 640x480 with 2 Axes>"
            ],
            "image/png": "[encoded data removed]"
          },
          "metadata": {}
        }
      ],
      "source": [
        "# Ploting the confusion matrix\n",
        "plt.title(\"Confusion Matrix for the Model Logistic Regression\")\n",
        "sns.heatmap(cm, annot=True)"
      ]
    },
    {
      "cell_type": "markdown",
      "metadata": {
        "id": "fyaJl7RUApMW"
      },
      "source": [
        "#### Check the the Sensitivity and Specificity"
      ]
    },
    {
      "cell_type": "code",
      "execution_count": null,
      "metadata": {
        "colab": {
          "base_uri": "https://localhost:8080/"
        },
        "id": "FIg4GdAmUv2-",
        "outputId": "1ab10451-09ce-485f-83d6-be8a1aca8f19"
      },
      "outputs": [
        {
          "output_type": "stream",
          "name": "stdout",
          "text": [
            "Sensitivity :  0.8330494037478705\n",
            "Specificity :  0.7967863894139886\n"
          ]
        }
      ],
      "source": [
        "total=sum(sum(cm))\n",
        "\n",
        "sensitivity = cm[0,0]/(cm[0,0]+cm[1,0])\n",
        "print('Sensitivity : ', sensitivity )\n",
        "\n",
        "specificity = cm[1,1]/(cm[1,1]+cm[0,1])\n",
        "print('Specificity : ', specificity)"
      ]
    },
    {
      "cell_type": "markdown",
      "metadata": {
        "id": "ZvKtpqYdA8F9"
      },
      "source": [
        "#### Check the the PPV nad NPV"
      ]
    },
    {
      "cell_type": "code",
      "execution_count": null,
      "metadata": {
        "colab": {
          "base_uri": "https://localhost:8080/"
        },
        "id": "oYSqCZBOXqJ1",
        "outputId": "72b86624-d4d3-4e3e-eb37-08da5fa87cf3"
      },
      "outputs": [
        {
          "output_type": "stream",
          "name": "stdout",
          "text": [
            "ppv :  0.6946022727272727\n",
            "npv :  0.895855472901169\n"
          ]
        }
      ],
      "source": [
        "total=sum(sum(cm))\n",
        "\n",
        "# this for Positive Predictive Value.\n",
        "ppv = cm[0,0]/(cm[0,0]+cm[0,1])\n",
        "print('ppv : ', ppv )\n",
        "# negative Predictive Value.\n",
        "npv = cm[1,1]/(cm[1,0]+cm[1,1])\n",
        "print('npv : ', npv)"
      ]
    },
    {
      "cell_type": "markdown",
      "metadata": {
        "id": "1p9-PJ7nirsS"
      },
      "source": [
        "#### Check the metrics"
      ]
    },
    {
      "cell_type": "code",
      "execution_count": null,
      "metadata": {
        "colab": {
          "base_uri": "https://localhost:8080/"
        },
        "id": "zQYtiegwYVED",
        "outputId": "e69a8a9b-a151-4d0e-9313-0d2c7c1b119d"
      },
      "outputs": [
        {
          "output_type": "stream",
          "name": "stdout",
          "text": [
            "F1 Score is :  0.8097264437689969\n"
          ]
        }
      ],
      "source": [
        "#Calculating F1 Score  : 2 * (precision * recall) / (precision + recall)\n",
        "F1Score = f1_score(y_test, y_predict, average='micro')\n",
        "print('F1 Score is : ', F1Score)"
      ]
    },
    {
      "cell_type": "code",
      "execution_count": null,
      "metadata": {
        "colab": {
          "base_uri": "https://localhost:8080/"
        },
        "id": "ZZvTrWe0YrdM",
        "outputId": "a4c9f36a-51a9-49d0-dc68-4375af7ea2ee"
      },
      "outputs": [
        {
          "output_type": "stream",
          "name": "stdout",
          "text": [
            "Recall Score is :  0.8097264437689969\n"
          ]
        }
      ],
      "source": [
        "#Calculating Recall Score : (Sensitivity) (TP / float(TP + FN))   1 / 1+2\n",
        "RecallScore = recall_score(y_test, y_predict, average='micro')\n",
        "print('Recall Score is : ', RecallScore)"
      ]
    },
    {
      "cell_type": "code",
      "execution_count": null,
      "metadata": {
        "colab": {
          "base_uri": "https://localhost:8080/"
        },
        "id": "sIYm7tdpY_Lr",
        "outputId": "e2d961ba-348c-411f-b33d-a149fbc448c7"
      },
      "outputs": [
        {
          "output_type": "stream",
          "name": "stdout",
          "text": [
            "Precision Score is :  0.8097264437689969\n"
          ]
        }
      ],
      "source": [
        "#Calculating Precision Score : (Specificity) #(TP / float(TP + FP))\n",
        "PrecisionScore = precision_score(y_test, y_predict, average='micro')\n",
        "print('Precision Score is : ', PrecisionScore)"
      ]
    },
    {
      "cell_type": "code",
      "execution_count": null,
      "metadata": {
        "colab": {
          "base_uri": "https://localhost:8080/"
        },
        "id": "QQ7Ys54zi9dB",
        "outputId": "d52af66a-eb8f-4c06-88bf-2e090a2692c8"
      },
      "outputs": [
        {
          "output_type": "stream",
          "name": "stdout",
          "text": [
            "Precision Recall Score is :  (0.8097264437689969, 0.8097264437689969, 0.8097264437689969, None)\n"
          ]
        }
      ],
      "source": [
        "#Calculating Precision recall Score\n",
        "PrecisionRecallScore = precision_recall_fscore_support(y_test, y_predict, average='micro')\n",
        "print('Precision Recall Score is : ', PrecisionRecallScore)"
      ]
    },
    {
      "cell_type": "code",
      "execution_count": null,
      "metadata": {
        "colab": {
          "base_uri": "https://localhost:8080/"
        },
        "id": "dHqHz_URjDNX",
        "outputId": "c43a2c5d-825e-49fe-bb32-0b1f8cddd982"
      },
      "outputs": [
        {
          "output_type": "stream",
          "name": "stdout",
          "text": [
            "Mean Absolute Error Value is :  0.19027355623100303\n"
          ]
        }
      ],
      "source": [
        "#Calculating Mean Absolute Error\n",
        "MAEValue = mean_absolute_error(y_test, y_predict, multioutput='uniform_average')\n",
        "print('Mean Absolute Error Value is : ', MAEValue)"
      ]
    },
    {
      "cell_type": "code",
      "execution_count": null,
      "metadata": {
        "colab": {
          "base_uri": "https://localhost:8080/"
        },
        "id": "bGcp9b6WjN0T",
        "outputId": "a1d3ad5e-88ad-4d6b-b3f6-1277f09551ac"
      },
      "outputs": [
        {
          "output_type": "stream",
          "name": "stdout",
          "text": [
            "Mean Squared Error Value is :  0.19027355623100303\n",
            "Median Squared Error Value is :  0.0\n"
          ]
        }
      ],
      "source": [
        "#Calculating Mean Squared Error\n",
        "MSEValue = mean_squared_error(y_test, y_predict, multioutput='uniform_average')\n",
        "print('Mean Squared Error Value is : ', MSEValue)\n",
        "\n",
        "\n",
        "\n",
        "#Calculating Median Squared Error\n",
        "MdSEValue = median_absolute_error(y_test,y_predict)\n",
        "print('Median Squared Error Value is : ', MdSEValue )"
      ]
    },
    {
      "cell_type": "markdown",
      "metadata": {
        "id": "MV7sDmnhBNEI"
      },
      "source": [
        "### Ploting the ROC Curve"
      ]
    },
    {
      "cell_type": "markdown",
      "metadata": {
        "id": "nFff1CweBM_1"
      },
      "source": []
    },
    {
      "cell_type": "code",
      "execution_count": null,
      "metadata": {
        "colab": {
          "base_uri": "https://localhost:8080/",
          "height": 225
        },
        "id": "dlAg3_46jdx5",
        "outputId": "59a0be5d-3d3b-4ef6-8054-0596f2856cd4"
      },
      "outputs": [
        {
          "output_type": "display_data",
          "data": {
            "text/plain": [
              "<Figure size 800x600 with 1 Axes>"
            ],
            "image/png": "[encoded data removed]"
          },
          "metadata": {}
        }
      ],
      "source": [
        "fig, (ax2) = plt.subplots(figsize = (8,6))\n",
        "        #roc-curve\n",
        "fpr, tpr, thresholds_roc = roc_curve(y_test,y_predict)\n",
        "\n",
        "roc_auc = auc(fpr,tpr)\n",
        "ax2.plot(fpr,tpr, label = \" AUROC = {:0.2f}\".format(roc_auc))\n",
        "\n",
        "ax2.plot([0,1], [0,1], 'r', linestyle = \"--\", lw = 2)\n",
        "\n",
        "ax2.set_xlabel(\"False Positive Rate\", fontsize = 14)\n",
        "\n",
        "ax2.set_ylabel(\"True Positive Rate\", fontsize = 14)\n",
        "\n",
        "ax2.set_title(\"ROC Curve\", fontsize = 18)\n",
        "\n",
        "ax2.legend(loc = 'best')\n",
        "\n",
        "plt.title('ROC curve for Logistic Regression Classifier')\n",
        "\n",
        "plt.xlabel('False Positive Rate (1 - Specificity)')\n",
        "\n",
        "plt.ylabel('True Positive Rate (Sensitivity)')\n",
        "\n",
        "#find default threshold\n",
        "close_default = np.argmin(np.abs(thresholds_roc - 0.5))\n",
        "\n",
        "ax2.plot(fpr[close_default], tpr[close_default], 'o', markersize = 8)\n",
        "\n",
        "plt.tight_layout()"
      ]
    },
    {
      "cell_type": "code",
      "execution_count": null,
      "metadata": {
        "id": "IB_9HDzyBtcE"
      },
      "outputs": [],
      "source": [
        "# Saving the model\n",
        "pickle.dump(classifier, open(\"model.pkl\", \"wb\"))"
      ]
    },
    {
      "cell_type": "markdown",
      "metadata": {
        "id": "WfIvYnSgkCKT"
      },
      "source": [
        "# Using LSTM"
      ]
    },
    {
      "cell_type": "code",
      "execution_count": null,
      "metadata": {
        "id": "8lxPMLtxDqMH"
      },
      "outputs": [],
      "source": [
        "x=df['Pre_Text']\n",
        "# Encode target labels\n",
        "le = LabelEncoder()\n",
        "y = le.fit_transform(df['sentiment'])"
      ]
    },
    {
      "cell_type": "code",
      "execution_count": null,
      "metadata": {
        "id": "0TIQW6PnD_tW"
      },
      "outputs": [],
      "source": [
        "y = pd.get_dummies(df['sentiment'])\n",
        "\n",
        "# spliting the Data\n",
        "X_train, X_test, y_train, y_test = train_test_split(x, y, test_size=0.2, random_state=1)\n",
        "X_train, X_val, y_train, y_val = train_test_split(X_train, y_train, test_size=0.25, random_state=1)"
      ]
    },
    {
      "cell_type": "code",
      "execution_count": null,
      "metadata": {
        "colab": {
          "base_uri": "https://localhost:8080/"
        },
        "id": "bPNmBx7-EItd",
        "outputId": "77d79fa9-6118-47f3-d66e-109da13c1ace"
      },
      "outputs": [
        {
          "output_type": "stream",
          "name": "stderr",
          "text": [
            "/usr/local/lib/python3.10/dist-packages/sklearn/feature_extraction/text.py:528: UserWarning: The parameter 'token_pattern' will not be used since 'tokenizer' is not None'\n",
            "  warnings.warn(\n"
          ]
        }
      ],
      "source": [
        "from sklearn.feature_extraction.text import CountVectorizer\n",
        "#from sklearn.feature_extraction.text import TfidfVectorizer\n",
        "\n",
        "vocabulary_size = 5000\n",
        "\n",
        "# Tweets have already been preprocessed hence dummy function will be passed in\n",
        "# to preprocessor & tokenizer step\n",
        "count_vector = CountVectorizer(max_features=vocabulary_size,\n",
        "#ngram_range=(1,2),    # unigram and bigram\n",
        "                                                                preprocessor=lambda x: x,\n",
        "                                                                tokenizer=lambda x: x)\n",
        "#tfidf_vector = TfidfVectorizer(lowercase=True, stop_words='english')\n",
        "\n",
        "\n",
        "\n",
        "\n",
        "# Fit the training data\n",
        "X_train = count_vector.fit_transform(X_train).toarray()\n",
        "\n",
        "# Transform testing data\n",
        "X_test = count_vector.transform(X_test).toarray()"
      ]
    },
    {
      "cell_type": "code",
      "execution_count": null,
      "metadata": {
        "colab": {
          "base_uri": "https://localhost:8080/"
        },
        "id": "LsFmyx7gENre",
        "outputId": "6d797b2f-485c-45f4-c24c-1d34875ef2ff"
      },
      "outputs": [
        {
          "output_type": "stream",
          "name": "stdout",
          "text": [
            "Before Tokenization & Padding \n",
            " seat copi comfort perfect relax coffe break definit posit experi\n",
            "After Tokenization & Padding \n",
            " [  28  261   89   57  232   73 1076  117  304   67    0    0    0    0\n",
            "    0    0    0    0    0    0    0    0    0    0    0    0    0    0\n",
            "    0    0    0    0    0    0    0    0    0    0    0    0    0    0\n",
            "    0    0    0    0    0    0    0    0]\n"
          ]
        }
      ],
      "source": [
        "# Set the max word that we will using it.\n",
        "max_words = 5000\n",
        "max_len=50\n",
        "\n",
        "def tokenize_pad_sequences(text):\n",
        "    '''\n",
        "    This function tokenize the input text into sequnences of intergers and then\n",
        "    pad each sequence to the same length\n",
        "    '''\n",
        "    # Text tokenization\n",
        "    tokenizer = Tokenizer(num_words=max_words, lower=True, split=' ')\n",
        "    tokenizer.fit_on_texts(text)\n",
        "\n",
        "\n",
        "    # Transforms text to a sequence of integers\n",
        "    X = tokenizer.texts_to_sequences(text)\n",
        "\n",
        "    # Pad sequences to the same length\n",
        "    X = pad_sequences(X, padding='post', maxlen=max_len)\n",
        "\n",
        "    # return sequences\n",
        "    return X, tokenizer\n",
        "\n",
        "print('Before Tokenization & Padding \\n', df['Pre_Text'][0])\n",
        "X, tokenizer = tokenize_pad_sequences(df['Pre_Text'])\n",
        "print('After Tokenization & Padding \\n', X[0])"
      ]
    },
    {
      "cell_type": "code",
      "execution_count": null,
      "metadata": {
        "colab": {
          "base_uri": "https://localhost:8080/"
        },
        "id": "sngufuq6EXal",
        "outputId": "558b16a0-1aeb-44ec-fb51-b74b18556ee8"
      },
      "outputs": [
        {
          "output_type": "stream",
          "name": "stdout",
          "text": [
            "Train Set -> (4934, 50) (4934, 2)\n",
            "Validation Set -> (1645, 50) (1645, 2)\n",
            "Test Set -> (1645, 50) (1645, 2)\n"
          ]
        }
      ],
      "source": [
        "y = pd.get_dummies(df['sentiment'])\n",
        "\n",
        "X_train, X_test, y_train, y_test = train_test_split(X, y, test_size=0.2, random_state=1)\n",
        "X_train, X_val, y_train, y_val = train_test_split(X_train, y_train, test_size=0.25, random_state=1)\n",
        "\n",
        "print('Train Set ->', X_train.shape, y_train.shape)\n",
        "print('Validation Set ->', X_val.shape, y_val.shape)\n",
        "print('Test Set ->', X_test.shape, y_test.shape)"
      ]
    },
    {
      "cell_type": "code",
      "execution_count": null,
      "metadata": {
        "id": "vsqC8siCEfef"
      },
      "outputs": [],
      "source": [
        "\n",
        "def f1_score(precision, recall):\n",
        "    ''' Function to calculate f1 score '''\n",
        "\n",
        "    f1_val = 2*(precision*recall)/(precision+recall+K.epsilon())\n",
        "    return f1_val"
      ]
    },
    {
      "cell_type": "markdown",
      "metadata": {
        "id": "A1EnYvX7irsZ"
      },
      "source": [
        "#### Build the Model LSTM"
      ]
    },
    {
      "cell_type": "code",
      "execution_count": null,
      "metadata": {
        "id": "f-l2QqIjEil2"
      },
      "outputs": [],
      "source": [
        "vocab_size = 5000\n",
        "embedding_size = 32\n",
        "epochs=20\n",
        "learning_rate = 0.1\n",
        "decay_rate = learning_rate / epochs\n",
        "momentum = 0.8\n",
        "# Build model\n",
        "model= Sequential()\n",
        "model.add(Embedding(vocab_size, embedding_size, input_length=max_len))\n",
        "model.add(Conv1D(filters=32, kernel_size=3, padding='same', activation='relu'))\n",
        "model.add(MaxPooling1D(pool_size=2))\n",
        "model.add(LSTM(32))\n",
        "model.add(Dropout(0.4))\n",
        "model.add(Dense(2, activation='softmax'))"
      ]
    },
    {
      "cell_type": "code",
      "execution_count": null,
      "metadata": {
        "colab": {
          "base_uri": "https://localhost:8080/"
        },
        "id": "WIgb3Yebirsa",
        "outputId": "8dc7a742-9e7c-451f-d75c-fba5be017ce9"
      },
      "outputs": [
        {
          "output_type": "stream",
          "name": "stdout",
          "text": [
            "Model: \"sequential\"\n",
            "_________________________________________________________________\n",
            " Layer (type)                Output Shape              Param #   \n",
            "=================================================================\n",
            " embedding (Embedding)       (None, 50, 32)            160000    \n",
            "                                                                 \n",
            " conv1d (Conv1D)             (None, 50, 32)            3104      \n",
            "                                                                 \n",
            " max_pooling1d (MaxPooling1  (None, 25, 32)            0         \n",
            " D)                                                              \n",
            "                                                                 \n",
            " lstm (LSTM)                 (None, 32)                8320      \n",
            "                                                                 \n",
            " dropout (Dropout)           (None, 32)                0         \n",
            "                                                                 \n",
            " dense (Dense)               (None, 2)                 66        \n",
            "                                                                 \n",
            "=================================================================\n",
            "Total params: 171490 (669.88 KB)\n",
            "Trainable params: 171490 (669.88 KB)\n",
            "Non-trainable params: 0 (0.00 Byte)\n",
            "_________________________________________________________________\n"
          ]
        }
      ],
      "source": [
        "# Check the model Summary.\n",
        "model.summary()"
      ]
    },
    {
      "cell_type": "code",
      "execution_count": null,
      "metadata": {
        "id": "VaQbkd9jEls2"
      },
      "outputs": [],
      "source": [
        "# Compile model\n",
        "model.compile(loss='binary_crossentropy', optimizer='adam',\n",
        "                                                         metrics=['accuracy', Precision(), Recall()])"
      ]
    },
    {
      "cell_type": "markdown",
      "metadata": {
        "id": "mFG9kvnRirsb"
      },
      "source": [
        "##### Training the model"
      ]
    },
    {
      "cell_type": "code",
      "execution_count": null,
      "metadata": {
        "colab": {
          "base_uri": "https://localhost:8080/"
        },
        "id": "u8XfxwRwEpqt",
        "outputId": "b7258a69-b9b8-4d42-de6c-fad375c7a99c"
      },
      "outputs": [
        {
          "output_type": "stream",
          "name": "stdout",
          "text": [
            "Epoch 1/20\n",
            "309/309 [==============================] - 11s 23ms/step - loss: 0.6184 - accuracy: 0.6603 - precision: 0.6603 - recall: 0.6603 - val_loss: 0.5007 - val_accuracy: 0.7678 - val_precision: 0.7678 - val_recall: 0.7678\n",
            "Epoch 2/20\n",
            "309/309 [==============================] - 6s 20ms/step - loss: 0.4125 - accuracy: 0.8251 - precision: 0.8251 - recall: 0.8251 - val_loss: 0.4644 - val_accuracy: 0.7872 - val_precision: 0.7872 - val_recall: 0.7872\n",
            "Epoch 3/20\n",
            "309/309 [==============================] - 6s 19ms/step - loss: 0.3150 - accuracy: 0.8780 - precision: 0.8780 - recall: 0.8780 - val_loss: 0.5237 - val_accuracy: 0.7830 - val_precision: 0.7830 - val_recall: 0.7830\n",
            "Epoch 4/20\n",
            "309/309 [==============================] - 10s 33ms/step - loss: 0.2614 - accuracy: 0.9021 - precision: 0.9021 - recall: 0.9021 - val_loss: 0.5759 - val_accuracy: 0.7836 - val_precision: 0.7836 - val_recall: 0.7836\n",
            "Epoch 5/20\n",
            "309/309 [==============================] - 11s 35ms/step - loss: 0.2195 - accuracy: 0.9177 - precision: 0.9177 - recall: 0.9177 - val_loss: 0.5494 - val_accuracy: 0.7684 - val_precision: 0.7684 - val_recall: 0.7684\n",
            "Epoch 6/20\n",
            "309/309 [==============================] - 11s 36ms/step - loss: 0.1849 - accuracy: 0.9228 - precision: 0.9228 - recall: 0.9228 - val_loss: 0.6778 - val_accuracy: 0.7745 - val_precision: 0.7745 - val_recall: 0.7745\n",
            "Epoch 7/20\n",
            "309/309 [==============================] - 8s 27ms/step - loss: 0.1593 - accuracy: 0.9301 - precision: 0.9301 - recall: 0.9301 - val_loss: 0.7480 - val_accuracy: 0.7690 - val_precision: 0.7690 - val_recall: 0.7690\n",
            "Epoch 8/20\n",
            "309/309 [==============================] - 7s 24ms/step - loss: 0.1446 - accuracy: 0.9331 - precision: 0.9331 - recall: 0.9331 - val_loss: 0.9287 - val_accuracy: 0.7678 - val_precision: 0.7678 - val_recall: 0.7678\n",
            "Epoch 9/20\n",
            "309/309 [==============================] - 11s 35ms/step - loss: 0.1297 - accuracy: 0.9398 - precision: 0.9398 - recall: 0.9398 - val_loss: 0.9291 - val_accuracy: 0.7647 - val_precision: 0.7647 - val_recall: 0.7647\n",
            "Epoch 10/20\n",
            "309/309 [==============================] - 11s 34ms/step - loss: 0.1286 - accuracy: 0.9394 - precision: 0.9394 - recall: 0.9394 - val_loss: 0.8483 - val_accuracy: 0.7666 - val_precision: 0.7666 - val_recall: 0.7666\n",
            "Epoch 11/20\n",
            "309/309 [==============================] - 11s 35ms/step - loss: 0.1121 - accuracy: 0.9364 - precision: 0.9364 - recall: 0.9364 - val_loss: 0.9144 - val_accuracy: 0.7660 - val_precision: 0.7660 - val_recall: 0.7660\n",
            "Epoch 12/20\n",
            "309/309 [==============================] - 8s 27ms/step - loss: 0.0946 - accuracy: 0.9477 - precision: 0.9477 - recall: 0.9477 - val_loss: 1.1289 - val_accuracy: 0.7653 - val_precision: 0.7653 - val_recall: 0.7653\n",
            "Epoch 13/20\n",
            "309/309 [==============================] - 11s 36ms/step - loss: 0.1033 - accuracy: 0.9428 - precision: 0.9428 - recall: 0.9428 - val_loss: 0.9335 - val_accuracy: 0.7641 - val_precision: 0.7641 - val_recall: 0.7641\n",
            "Epoch 14/20\n",
            "309/309 [==============================] - 11s 37ms/step - loss: 0.1091 - accuracy: 0.9408 - precision: 0.9408 - recall: 0.9408 - val_loss: 1.0729 - val_accuracy: 0.7660 - val_precision: 0.7660 - val_recall: 0.7660\n",
            "Epoch 15/20\n",
            "309/309 [==============================] - 8s 27ms/step - loss: 0.1031 - accuracy: 0.9469 - precision: 0.9469 - recall: 0.9469 - val_loss: 1.0382 - val_accuracy: 0.7653 - val_precision: 0.7653 - val_recall: 0.7653\n",
            "Epoch 16/20\n",
            "309/309 [==============================] - 11s 35ms/step - loss: 0.0992 - accuracy: 0.9457 - precision: 0.9457 - recall: 0.9457 - val_loss: 0.8182 - val_accuracy: 0.7617 - val_precision: 0.7617 - val_recall: 0.7617\n",
            "Epoch 17/20\n",
            "309/309 [==============================] - 11s 36ms/step - loss: 0.0963 - accuracy: 0.9445 - precision: 0.9445 - recall: 0.9445 - val_loss: 1.1460 - val_accuracy: 0.7568 - val_precision: 0.7568 - val_recall: 0.7568\n",
            "Epoch 18/20\n",
            "309/309 [==============================] - 10s 33ms/step - loss: 0.0900 - accuracy: 0.9465 - precision: 0.9465 - recall: 0.9465 - val_loss: 1.1334 - val_accuracy: 0.7526 - val_precision: 0.7526 - val_recall: 0.7526\n",
            "Epoch 19/20\n",
            "309/309 [==============================] - 6s 19ms/step - loss: 0.0968 - accuracy: 0.9471 - precision: 0.9471 - recall: 0.9471 - val_loss: 1.1864 - val_accuracy: 0.7447 - val_precision: 0.7447 - val_recall: 0.7447\n",
            "Epoch 20/20\n",
            "309/309 [==============================] - 7s 23ms/step - loss: 0.0838 - accuracy: 0.9481 - precision: 0.9481 - recall: 0.9481 - val_loss: 1.2926 - val_accuracy: 0.7459 - val_precision: 0.7459 - val_recall: 0.7459\n"
          ]
        }
      ],
      "source": [
        "history = model.fit(X_train, y_train,\n",
        "                                        validation_data=(X_val, y_val),\n",
        "                                        batch_size=16, epochs=epochs, verbose=1)"
      ]
    },
    {
      "cell_type": "code",
      "execution_count": null,
      "metadata": {
        "colab": {
          "base_uri": "https://localhost:8080/"
        },
        "id": "wF8UyqJvE4fm",
        "outputId": "8ae9f3d3-54f5-4b32-ea82-7907e85bd89a"
      },
      "outputs": [
        {
          "output_type": "stream",
          "name": "stdout",
          "text": [
            "Accuracy  : 0.7477\n",
            "Precision : 0.7477\n",
            "Recall    : 0.7477\n",
            "F1 Score  : 0.7477\n"
          ]
        }
      ],
      "source": [
        "# Evaluate model on the test set\n",
        "loss, accuracy, precision, recall = model.evaluate(X_test, y_test, verbose=0)\n",
        "\n",
        "\n",
        "# Print metrics\n",
        "print('Accuracy  : {:.4f}'.format(accuracy))\n",
        "print('Precision : {:.4f}'.format(precision))\n",
        "print('Recall    : {:.4f}'.format(recall))\n",
        "print('F1 Score  : {:.4f}'.format(f1_score(precision, recall)))"
      ]
    },
    {
      "cell_type": "markdown",
      "metadata": {
        "id": "mr8un2Bkirsd"
      },
      "source": [
        "### Plot the curve for learning the model"
      ]
    },
    {
      "cell_type": "code",
      "execution_count": null,
      "metadata": {
        "colab": {
          "base_uri": "https://localhost:8080/",
          "height": 145
        },
        "id": "PEHntuXuFIHl",
        "outputId": "2b3ba99f-ccff-494a-a6cb-b32b89f6f7a2"
      },
      "outputs": [
        {
          "output_type": "display_data",
          "data": {
            "text/plain": [
              "<Figure size 1000x400 with 2 Axes>"
            ],
            "image/png": "[encoded data removed]"
          },
          "metadata": {}
        }
      ],
      "source": [
        "def plot_training_hist(history):\n",
        "    '''Function to plot history for accuracy and loss'''\n",
        "\n",
        "    fig, ax = plt.subplots(1, 2, figsize=(10,4))\n",
        "    # first plot\n",
        "    ax[0].plot(history.history['accuracy'])\n",
        "    ax[0].plot(history.history['val_accuracy'])\n",
        "    ax[0].set_title('Model Accuracy')\n",
        "    ax[0].set_xlabel('epoch')\n",
        "    ax[0].set_ylabel('accuracy')\n",
        "    ax[0].legend(['train', 'validation'], loc='best')\n",
        "\n",
        "\n",
        "\n",
        "\n",
        "    # second plot\n",
        "    ax[1].plot(history.history['loss'])\n",
        "    ax[1].plot(history.history['val_loss'])\n",
        "    ax[1].set_title('Model Loss')\n",
        "    ax[1].set_xlabel('epoch')\n",
        "    ax[1].set_ylabel('loss')\n",
        "    ax[1].legend(['train', 'validation'], loc='best')\n",
        "\n",
        "\n",
        "\n",
        " # Run the function\n",
        "plot_training_hist(history)"
      ]
    },
    {
      "cell_type": "code",
      "execution_count": null,
      "metadata": {
        "colab": {
          "base_uri": "https://localhost:8080/"
        },
        "id": "Ndh8VkTpGJD3",
        "outputId": "d65fbff9-5b93-4558-a798-600ca5209db0"
      },
      "outputs": [
        {
          "output_type": "stream",
          "name": "stdout",
          "text": [
            "52/52 [==============================] - 1s 6ms/step\n",
            "[[2.0429532e-07 9.9999970e-01]\n",
            " [4.7280735e-01 5.2719265e-01]\n",
            " [6.9741714e-07 9.9999923e-01]\n",
            " [2.5856622e-07 9.9999970e-01]\n",
            " [2.1103318e-07 9.9999970e-01]\n",
            " [9.9999756e-01 2.4289152e-06]\n",
            " [9.9999708e-01 2.8433167e-06]\n",
            " [2.2026504e-07 9.9999970e-01]\n",
            " [9.9999732e-01 2.6129098e-06]\n",
            " [1.2377751e-06 9.9999875e-01]]\n"
          ]
        }
      ],
      "source": [
        "# Model Prediction\n",
        "y_pred = model.predict(X_test)\n",
        "print(y_pred[:10])"
      ]
    },
    {
      "cell_type": "code",
      "execution_count": null,
      "metadata": {
        "colab": {
          "base_uri": "https://localhost:8080/",
          "height": 291
        },
        "id": "ZZfen5ozFLLp",
        "outputId": "e97d3e8d-50ca-489a-9304-5fe856f247db"
      },
      "outputs": [
        {
          "output_type": "stream",
          "name": "stdout",
          "text": [
            "52/52 [==============================] - 1s 10ms/step\n"
          ]
        },
        {
          "output_type": "display_data",
          "data": {
            "text/plain": [
              "<Figure size 800x600 with 2 Axes>"
            ],
            "image/png": "[encoded data removed]"
          },
          "metadata": {}
        }
      ],
      "source": [
        "# Plot the confusion matrix\n",
        "def plot_confusion_matrix(model, X_test, y_test):\n",
        "    '''Function to plot confusion matrix for the passed model and the data'''\n",
        "\n",
        "    sentiment_classes = ['0,' , '1 ']\n",
        "\n",
        "    # use model to do the prediction\n",
        "    y_pred = model.predict(X_test)\n",
        "\n",
        "    # compute confusion matrix\n",
        "    cm = confusion_matrix(np.argmax(np.array(y_test),axis=1), np.argmax(y_pred, axis=1))\n",
        "\n",
        "    # plot confusion matrix\n",
        "    plt.figure(figsize=(8,6))\n",
        "\n",
        "    sns.heatmap(cm, cmap=plt.cm.Blues, annot=True, fmt='d',\n",
        "                xticklabels=sentiment_classes,\n",
        "                yticklabels=sentiment_classes)\n",
        "\n",
        "    plt.title('Confusion matrix', fontsize=16)\n",
        "    plt.xlabel('Actual label', fontsize=12)\n",
        "    plt.ylabel('Predicted label', fontsize=12)\n",
        "\n",
        "plot_confusion_matrix(model, X_test, y_test)"
      ]
    },
    {
      "cell_type": "code",
      "execution_count": null,
      "metadata": {
        "colab": {
          "base_uri": "https://localhost:8080/"
        },
        "id": "sNhLITDLG95F",
        "outputId": "479ab2fa-9738-48ce-fbba-f5c458f4bc0b"
      },
      "outputs": [
        {
          "output_type": "stream",
          "name": "stdout",
          "text": [
            "Best model saved\n"
          ]
        },
        {
          "output_type": "stream",
          "name": "stderr",
          "text": [
            "/usr/local/lib/python3.10/dist-packages/keras/src/engine/training.py:3103: UserWarning: You are saving your model as an HDF5 file via `model.save()`. This file format is considered legacy. We recommend using instead the native Keras format, e.g. `model.save('my_model.keras')`.\n",
            "  saving_api.save_model(\n"
          ]
        }
      ],
      "source": [
        "# Save the model architecture & the weights\n",
        "model.save('best_model.h5')\n",
        "print('Best model saved')"
      ]
    },
    {
      "cell_type": "markdown",
      "metadata": {
        "id": "N4LK7rIUH6o1"
      },
      "source": [
        "#### Model Prediction."
      ]
    },
    {
      "cell_type": "code",
      "execution_count": null,
      "metadata": {
        "id": "W4d8u7ORGYpE"
      },
      "outputs": [],
      "source": [
        "# Load model\n",
        "model = load_model('/content/best_model.h5')\n",
        "\n",
        "def predict_class(text):\n",
        "    '''Function to predict kind of words class of the passed text'''\n",
        "\n",
        "    sentiment_classes = [' 0',\" 1  \"]\n",
        "    max_len=50\n",
        "\n",
        "    # Transforms text to a sequence of integers using a tokenizer object\n",
        "    xt = tokenizer.texts_to_sequences(text)\n",
        "    # Pad sequences to the same length\n",
        "    xt = pad_sequences(xt, padding='post', maxlen=max_len)\n",
        "    # Do the prediction using the loaded model\n",
        "    yt = model.predict(xt).argmax(axis=1)\n",
        "    # Print the predicted sentiment\n",
        "    print('The predicted kind of word is', sentiment_classes[yt[0]])"
      ]
    }
  ],
  "metadata": {
    "colab": {
      "provenance": [],
      "include_colab_link": true
    },
    "kernelspec": {
      "display_name": "Python 3",
      "name": "python3"
    },
    "language_info": {
      "name": "python"
    }
  },
  "nbformat": 4,
  "nbformat_minor": 0
}